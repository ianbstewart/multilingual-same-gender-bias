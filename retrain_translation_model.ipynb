{
 "cells": [
  {
   "cell_type": "markdown",
   "metadata": {},
   "source": [
    "# Retrain translation model\n",
    "\n",
    "Let's (1) assess the bias problem with a pretrained NMT model (from [MBART](https://huggingface.co/facebook/mbart-large-50); backup [here](https://huggingface.co/Helsinki-NLP/opus-mt-mul-en?text=el+ingeniero+se+cas%C3%B3+con+su+novio)); (2) retrain with same-gender and diff-gender data; (3) re-assess bias."
   ]
  },
  {
   "cell_type": "markdown",
   "metadata": {},
   "source": [
    "## Pretrain model\n",
    "Let's follow the procedure [here](https://colab.research.google.com/github/huggingface/notebooks/blob/master/examples/translation.ipynb#scrollTo=545PP3o8IrJV) to retrain the MBART model using ES-EN, FR-EN, IT-EN data from the TED talk corpus."
   ]
  },
  {
   "cell_type": "code",
   "execution_count": null,
   "metadata": {},
   "outputs": [],
   "source": [
    "from datasets import load_dataset\n"
   ]
  },
  {
   "cell_type": "code",
   "execution_count": null,
   "metadata": {},
   "outputs": [],
   "source": [
    "from transformers import AutoModelForSeq2SeqLM, AutoTokenizer\n",
    "model_name = 'facebook/mbart-large'\n",
    "model = AutoModelForSeq2SeqLM.from_pretrained(model_name, cache_dir='data/')\n",
    "tokenizer = AutoTokenizer.from_pretrained(model_name, cache_dir='data/')"
   ]
  },
  {
   "cell_type": "code",
   "execution_count": 2,
   "metadata": {
    "scrolled": true
   },
   "outputs": [
    {
     "data": {
      "text/plain": [
       "[\"The Committee recommends that the State party take all necessary measures to ensure that the right to adequate housing is guaranteed in the State party's next periodic report, and that the State party take all necessary measures to ensure that the right to adequate housing is guaranteed in its next periodic report.\"]"
      ]
     },
     "execution_count": 2,
     "metadata": {},
     "output_type": "execute_result"
    }
   ],
   "source": [
    "## load model\n",
    "# test \n",
    "from transformers import MBartForConditionalGeneration, MBart50Tokenizer\n",
    "model = MBartForConditionalGeneration.from_pretrained(\"facebook/mbart-large-50-many-to-many-mmt\", cache_dir='data/model_cache/')\n",
    "tokenizer = MBart50Tokenizer.from_pretrained(\"facebook/mbart-large-50-many-to-many-mmt\", cache_dir='data/model_cache/')\n",
    "# txt = \"उसने अपने पति को चूमा\"\n",
    "# tokenizer.src_lang = \"hi_IN\"\n",
    "# txt = \"la femme s'est mariée avec son épouse\"\n",
    "# tokenizer.src_lang = \"fr_XX\"\n",
    "## TODO: Spanish generates \"committee\" garbage\n",
    "txt = \"la mujer besó a su esposa\"\n",
    "tokenizer.src_lang = \"es_XX\"\n",
    "# txt = \"la donna baciò sua moglie\"\n",
    "# tokenizer.src_lang = \"it_IT\"\n",
    "encoded_hi = tokenizer(txt, return_tensors=\"pt\")\n",
    "generated_tokens = model.generate(**encoded_hi, forced_bos_token_id=tokenizer.lang_code_to_id[\"en_XX\"])\n",
    "tokenizer.batch_decode(generated_tokens, skip_special_tokens=True)\n",
    "# model_inputs = tokenizer(src_text, return_tensors='pt')\n",
    "# output = model.generate(**model_inputs, forced_bos_token_id=tokenizer.lang_code_to_id[\"en_XX\"])\n",
    "# print(tokenizer.batch_decode(output))"
   ]
  },
  {
   "cell_type": "markdown",
   "metadata": {},
   "source": [
    "## Load pretrained model"
   ]
  },
  {
   "cell_type": "code",
   "execution_count": 5,
   "metadata": {
    "scrolled": true
   },
   "outputs": [
    {
     "data": {
      "application/vnd.jupyter.widget-view+json": {
       "model_id": "dafca92159224e9fac66e8b741584ae4",
       "version_major": 2,
       "version_minor": 0
      },
      "text/plain": [
       "Downloading:   0%|          | 0.00/44.0 [00:00<?, ?B/s]"
      ]
     },
     "metadata": {},
     "output_type": "display_data"
    },
    {
     "data": {
      "application/vnd.jupyter.widget-view+json": {
       "model_id": "cfbad865b6664ecead8be003c76f9b54",
       "version_major": 2,
       "version_minor": 0
      },
      "text/plain": [
       "Downloading:   0%|          | 0.00/690k [00:00<?, ?B/s]"
      ]
     },
     "metadata": {},
     "output_type": "display_data"
    },
    {
     "data": {
      "application/vnd.jupyter.widget-view+json": {
       "model_id": "185c56050d0049368f5a450486cedcd6",
       "version_major": 2,
       "version_minor": 0
      },
      "text/plain": [
       "Downloading:   0%|          | 0.00/773k [00:00<?, ?B/s]"
      ]
     },
     "metadata": {},
     "output_type": "display_data"
    },
    {
     "data": {
      "application/vnd.jupyter.widget-view+json": {
       "model_id": "5e02c8b75f524f589282f5a4ea6bbd47",
       "version_major": 2,
       "version_minor": 0
      },
      "text/plain": [
       "Downloading:   0%|          | 0.00/1.36M [00:00<?, ?B/s]"
      ]
     },
     "metadata": {},
     "output_type": "display_data"
    }
   ],
   "source": [
    "from transformers import AutoModelForSeq2SeqLM, AutoTokenizer\n",
    "model_name = 'Helsinki-NLP/opus-mt-mul-en'\n",
    "model = AutoModelForSeq2SeqLM.from_pretrained(model_name, cache_dir='data/')\n",
    "tokenizer = AutoTokenizer.from_pretrained(model_name, cache_dir='data/')"
   ]
  },
  {
   "cell_type": "code",
   "execution_count": 18,
   "metadata": {
    "scrolled": true
   },
   "outputs": [
    {
     "name": "stdout",
     "output_type": "stream",
     "text": [
      "['<pad> the lawyer beats his girlfriend.']\n"
     ]
    }
   ],
   "source": [
    "import torch\n",
    "test_sent = 'el abogado besó a su novia'\n",
    "test_input = tokenizer(test_sent, return_tensors='pt')\n",
    "with torch.no_grad():\n",
    "    test_output = model.generate(**test_input)\n",
    "print(tokenizer.batch_decode(test_output))"
   ]
  },
  {
   "cell_type": "markdown",
   "metadata": {},
   "source": [
    "### Evaluate model on diff-gender, same-gender sentences\n",
    "Now that we've trained separate MT models on \"default\" data (EuroParl) and generated sample sentences for the same/diff gender sentences, let's see what the output looks like."
   ]
  },
  {
   "cell_type": "code",
   "execution_count": 53,
   "metadata": {
    "scrolled": true
   },
   "outputs": [
    {
     "data": {
      "text/html": [
       "<div>\n",
       "<style scoped>\n",
       "    .dataframe tbody tr th:only-of-type {\n",
       "        vertical-align: middle;\n",
       "    }\n",
       "\n",
       "    .dataframe tbody tr th {\n",
       "        vertical-align: top;\n",
       "    }\n",
       "\n",
       "    .dataframe thead th {\n",
       "        text-align: right;\n",
       "    }\n",
       "</style>\n",
       "<table border=\"1\" class=\"dataframe\">\n",
       "  <thead>\n",
       "    <tr style=\"text-align: right;\">\n",
       "      <th></th>\n",
       "      <th>sent</th>\n",
       "      <th>lang</th>\n",
       "      <th>subject_word</th>\n",
       "      <th>relationship_word</th>\n",
       "      <th>subject_gender</th>\n",
       "      <th>relationship_topic</th>\n",
       "      <th>relationship_gender</th>\n",
       "      <th>relationship_type</th>\n",
       "      <th>subject_word_en</th>\n",
       "      <th>relationship_word_en</th>\n",
       "      <th>relationship_word_category</th>\n",
       "      <th>sent_en</th>\n",
       "    </tr>\n",
       "  </thead>\n",
       "  <tbody>\n",
       "    <tr>\n",
       "      <th>0</th>\n",
       "      <td>el autor conoció a su novio en una cita.</td>\n",
       "      <td>es</td>\n",
       "      <td>autor</td>\n",
       "      <td>novio</td>\n",
       "      <td>male</td>\n",
       "      <td>date</td>\n",
       "      <td>male</td>\n",
       "      <td>same_gender</td>\n",
       "      <td>author</td>\n",
       "      <td>boyfriend</td>\n",
       "      <td>FRIEND</td>\n",
       "      <td>the author met his boyfriend on a date.</td>\n",
       "    </tr>\n",
       "    <tr>\n",
       "      <th>1</th>\n",
       "      <td>l'auteur a rencontré son petit ami à un rendez...</td>\n",
       "      <td>fr</td>\n",
       "      <td>auteur</td>\n",
       "      <td>petit ami</td>\n",
       "      <td>male</td>\n",
       "      <td>date</td>\n",
       "      <td>male</td>\n",
       "      <td>same_gender</td>\n",
       "      <td>author</td>\n",
       "      <td>boyfriend</td>\n",
       "      <td>FRIEND</td>\n",
       "      <td>the author met his boyfriend on a date.</td>\n",
       "    </tr>\n",
       "    <tr>\n",
       "      <th>2</th>\n",
       "      <td>l'autore ha incontrato il suo ragazzo ad un ap...</td>\n",
       "      <td>it</td>\n",
       "      <td>autore</td>\n",
       "      <td>ragazzo</td>\n",
       "      <td>male</td>\n",
       "      <td>date</td>\n",
       "      <td>male</td>\n",
       "      <td>same_gender</td>\n",
       "      <td>author</td>\n",
       "      <td>boyfriend</td>\n",
       "      <td>FRIEND</td>\n",
       "      <td>the author met his boyfriend on a date.</td>\n",
       "    </tr>\n",
       "    <tr>\n",
       "      <th>3</th>\n",
       "      <td>el autor conoció a su prometido en una cita.</td>\n",
       "      <td>es</td>\n",
       "      <td>autor</td>\n",
       "      <td>prometido</td>\n",
       "      <td>male</td>\n",
       "      <td>date</td>\n",
       "      <td>male</td>\n",
       "      <td>same_gender</td>\n",
       "      <td>author</td>\n",
       "      <td>fiance</td>\n",
       "      <td>ENGAGE</td>\n",
       "      <td>the author met his fiancé on a date.</td>\n",
       "    </tr>\n",
       "    <tr>\n",
       "      <th>4</th>\n",
       "      <td>l'auteur a rencontré son fiancé à un rendez-vous.</td>\n",
       "      <td>fr</td>\n",
       "      <td>auteur</td>\n",
       "      <td>fiancé</td>\n",
       "      <td>male</td>\n",
       "      <td>date</td>\n",
       "      <td>male</td>\n",
       "      <td>same_gender</td>\n",
       "      <td>author</td>\n",
       "      <td>fiance</td>\n",
       "      <td>ENGAGE</td>\n",
       "      <td>the author met his fiancé on a date.</td>\n",
       "    </tr>\n",
       "  </tbody>\n",
       "</table>\n",
       "</div>"
      ],
      "text/plain": [
       "                                                sent lang subject_word  \\\n",
       "0           el autor conoció a su novio en una cita.   es        autor   \n",
       "1  l'auteur a rencontré son petit ami à un rendez...   fr       auteur   \n",
       "2  l'autore ha incontrato il suo ragazzo ad un ap...   it       autore   \n",
       "3       el autor conoció a su prometido en una cita.   es        autor   \n",
       "4  l'auteur a rencontré son fiancé à un rendez-vous.   fr       auteur   \n",
       "\n",
       "  relationship_word subject_gender relationship_topic relationship_gender  \\\n",
       "0             novio           male               date                male   \n",
       "1         petit ami           male               date                male   \n",
       "2           ragazzo           male               date                male   \n",
       "3         prometido           male               date                male   \n",
       "4            fiancé           male               date                male   \n",
       "\n",
       "  relationship_type subject_word_en relationship_word_en  \\\n",
       "0       same_gender          author            boyfriend   \n",
       "1       same_gender          author            boyfriend   \n",
       "2       same_gender          author            boyfriend   \n",
       "3       same_gender          author               fiance   \n",
       "4       same_gender          author               fiance   \n",
       "\n",
       "  relationship_word_category                                  sent_en  \n",
       "0                     FRIEND  the author met his boyfriend on a date.  \n",
       "1                     FRIEND  the author met his boyfriend on a date.  \n",
       "2                     FRIEND  the author met his boyfriend on a date.  \n",
       "3                     ENGAGE     the author met his fiancé on a date.  \n",
       "4                     ENGAGE     the author met his fiancé on a date.  "
      ]
     },
     "metadata": {},
     "output_type": "display_data"
    }
   ],
   "source": [
    "## load data\n",
    "import pandas as pd\n",
    "relationship_sentence_data = pd.read_csv('data/MT/translation_data_type=relationship_sentences.gz',\n",
    "                                         sep='\\t', compression='gzip')\n",
    "# fix spacing??\n",
    "relationship_sentence_data = relationship_sentence_data.assign(**{'sent' : relationship_sentence_data.loc[:, 'sent'].apply(lambda x: x.strip())})\n",
    "display(relationship_sentence_data.head())"
   ]
  },
  {
   "cell_type": "code",
   "execution_count": 57,
   "metadata": {},
   "outputs": [
    {
     "data": {
      "text/html": [
       "<div>\n",
       "<style scoped>\n",
       "    .dataframe tbody tr th:only-of-type {\n",
       "        vertical-align: middle;\n",
       "    }\n",
       "\n",
       "    .dataframe tbody tr th {\n",
       "        vertical-align: top;\n",
       "    }\n",
       "\n",
       "    .dataframe thead th {\n",
       "        text-align: right;\n",
       "    }\n",
       "</style>\n",
       "<table border=\"1\" class=\"dataframe\">\n",
       "  <thead>\n",
       "    <tr style=\"text-align: right;\">\n",
       "      <th></th>\n",
       "      <th>sent</th>\n",
       "      <th>sent_en</th>\n",
       "      <th>pred</th>\n",
       "      <th>lang</th>\n",
       "    </tr>\n",
       "  </thead>\n",
       "  <tbody>\n",
       "    <tr>\n",
       "      <th>0</th>\n",
       "      <td>el autor conoció a su novio en una cita.</td>\n",
       "      <td>the author met his boyfriend on a date.</td>\n",
       "      <td>The author met his new partner on a date.</td>\n",
       "      <td>es</td>\n",
       "    </tr>\n",
       "    <tr>\n",
       "      <th>1</th>\n",
       "      <td>el autor conoció a su prometido en una cita.</td>\n",
       "      <td>the author met his fiancé on a date.</td>\n",
       "      <td>The author met his promised son in a speech.</td>\n",
       "      <td>es</td>\n",
       "    </tr>\n",
       "    <tr>\n",
       "      <th>2</th>\n",
       "      <td>el autor conoció a su esposo en una cita.</td>\n",
       "      <td>the author met his husband on a date.</td>\n",
       "      <td>The author met his spouse at a date.</td>\n",
       "      <td>es</td>\n",
       "    </tr>\n",
       "    <tr>\n",
       "      <th>3</th>\n",
       "      <td>el panadero conoció a su novio en una cita.</td>\n",
       "      <td>the baker met his boyfriend on a date.</td>\n",
       "      <td>The panader met his new partner at a date.</td>\n",
       "      <td>es</td>\n",
       "    </tr>\n",
       "    <tr>\n",
       "      <th>4</th>\n",
       "      <td>el panadero conoció a su prometido en una cita.</td>\n",
       "      <td>the baker met his fiancé on a date.</td>\n",
       "      <td>The panader met his promise on a date.</td>\n",
       "      <td>es</td>\n",
       "    </tr>\n",
       "  </tbody>\n",
       "</table>\n",
       "</div>"
      ],
      "text/plain": [
       "                                              sent  \\\n",
       "0         el autor conoció a su novio en una cita.   \n",
       "1     el autor conoció a su prometido en una cita.   \n",
       "2        el autor conoció a su esposo en una cita.   \n",
       "3      el panadero conoció a su novio en una cita.   \n",
       "4  el panadero conoció a su prometido en una cita.   \n",
       "\n",
       "                                   sent_en  \\\n",
       "0  the author met his boyfriend on a date.   \n",
       "1     the author met his fiancé on a date.   \n",
       "2    the author met his husband on a date.   \n",
       "3   the baker met his boyfriend on a date.   \n",
       "4      the baker met his fiancé on a date.   \n",
       "\n",
       "                                           pred lang  \n",
       "0     The author met his new partner on a date.   es  \n",
       "1  The author met his promised son in a speech.   es  \n",
       "2          The author met his spouse at a date.   es  \n",
       "3    The panader met his new partner at a date.   es  \n",
       "4        The panader met his promise on a date.   es  "
      ]
     },
     "metadata": {},
     "output_type": "display_data"
    },
    {
     "name": "stdout",
     "output_type": "stream",
     "text": [
      "(5640, 13)\n",
      "(5640, 12)\n"
     ]
    }
   ],
   "source": [
    "## load generated data\n",
    "langs = relationship_sentence_data.loc[:, 'lang'].unique()\n",
    "generated_data = []\n",
    "for lang_i in langs:\n",
    "    generated_data_file_i = f'data/MT/translation_data_type=relationship_lang={lang_i}/test_data_output.gz'\n",
    "    generated_data_i = pd.read_csv(generated_data_file_i, sep='\\t', compression='gzip')\n",
    "    generated_data_i = generated_data_i.assign(**{'lang' : lang_i})\n",
    "    generated_data.append(generated_data_i)\n",
    "generated_data = pd.concat(generated_data).rename(columns={'input' : 'sent', 'output' : 'sent_en'})\n",
    "display(generated_data.head())\n",
    "## combine\n",
    "generated_data = pd.merge(generated_data, relationship_sentence_data, on=['sent', 'sent_en', 'lang'])\n",
    "print(generated_data.shape)\n",
    "print(relationship_sentence_data.shape)"
   ]
  },
  {
   "cell_type": "code",
   "execution_count": 65,
   "metadata": {},
   "outputs": [
    {
     "data": {
      "text/plain": [
       "(2949, 14)"
      ]
     },
     "execution_count": 65,
     "metadata": {},
     "output_type": "execute_result"
    }
   ],
   "source": [
    "generated_data[generated_data.loc[:, 'pred'].apply(lambda x: 'her' in x)].shape"
   ]
  },
  {
   "cell_type": "code",
   "execution_count": 76,
   "metadata": {},
   "outputs": [
    {
     "data": {
      "text/html": [
       "<div>\n",
       "<style scoped>\n",
       "    .dataframe tbody tr th:only-of-type {\n",
       "        vertical-align: middle;\n",
       "    }\n",
       "\n",
       "    .dataframe tbody tr th {\n",
       "        vertical-align: top;\n",
       "    }\n",
       "\n",
       "    .dataframe thead th {\n",
       "        text-align: right;\n",
       "    }\n",
       "</style>\n",
       "<table border=\"1\" class=\"dataframe\">\n",
       "  <thead>\n",
       "    <tr style=\"text-align: right;\">\n",
       "      <th></th>\n",
       "      <th>subject_gender</th>\n",
       "      <th>relationship_type</th>\n",
       "      <th>match_pct</th>\n",
       "    </tr>\n",
       "  </thead>\n",
       "  <tbody>\n",
       "    <tr>\n",
       "      <th>0</th>\n",
       "      <td>female</td>\n",
       "      <td>diff_gender</td>\n",
       "      <td>0.924113</td>\n",
       "    </tr>\n",
       "    <tr>\n",
       "      <th>1</th>\n",
       "      <td>female</td>\n",
       "      <td>same_gender</td>\n",
       "      <td>0.851773</td>\n",
       "    </tr>\n",
       "    <tr>\n",
       "      <th>2</th>\n",
       "      <td>male</td>\n",
       "      <td>diff_gender</td>\n",
       "      <td>0.912766</td>\n",
       "    </tr>\n",
       "    <tr>\n",
       "      <th>3</th>\n",
       "      <td>male</td>\n",
       "      <td>same_gender</td>\n",
       "      <td>0.879433</td>\n",
       "    </tr>\n",
       "  </tbody>\n",
       "</table>\n",
       "</div>"
      ],
      "text/plain": [
       "  subject_gender relationship_type  match_pct\n",
       "0         female       diff_gender   0.924113\n",
       "1         female       same_gender   0.851773\n",
       "2           male       diff_gender   0.912766\n",
       "3           male       same_gender   0.879433"
      ]
     },
     "metadata": {},
     "output_type": "display_data"
    },
    {
     "data": {
      "text/html": [
       "<div>\n",
       "<style scoped>\n",
       "    .dataframe tbody tr th:only-of-type {\n",
       "        vertical-align: middle;\n",
       "    }\n",
       "\n",
       "    .dataframe tbody tr th {\n",
       "        vertical-align: top;\n",
       "    }\n",
       "\n",
       "    .dataframe thead th {\n",
       "        text-align: right;\n",
       "    }\n",
       "</style>\n",
       "<table border=\"1\" class=\"dataframe\">\n",
       "  <thead>\n",
       "    <tr style=\"text-align: right;\">\n",
       "      <th></th>\n",
       "      <th>lang</th>\n",
       "      <th>relationship_type</th>\n",
       "      <th>match_pct</th>\n",
       "    </tr>\n",
       "  </thead>\n",
       "  <tbody>\n",
       "    <tr>\n",
       "      <th>0</th>\n",
       "      <td>es</td>\n",
       "      <td>diff_gender</td>\n",
       "      <td>0.951852</td>\n",
       "    </tr>\n",
       "    <tr>\n",
       "      <th>1</th>\n",
       "      <td>es</td>\n",
       "      <td>same_gender</td>\n",
       "      <td>0.899074</td>\n",
       "    </tr>\n",
       "    <tr>\n",
       "      <th>2</th>\n",
       "      <td>fr</td>\n",
       "      <td>diff_gender</td>\n",
       "      <td>0.954902</td>\n",
       "    </tr>\n",
       "    <tr>\n",
       "      <th>3</th>\n",
       "      <td>fr</td>\n",
       "      <td>same_gender</td>\n",
       "      <td>0.887255</td>\n",
       "    </tr>\n",
       "    <tr>\n",
       "      <th>4</th>\n",
       "      <td>it</td>\n",
       "      <td>diff_gender</td>\n",
       "      <td>0.816667</td>\n",
       "    </tr>\n",
       "    <tr>\n",
       "      <th>5</th>\n",
       "      <td>it</td>\n",
       "      <td>same_gender</td>\n",
       "      <td>0.784722</td>\n",
       "    </tr>\n",
       "  </tbody>\n",
       "</table>\n",
       "</div>"
      ],
      "text/plain": [
       "  lang relationship_type  match_pct\n",
       "0   es       diff_gender   0.951852\n",
       "1   es       same_gender   0.899074\n",
       "2   fr       diff_gender   0.954902\n",
       "3   fr       same_gender   0.887255\n",
       "4   it       diff_gender   0.816667\n",
       "5   it       same_gender   0.784722"
      ]
     },
     "metadata": {},
     "output_type": "display_data"
    }
   ],
   "source": [
    "from importlib import reload\n",
    "import data_helpers\n",
    "reload(data_helpers)\n",
    "from data_helpers import match_category\n",
    "from nltk.tokenize import WordPunctTokenizer\n",
    "import re\n",
    "MALE_PRO_MATCHER = re.compile('his')\n",
    "FEMALE_PRO_MATCHER = re.compile('her')\n",
    "matchers = [\n",
    "    ('male', MALE_PRO_MATCHER),\n",
    "    ('female', FEMALE_PRO_MATCHER),\n",
    "]\n",
    "tokenizer = WordPunctTokenizer()\n",
    "generated_data = generated_data.assign(**{\n",
    "    'subject_gender_pred' : generated_data.loc[:, 'pred'].apply(lambda x: match_category(tokenizer.tokenize(x), matchers))\n",
    "})\n",
    "generated_data = generated_data.assign(**{\n",
    "    'subject_gender_match' : (generated_data.loc[:, 'subject_gender']==generated_data.loc[:, 'subject_gender_pred']).astype(int),\n",
    "})\n",
    "display(generated_data.groupby(['subject_gender', 'relationship_type']).apply(lambda x: x.loc[:, 'subject_gender_match'].mean()).reset_index(name='match_pct'))\n",
    "display(generated_data.groupby(['lang', 'relationship_type']).apply(lambda x: x.loc[:, 'subject_gender_match'].mean()).reset_index(name='match_pct'))"
   ]
  },
  {
   "cell_type": "markdown",
   "metadata": {},
   "source": [
    "OK! We have first (small) proof that training on default data produces a slight bias. \n",
    "\n",
    "Let's get some graphs to verify the significance."
   ]
  },
  {
   "cell_type": "code",
   "execution_count": 80,
   "metadata": {
    "scrolled": true
   },
   "outputs": [
    {
     "data": {
      "image/png": "[encoded data removed]",
      "text/plain": [
       "<Figure size 432x288 with 1 Axes>"
      ]
     },
     "metadata": {
      "needs_background": "light"
     },
     "output_type": "display_data"
    },
    {
     "data": {
      "image/png": "[encoded data removed]",
      "text/plain": [
       "<Figure size 432x288 with 1 Axes>"
      ]
     },
     "metadata": {
      "needs_background": "light"
     },
     "output_type": "display_data"
    },
    {
     "data": {
      "image/png": "[encoded data removed]",
      "text/plain": [
       "<Figure size 432x288 with 1 Axes>"
      ]
     },
     "metadata": {
      "needs_background": "light"
     },
     "output_type": "display_data"
    }
   ],
   "source": [
    "import matplotlib\n",
    "%matplotlib inline\n",
    "import matplotlib.pyplot as plt\n",
    "import seaborn as sns\n",
    "## flatten data for plot\n",
    "flat_generated_data = pd.melt(generated_data, id_vars=['sent', 'relationship_type', 'subject_gender', 'lang'],\n",
    "                              value_vars=['subject_gender_match'], value_name='match', var_name='match_type')\n",
    "## overall\n",
    "sns.barplot(data=flat_generated_data, y='relationship_type', x='match')\n",
    "plt.show()\n",
    "## per-type\n",
    "type_vars = ['subject_gender', 'lang']\n",
    "for type_var_i in type_vars:\n",
    "    sns.barplot(data=flat_generated_data, y=type_var_i, x='match', hue='relationship_type')\n",
    "    plt.show()"
   ]
  },
  {
   "cell_type": "code",
   "execution_count": null,
   "metadata": {},
   "outputs": [],
   "source": []
  }
 ],
 "metadata": {
  "kernelspec": {
   "display_name": "Python [conda env:py3] *",
   "language": "python",
   "name": "conda-env-py3-py"
  },
  "language_info": {
   "codemirror_mode": {
    "name": "ipython",
    "version": 3
   },
   "file_extension": ".py",
   "mimetype": "text/x-python",
   "name": "python",
   "nbconvert_exporter": "python",
   "pygments_lexer": "ipython3",
   "version": "3.8.5"
  }
 },
 "nbformat": 4,
 "nbformat_minor": 4
}
