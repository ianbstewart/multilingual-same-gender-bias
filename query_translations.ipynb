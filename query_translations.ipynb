{
 "cells": [
  {
   "cell_type": "markdown",
   "metadata": {},
   "source": [
    "# Query translations"
   ]
  },
  {
   "cell_type": "code",
   "execution_count": 8,
   "metadata": {
    "scrolled": true
   },
   "outputs": [
    {
     "name": "stdout",
     "output_type": "stream",
     "text": [
      "Translated(src=it, dest=en, text=The man kissed her husband, pronunciation=None, extra_data=\"{'confiden...\")\n"
     ]
    }
   ],
   "source": [
    "# # ugly raw HTML\n",
    "# import requests\n",
    "# test_url = 'https://translate.google.com/?sl=it&tl=en&text=la%20sposa&op=translate'\n",
    "# test_response = requests.get(test_url)\n",
    "# print(test_response)\n",
    "from googletrans import Translator\n",
    "translator = Translator()\n",
    "test_query = \"l'uomo ha baciato suo marito\"\n",
    "test_lang = 'it'\n",
    "test_query_trans = translator.translate(test_query, dest='en', src='it')\n",
    "print(test_query_trans)"
   ]
  },
  {
   "cell_type": "markdown",
   "metadata": {},
   "source": [
    "### Query translations: POSSESSIVE\n",
    "In which we test the tendency of the ML system to assume that `MALE` subjects cannot have `MALE` relationship targets, e.g. P(\"his boyfriend\" | \"the man kissed\") < P(\"his girlfriend\" | \"the man kissed\")."
   ]
  },
  {
   "cell_type": "markdown",
   "metadata": {},
   "source": [
    "Let's build the queries:\n",
    "\n",
    "X ACTION PRONOUN Y"
   ]
  },
  {
   "cell_type": "code",
   "execution_count": 52,
   "metadata": {
    "collapsed": true
   },
   "outputs": [],
   "source": [
    "import re\n",
    "from unidecode import unidecode\n",
    "VOWEL_MATCHER = re.compile('^[aeiou].+')\n",
    "def build_sentence(lang, subject_word, sentence, article_pronoun_lookup, poss_pronoun_lookup, relationship_word_gender, relationship_word):\n",
    "    poss_pronoun = poss_pronoun_lookup[relationship_word_gender]\n",
    "    subject_word_pronoun = article_pronoun_lookup[relationship_word_gender]\n",
    "    # clean up pronouns: catch vowels\n",
    "    clean_subject_word = unidecode(subject_word)\n",
    "    if(VOWEL_MATCHER.match(clean_subject_word)):\n",
    "        if(lang == 'fr' or lang=='it'):\n",
    "            subject_word_pronoun = \"l'\"\n",
    "    clean_relationship_word = unidecode(relationship_word)\n",
    "    if(VOWEL_MATCHER.match(clean_relationship_word)):\n",
    "        if(lang == 'fr'):\n",
    "            poss_pronoun = \"son\"\n",
    "    # add extra space for pronoun\n",
    "    if(subject_word_pronoun != \"l'\"):\n",
    "        subject_word_pronoun += ' '\n",
    "    subject_word_NP = f'{subject_word_pronoun}{subject_word}'\n",
    "    replacement_pairs = [\n",
    "        ('X', subject_word_NP), ('PRON', poss_pronoun), ('Y', relationship_word)\n",
    "    ]\n",
    "    for x, y in replacement_pairs:\n",
    "        sentence = sentence.replace(x,y)\n",
    "    return sentence"
   ]
  },
  {
   "cell_type": "code",
   "execution_count": 38,
   "metadata": {
    "collapsed": true
   },
   "outputs": [],
   "source": [
    "import pandas as pd\n",
    "occupation_words = pd.read_csv('data/multilingual_gender_occupations.tsv', sep='\\t', index_col=False)\n",
    "relationship_words = pd.read_csv('data/multilingual_relationship_words.tsv', sep='\\t', index_col=False)\n",
    "relationship_sents = pd.read_csv('data/multilingual_relationship_sentences.tsv', sep='\\t', index_col=False)\n",
    "langs = ['es', 'fr', 'it']\n",
    "lang_art_PRON_lookup = {\n",
    "    'es' : {\n",
    "        'female' : 'la',\n",
    "        'male' : 'el',\n",
    "    },\n",
    "    'fr' : {\n",
    "        'female' : 'la',\n",
    "        'male' : 'le',\n",
    "    },\n",
    "    'it' : {\n",
    "        'female' : 'la',\n",
    "        'male' : 'il',\n",
    "    }\n",
    "}\n",
    "lang_POSS_PRON_lookup = {\n",
    "    'es' : {\n",
    "        'female' : 'su',\n",
    "        'male' : 'su',\n",
    "    },\n",
    "    'fr' : {\n",
    "        'female' : 'sa',\n",
    "        'male' : 'son',\n",
    "    },\n",
    "    'it' : {\n",
    "        'female' : 'la sua',\n",
    "        'male' : 'il suo',\n",
    "    }\n",
    "}"
   ]
  },
  {
   "cell_type": "code",
   "execution_count": 53,
   "metadata": {},
   "outputs": [
    {
     "name": "stdout",
     "output_type": "stream",
     "text": [
      "el hombre conoció a su novio en una cita.\n",
      "la femme a rencontré son épouse à un rendez-vous.\n",
      "l'avvocat ha incontrato la sua ragazza ad un appuntamento.\n"
     ]
    }
   ],
   "source": [
    "test_sent_data = [\n",
    "    ('es', 'X conoció a PRON Y en una cita.', 'hombre', 'male', 'novio'),\n",
    "    ('fr', 'X a rencontré PRON Y à un rendez-vous.', 'femme', 'female', 'épouse'),\n",
    "    ('it', 'X ha incontrato PRON Y ad un appuntamento.', 'avvocat', 'female', 'ragazza'),\n",
    "]\n",
    "for lang, test_sent, subject_word, relationship_word_gender, relationship_word in test_sent_data:\n",
    "    article_pronoun_lookup = lang_art_PRON_lookup[lang]\n",
    "    poss_pronoun_lookup = lang_POSS_PRON_lookup[lang]\n",
    "    print(build_sentence(lang, subject_word, test_sent, article_pronoun_lookup, poss_pronoun_lookup, relationship_word_gender, relationship_word))"
   ]
  },
  {
   "cell_type": "code",
   "execution_count": 127,
   "metadata": {
    "collapsed": true
   },
   "outputs": [],
   "source": [
    "from itertools import product\n",
    "langs = ['es', 'fr', 'it']\n",
    "final_sentence_data = []\n",
    "for lang_i in langs:\n",
    "    article_pronoun_lookup_i = lang_art_PRON_lookup[lang_i]\n",
    "    poss_pronoun_lookup_i = lang_POSS_PRON_lookup[lang_i]\n",
    "    sents_i = relationship_sents.loc[:, f'{lang_i}_sentence'].values\n",
    "    # limit to different occupations\n",
    "    occupation_words_i = occupation_words[occupation_words.loc[:, f'{lang_i}_female']!=occupation_words.loc[:, f'{lang_i}_male']]\n",
    "    female_occupation_words_i = occupation_words_i.loc[:, f'{lang_i}_female'].values\n",
    "    male_occupation_words_i = occupation_words_i.loc[:, f'{lang_i}_male'].values\n",
    "    female_relationship_words_i = relationship_words.loc[:, f'{lang_i}_female'].values\n",
    "    male_relationship_words_i = relationship_words.loc[:, f'{lang_i}_male'].values\n",
    "    male_occupation_relationship_combos_i = list(product(male_occupation_words_i, male_relationship_words_i))\n",
    "    female_occupation_relationship_combos_i = list(product(female_occupation_words_i, female_relationship_words_i))\n",
    "    for sent_j in sents_i:\n",
    "        for subject_word_k, relationship_word_k in male_occupation_relationship_combos_i:\n",
    "            final_sent_j = build_sentence(lang_i, subject_word_k, sent_j, article_pronoun_lookup_i, poss_pronoun_lookup_i, 'male', relationship_word_k)\n",
    "            final_sentence_data.append([final_sent_j, lang_i, subject_word_k, relationship_word_k, 'male'])\n",
    "        for subject_word_k, relationship_word_k in female_occupation_relationship_combos_i:\n",
    "            final_sent_j = build_sentence(lang_i, subject_word_k, sent_j, article_pronoun_lookup_i, poss_pronoun_lookup_i, 'female', relationship_word_k)\n",
    "            final_sentence_data.append([final_sent_j, lang_i, subject_word_k, relationship_word_k, 'female'])\n",
    "final_sentence_data = pd.DataFrame(final_sentence_data, columns=['sent', 'lang', 'subject_word', 'relationship_word', 'gender'])"
   ]
  },
  {
   "cell_type": "code",
   "execution_count": 129,
   "metadata": {
    "scrolled": true
   },
   "outputs": [
    {
     "name": "stdout",
     "output_type": "stream",
     "text": [
      "2820\n"
     ]
    },
    {
     "data": {
      "text/html": [
       "<div>\n",
       "<style scoped>\n",
       "    .dataframe tbody tr th:only-of-type {\n",
       "        vertical-align: middle;\n",
       "    }\n",
       "\n",
       "    .dataframe tbody tr th {\n",
       "        vertical-align: top;\n",
       "    }\n",
       "\n",
       "    .dataframe thead th {\n",
       "        text-align: right;\n",
       "    }\n",
       "</style>\n",
       "<table border=\"1\" class=\"dataframe\">\n",
       "  <thead>\n",
       "    <tr style=\"text-align: right;\">\n",
       "      <th></th>\n",
       "      <th>sent</th>\n",
       "      <th>lang</th>\n",
       "      <th>subject_word</th>\n",
       "      <th>relationship_word</th>\n",
       "      <th>gender</th>\n",
       "    </tr>\n",
       "  </thead>\n",
       "  <tbody>\n",
       "    <tr>\n",
       "      <th>0</th>\n",
       "      <td>el autor conoció a su novio en una cita.</td>\n",
       "      <td>es</td>\n",
       "      <td>autor</td>\n",
       "      <td>novio</td>\n",
       "      <td>male</td>\n",
       "    </tr>\n",
       "    <tr>\n",
       "      <th>1</th>\n",
       "      <td>el autor conoció a su prometido en una cita.</td>\n",
       "      <td>es</td>\n",
       "      <td>autor</td>\n",
       "      <td>prometido</td>\n",
       "      <td>male</td>\n",
       "    </tr>\n",
       "    <tr>\n",
       "      <th>2</th>\n",
       "      <td>el autor conoció a su esposo en una cita.</td>\n",
       "      <td>es</td>\n",
       "      <td>autor</td>\n",
       "      <td>esposo</td>\n",
       "      <td>male</td>\n",
       "    </tr>\n",
       "    <tr>\n",
       "      <th>3</th>\n",
       "      <td>el panadero conoció a su novio en una cita.</td>\n",
       "      <td>es</td>\n",
       "      <td>panadero</td>\n",
       "      <td>novio</td>\n",
       "      <td>male</td>\n",
       "    </tr>\n",
       "    <tr>\n",
       "      <th>4</th>\n",
       "      <td>el panadero conoció a su prometido en una cita.</td>\n",
       "      <td>es</td>\n",
       "      <td>panadero</td>\n",
       "      <td>prometido</td>\n",
       "      <td>male</td>\n",
       "    </tr>\n",
       "  </tbody>\n",
       "</table>\n",
       "</div>"
      ],
      "text/plain": [
       "                                               sent lang subject_word  \\\n",
       "0         el autor conoció a su novio en una cita.    es        autor   \n",
       "1     el autor conoció a su prometido en una cita.    es        autor   \n",
       "2        el autor conoció a su esposo en una cita.    es        autor   \n",
       "3      el panadero conoció a su novio en una cita.    es     panadero   \n",
       "4  el panadero conoció a su prometido en una cita.    es     panadero   \n",
       "\n",
       "  relationship_word gender  \n",
       "0             novio   male  \n",
       "1         prometido   male  \n",
       "2            esposo   male  \n",
       "3             novio   male  \n",
       "4         prometido   male  "
      ]
     },
     "metadata": {},
     "output_type": "display_data"
    }
   ],
   "source": [
    "print(final_sentence_data.shape[0])\n",
    "display(final_sentence_data.head())"
   ]
  },
  {
   "cell_type": "code",
   "execution_count": 131,
   "metadata": {},
   "outputs": [
    {
     "name": "stdout",
     "output_type": "stream",
     "text": [
      "The baker met her husband on an appointment.\n"
     ]
    }
   ],
   "source": [
    "from googletrans import Translator\n",
    "translator = Translator()\n",
    "test_sentence_data = final_sentence_data.iloc[5, :]\n",
    "test_sentence_trans = translator.translate(test_sentence_data.loc['sent'], dest='en', src=test_sentence_data.loc['lang'])\n",
    "print(test_sentence_trans.text)"
   ]
  },
  {
   "cell_type": "code",
   "execution_count": 135,
   "metadata": {},
   "outputs": [
    {
     "name": "stderr",
     "output_type": "stream",
     "text": [
      "100%|██████████| 1620/1620 [47:48<00:00,  1.77s/it]\n"
     ]
    }
   ],
   "source": [
    "from time import sleep\n",
    "from tqdm import tqdm\n",
    "SLEEP_TIME = 1\n",
    "# final_sentence_translations = []\n",
    "translator = Translator()\n",
    "for idx_i, sentence_data_i in tqdm(list(final_sentence_data.iterrows())[len(final_sentence_translations):]):\n",
    "    translation_i = translator.translate(sentence_data_i.loc['sent'], dest='en', src=sentence_data_i.loc['lang'])\n",
    "    final_sentence_translations.append(translation_i)\n",
    "    try:\n",
    "        sleep(SLEEP_TIME)\n",
    "    except Exception as e:\n",
    "        pass"
   ]
  },
  {
   "cell_type": "code",
   "execution_count": 136,
   "metadata": {
    "collapsed": true
   },
   "outputs": [],
   "source": [
    "final_sentence_data = final_sentence_data.assign(**{\n",
    "    'translation' : final_sentence_translations\n",
    "})\n",
    "final_sentence_data = final_sentence_data.assign(**{\n",
    "    'translation_txt' : final_sentence_data.loc[:, 'translation'].apply(lambda x: x.text)\n",
    "})\n",
    "final_sentence_data.to_csv('data/multilingual_occupation_relationship=samegender_translations.gz', compression='gzip', sep='\\t', index=False)"
   ]
  },
  {
   "cell_type": "code",
   "execution_count": 137,
   "metadata": {
    "collapsed": true
   },
   "outputs": [],
   "source": [
    "import re\n",
    "def extract_subject_relationship_gender(data, relationship_words):\n",
    "    ## get gender of possessive pronoun for subject + gender of relationship word\n",
    "    pronoun_matcher = re.compile('his|her')\n",
    "    pronoun_gender_lookup = {'his' : 'male', 'her' : 'female'}\n",
    "    en_female_relationship_words = relationship_words.loc[:, 'en_female'].apply(unidecode).values.tolist()\n",
    "    en_male_relationship_words = relationship_words.loc[:, 'en_male'].apply(unidecode).values.tolist()\n",
    "    en_relationship_words = en_female_relationship_words + en_male_relationship_words\n",
    "    relationship_word_matcher = re.compile('|'.join(en_relationship_words))\n",
    "    relationship_gender_lookup = {\n",
    "        x : 'male' for x in en_male_relationship_words\n",
    "    }\n",
    "    relationship_gender_lookup.update({x : 'female' for x in en_female_relationship_words})\n",
    "    for x in data.loc[:, 'translation_txt'].values:\n",
    "        try:\n",
    "            relationship_gender_lookup[relationship_word_matcher.search(unidecode(x)).group(0)]\n",
    "        except Exception as e:\n",
    "            print(f'bad text {x}')\n",
    "    #         break\n",
    "    data = data.assign(**{\n",
    "        'translation_subject_gender' : data.loc[:, 'translation_txt'].apply(lambda x: unidecode(x)).apply(lambda x: pronoun_gender_lookup[pronoun_matcher.search(x).group(0)] if pronoun_matcher.search(x) is not None else None),\n",
    "        'translation_relationship_gender' : data.loc[:, 'translation_txt'].apply(lambda x: unidecode(x)).apply(lambda x: relationship_gender_lookup[relationship_word_matcher.search(x).group(0)] if relationship_word_matcher.search(x) is not None else None),\n",
    "    })\n",
    "    return data"
   ]
  },
  {
   "cell_type": "code",
   "execution_count": 138,
   "metadata": {},
   "outputs": [
    {
     "name": "stdout",
     "output_type": "stream",
     "text": [
      "bad text The engineer and his boy have a son.\n",
      "bad text The worker and his boy have a son.\n"
     ]
    }
   ],
   "source": [
    "final_sentence_data = extract_subject_relationship_gender(final_sentence_data, relationship_words)"
   ]
  },
  {
   "cell_type": "code",
   "execution_count": 139,
   "metadata": {
    "collapsed": true,
    "scrolled": true
   },
   "outputs": [],
   "source": [
    "## convert subject and translation words -> en\n",
    "def translate_subject_relationship_words(data, occupation_words, relationship_words):\n",
    "    word_other_en_lookup = {}\n",
    "    langs = ['es', 'fr', 'it']\n",
    "    en_occupation_words = occupation_words.loc[:, 'en'].values.tolist()\n",
    "    en_relationship_words = relationship_words.loc[:, 'en_female'].values.tolist() + relationship_words.loc[:, 'en_male'].values.tolist()\n",
    "    for lang in langs:\n",
    "        lang_relationship_words = relationship_words.loc[:, f'{lang}_female'].values.tolist() + relationship_words.loc[:, f'{lang}_male'].values.tolist()\n",
    "        lang_occupation_words = occupation_words.loc[:, f'{lang}_female'].values.tolist() + occupation_words.loc[:, f'{lang}_male'].values.tolist()\n",
    "        word_lang_en_lookup = dict(zip(lang_relationship_words, en_relationship_words))\n",
    "        word_lang_en_lookup.update(dict(zip(lang_occupation_words, en_occupation_words+en_occupation_words)))\n",
    "        word_other_en_lookup[lang] = word_lang_en_lookup\n",
    "    data = data.assign(**{\n",
    "        'subject_word_en' : data.apply(lambda x: word_other_en_lookup[x.loc['lang']][x.loc['subject_word']], axis=1),\n",
    "        'relationship_word_en' : data.apply(lambda x: word_other_en_lookup[x.loc['lang']][x.loc['relationship_word']], axis=1),\n",
    "    })\n",
    "    return data"
   ]
  },
  {
   "cell_type": "code",
   "execution_count": 140,
   "metadata": {
    "collapsed": true
   },
   "outputs": [],
   "source": [
    "final_sentence_data = translate_subject_relationship_words(final_sentence_data, occupation_words, relationship_words)"
   ]
  },
  {
   "cell_type": "code",
   "execution_count": 144,
   "metadata": {},
   "outputs": [
    {
     "name": "stdout",
     "output_type": "stream",
     "text": [
      "female    1410\n",
      "male      1408\n",
      "Name: translation_relationship_gender, dtype: int64\n"
     ]
    }
   ],
   "source": [
    "print(final_sentence_data.loc[:, 'translation_relationship_gender'].value_counts())"
   ]
  },
  {
   "cell_type": "code",
   "execution_count": 146,
   "metadata": {
    "scrolled": true
   },
   "outputs": [
    {
     "data": {
      "text/html": [
       "<div>\n",
       "<style scoped>\n",
       "    .dataframe tbody tr th:only-of-type {\n",
       "        vertical-align: middle;\n",
       "    }\n",
       "\n",
       "    .dataframe tbody tr th {\n",
       "        vertical-align: top;\n",
       "    }\n",
       "\n",
       "    .dataframe thead th {\n",
       "        text-align: right;\n",
       "    }\n",
       "</style>\n",
       "<table border=\"1\" class=\"dataframe\">\n",
       "  <thead>\n",
       "    <tr style=\"text-align: right;\">\n",
       "      <th></th>\n",
       "      <th>sent</th>\n",
       "      <th>lang</th>\n",
       "      <th>subject_word</th>\n",
       "      <th>relationship_word</th>\n",
       "      <th>gender</th>\n",
       "      <th>translation</th>\n",
       "      <th>translation_txt</th>\n",
       "      <th>translation_subject_gender</th>\n",
       "      <th>translation_relationship_gender</th>\n",
       "      <th>subject_word_en</th>\n",
       "      <th>relationship_word_en</th>\n",
       "      <th>subject_gender_match</th>\n",
       "      <th>relationship_gender_match</th>\n",
       "    </tr>\n",
       "  </thead>\n",
       "  <tbody>\n",
       "    <tr>\n",
       "      <th>108</th>\n",
       "      <td>la autora conoció a su novia en una cita.</td>\n",
       "      <td>es</td>\n",
       "      <td>autora</td>\n",
       "      <td>novia</td>\n",
       "      <td>female</td>\n",
       "      <td>Translated(src=es, dest=en, text=The author me...</td>\n",
       "      <td>The author met her girlfriend on an appointment.</td>\n",
       "      <td>female</td>\n",
       "      <td>female</td>\n",
       "      <td>author</td>\n",
       "      <td>girlfriend</td>\n",
       "      <td>1</td>\n",
       "      <td>1</td>\n",
       "    </tr>\n",
       "    <tr>\n",
       "      <th>109</th>\n",
       "      <td>la autora conoció a su prometida en una cita.</td>\n",
       "      <td>es</td>\n",
       "      <td>autora</td>\n",
       "      <td>prometida</td>\n",
       "      <td>female</td>\n",
       "      <td>Translated(src=es, dest=en, text=The author me...</td>\n",
       "      <td>The author met her fiancée at an appointment.</td>\n",
       "      <td>female</td>\n",
       "      <td>female</td>\n",
       "      <td>author</td>\n",
       "      <td>fiancee</td>\n",
       "      <td>1</td>\n",
       "      <td>1</td>\n",
       "    </tr>\n",
       "    <tr>\n",
       "      <th>110</th>\n",
       "      <td>la autora conoció a su esposa en una cita.</td>\n",
       "      <td>es</td>\n",
       "      <td>autora</td>\n",
       "      <td>esposa</td>\n",
       "      <td>female</td>\n",
       "      <td>Translated(src=es, dest=en, text=The author me...</td>\n",
       "      <td>The author met his wife at an appointment.</td>\n",
       "      <td>male</td>\n",
       "      <td>female</td>\n",
       "      <td>author</td>\n",
       "      <td>wife</td>\n",
       "      <td>0</td>\n",
       "      <td>1</td>\n",
       "    </tr>\n",
       "    <tr>\n",
       "      <th>111</th>\n",
       "      <td>la panadera conoció a su novia en una cita.</td>\n",
       "      <td>es</td>\n",
       "      <td>panadera</td>\n",
       "      <td>novia</td>\n",
       "      <td>female</td>\n",
       "      <td>Translated(src=es, dest=en, text=The Baker met...</td>\n",
       "      <td>The Baker met his girlfriend on an appointment.</td>\n",
       "      <td>male</td>\n",
       "      <td>female</td>\n",
       "      <td>baker</td>\n",
       "      <td>girlfriend</td>\n",
       "      <td>0</td>\n",
       "      <td>1</td>\n",
       "    </tr>\n",
       "    <tr>\n",
       "      <th>112</th>\n",
       "      <td>la panadera conoció a su prometida en una cita.</td>\n",
       "      <td>es</td>\n",
       "      <td>panadera</td>\n",
       "      <td>prometida</td>\n",
       "      <td>female</td>\n",
       "      <td>Translated(src=es, dest=en, text=The Baker met...</td>\n",
       "      <td>The Baker met his fiancée at an appointment.</td>\n",
       "      <td>male</td>\n",
       "      <td>female</td>\n",
       "      <td>baker</td>\n",
       "      <td>fiancee</td>\n",
       "      <td>0</td>\n",
       "      <td>1</td>\n",
       "    </tr>\n",
       "    <tr>\n",
       "      <th>113</th>\n",
       "      <td>la panadera conoció a su esposa en una cita.</td>\n",
       "      <td>es</td>\n",
       "      <td>panadera</td>\n",
       "      <td>esposa</td>\n",
       "      <td>female</td>\n",
       "      <td>Translated(src=es, dest=en, text=The Baker met...</td>\n",
       "      <td>The Baker met his wife on an appointment.</td>\n",
       "      <td>male</td>\n",
       "      <td>female</td>\n",
       "      <td>baker</td>\n",
       "      <td>wife</td>\n",
       "      <td>0</td>\n",
       "      <td>1</td>\n",
       "    </tr>\n",
       "    <tr>\n",
       "      <th>114</th>\n",
       "      <td>la banquera conoció a su novia en una cita.</td>\n",
       "      <td>es</td>\n",
       "      <td>banquera</td>\n",
       "      <td>novia</td>\n",
       "      <td>female</td>\n",
       "      <td>Translated(src=es, dest=en, text=The banquet m...</td>\n",
       "      <td>The banquet met his girlfriend on an appointment.</td>\n",
       "      <td>male</td>\n",
       "      <td>female</td>\n",
       "      <td>banker</td>\n",
       "      <td>girlfriend</td>\n",
       "      <td>0</td>\n",
       "      <td>1</td>\n",
       "    </tr>\n",
       "    <tr>\n",
       "      <th>115</th>\n",
       "      <td>la banquera conoció a su prometida en una cita.</td>\n",
       "      <td>es</td>\n",
       "      <td>banquera</td>\n",
       "      <td>prometida</td>\n",
       "      <td>female</td>\n",
       "      <td>Translated(src=es, dest=en, text=The banquet m...</td>\n",
       "      <td>The banquet met his fiancée at an appointment.</td>\n",
       "      <td>male</td>\n",
       "      <td>female</td>\n",
       "      <td>banker</td>\n",
       "      <td>fiancee</td>\n",
       "      <td>0</td>\n",
       "      <td>1</td>\n",
       "    </tr>\n",
       "    <tr>\n",
       "      <th>116</th>\n",
       "      <td>la banquera conoció a su esposa en una cita.</td>\n",
       "      <td>es</td>\n",
       "      <td>banquera</td>\n",
       "      <td>esposa</td>\n",
       "      <td>female</td>\n",
       "      <td>Translated(src=es, dest=en, text=The banquet m...</td>\n",
       "      <td>The banquet met his wife at an appointment.</td>\n",
       "      <td>male</td>\n",
       "      <td>female</td>\n",
       "      <td>banker</td>\n",
       "      <td>wife</td>\n",
       "      <td>0</td>\n",
       "      <td>1</td>\n",
       "    </tr>\n",
       "    <tr>\n",
       "      <th>117</th>\n",
       "      <td>la peluquera conoció a su novia en una cita.</td>\n",
       "      <td>es</td>\n",
       "      <td>peluquera</td>\n",
       "      <td>novia</td>\n",
       "      <td>female</td>\n",
       "      <td>Translated(src=es, dest=en, text=The hairdress...</td>\n",
       "      <td>The hairdresse met his girlfriend on an appoin...</td>\n",
       "      <td>male</td>\n",
       "      <td>female</td>\n",
       "      <td>barber</td>\n",
       "      <td>girlfriend</td>\n",
       "      <td>0</td>\n",
       "      <td>1</td>\n",
       "    </tr>\n",
       "    <tr>\n",
       "      <th>118</th>\n",
       "      <td>la peluquera conoció a su prometida en una cita.</td>\n",
       "      <td>es</td>\n",
       "      <td>peluquera</td>\n",
       "      <td>prometida</td>\n",
       "      <td>female</td>\n",
       "      <td>Translated(src=es, dest=en, text=The hairdress...</td>\n",
       "      <td>The hairdresser met his fiancée on an appointm...</td>\n",
       "      <td>male</td>\n",
       "      <td>female</td>\n",
       "      <td>barber</td>\n",
       "      <td>fiancee</td>\n",
       "      <td>0</td>\n",
       "      <td>1</td>\n",
       "    </tr>\n",
       "    <tr>\n",
       "      <th>119</th>\n",
       "      <td>la peluquera conoció a su esposa en una cita.</td>\n",
       "      <td>es</td>\n",
       "      <td>peluquera</td>\n",
       "      <td>esposa</td>\n",
       "      <td>female</td>\n",
       "      <td>Translated(src=es, dest=en, text=The hairdress...</td>\n",
       "      <td>The hairdresse met his wife on an appointment.</td>\n",
       "      <td>male</td>\n",
       "      <td>female</td>\n",
       "      <td>barber</td>\n",
       "      <td>wife</td>\n",
       "      <td>0</td>\n",
       "      <td>1</td>\n",
       "    </tr>\n",
       "    <tr>\n",
       "      <th>120</th>\n",
       "      <td>la jefa conoció a su novia en una cita.</td>\n",
       "      <td>es</td>\n",
       "      <td>jefa</td>\n",
       "      <td>novia</td>\n",
       "      <td>female</td>\n",
       "      <td>Translated(src=es, dest=en, text=The boss met ...</td>\n",
       "      <td>The boss met his girlfriend on an appointment.</td>\n",
       "      <td>male</td>\n",
       "      <td>female</td>\n",
       "      <td>boss</td>\n",
       "      <td>girlfriend</td>\n",
       "      <td>0</td>\n",
       "      <td>1</td>\n",
       "    </tr>\n",
       "    <tr>\n",
       "      <th>121</th>\n",
       "      <td>la jefa conoció a su prometida en una cita.</td>\n",
       "      <td>es</td>\n",
       "      <td>jefa</td>\n",
       "      <td>prometida</td>\n",
       "      <td>female</td>\n",
       "      <td>Translated(src=es, dest=en, text=The boss met ...</td>\n",
       "      <td>The boss met his fiancée on an appointment.</td>\n",
       "      <td>male</td>\n",
       "      <td>female</td>\n",
       "      <td>boss</td>\n",
       "      <td>fiancee</td>\n",
       "      <td>0</td>\n",
       "      <td>1</td>\n",
       "    </tr>\n",
       "    <tr>\n",
       "      <th>122</th>\n",
       "      <td>la jefa conoció a su esposa en una cita.</td>\n",
       "      <td>es</td>\n",
       "      <td>jefa</td>\n",
       "      <td>esposa</td>\n",
       "      <td>female</td>\n",
       "      <td>Translated(src=es, dest=en, text=The boss met ...</td>\n",
       "      <td>The boss met his wife at an appointment.</td>\n",
       "      <td>male</td>\n",
       "      <td>female</td>\n",
       "      <td>boss</td>\n",
       "      <td>wife</td>\n",
       "      <td>0</td>\n",
       "      <td>1</td>\n",
       "    </tr>\n",
       "    <tr>\n",
       "      <th>123</th>\n",
       "      <td>la carpintera conoció a su novia en una cita.</td>\n",
       "      <td>es</td>\n",
       "      <td>carpintera</td>\n",
       "      <td>novia</td>\n",
       "      <td>female</td>\n",
       "      <td>Translated(src=es, dest=en, text=The carpente ...</td>\n",
       "      <td>The carpente met his girlfriend on an appointm...</td>\n",
       "      <td>male</td>\n",
       "      <td>female</td>\n",
       "      <td>carpenter</td>\n",
       "      <td>girlfriend</td>\n",
       "      <td>0</td>\n",
       "      <td>1</td>\n",
       "    </tr>\n",
       "    <tr>\n",
       "      <th>124</th>\n",
       "      <td>la carpintera conoció a su prometida en una ci...</td>\n",
       "      <td>es</td>\n",
       "      <td>carpintera</td>\n",
       "      <td>prometida</td>\n",
       "      <td>female</td>\n",
       "      <td>Translated(src=es, dest=en, text=The carpente ...</td>\n",
       "      <td>The carpente met his fiancée at an appointment.</td>\n",
       "      <td>male</td>\n",
       "      <td>female</td>\n",
       "      <td>carpenter</td>\n",
       "      <td>fiancee</td>\n",
       "      <td>0</td>\n",
       "      <td>1</td>\n",
       "    </tr>\n",
       "    <tr>\n",
       "      <th>125</th>\n",
       "      <td>la carpintera conoció a su esposa en una cita.</td>\n",
       "      <td>es</td>\n",
       "      <td>carpintera</td>\n",
       "      <td>esposa</td>\n",
       "      <td>female</td>\n",
       "      <td>Translated(src=es, dest=en, text=The carpente ...</td>\n",
       "      <td>The carpente met his wife at an appointment.</td>\n",
       "      <td>male</td>\n",
       "      <td>female</td>\n",
       "      <td>carpenter</td>\n",
       "      <td>wife</td>\n",
       "      <td>0</td>\n",
       "      <td>1</td>\n",
       "    </tr>\n",
       "    <tr>\n",
       "      <th>126</th>\n",
       "      <td>la entrenadora conoció a su novia en una cita.</td>\n",
       "      <td>es</td>\n",
       "      <td>entrenadora</td>\n",
       "      <td>novia</td>\n",
       "      <td>female</td>\n",
       "      <td>Translated(src=es, dest=en, text=The coach met...</td>\n",
       "      <td>The coach met his girlfriend on an appointment.</td>\n",
       "      <td>male</td>\n",
       "      <td>female</td>\n",
       "      <td>coach</td>\n",
       "      <td>girlfriend</td>\n",
       "      <td>0</td>\n",
       "      <td>1</td>\n",
       "    </tr>\n",
       "    <tr>\n",
       "      <th>127</th>\n",
       "      <td>la entrenadora conoció a su prometida en una c...</td>\n",
       "      <td>es</td>\n",
       "      <td>entrenadora</td>\n",
       "      <td>prometida</td>\n",
       "      <td>female</td>\n",
       "      <td>Translated(src=es, dest=en, text=The coach met...</td>\n",
       "      <td>The coach met his fiancée on an appointment.</td>\n",
       "      <td>male</td>\n",
       "      <td>female</td>\n",
       "      <td>coach</td>\n",
       "      <td>fiancee</td>\n",
       "      <td>0</td>\n",
       "      <td>1</td>\n",
       "    </tr>\n",
       "  </tbody>\n",
       "</table>\n",
       "</div>"
      ],
      "text/plain": [
       "                                                  sent lang subject_word  \\\n",
       "108         la autora conoció a su novia en una cita.    es       autora   \n",
       "109     la autora conoció a su prometida en una cita.    es       autora   \n",
       "110        la autora conoció a su esposa en una cita.    es       autora   \n",
       "111       la panadera conoció a su novia en una cita.    es     panadera   \n",
       "112   la panadera conoció a su prometida en una cita.    es     panadera   \n",
       "113      la panadera conoció a su esposa en una cita.    es     panadera   \n",
       "114       la banquera conoció a su novia en una cita.    es     banquera   \n",
       "115   la banquera conoció a su prometida en una cita.    es     banquera   \n",
       "116      la banquera conoció a su esposa en una cita.    es     banquera   \n",
       "117      la peluquera conoció a su novia en una cita.    es    peluquera   \n",
       "118  la peluquera conoció a su prometida en una cita.    es    peluquera   \n",
       "119     la peluquera conoció a su esposa en una cita.    es    peluquera   \n",
       "120           la jefa conoció a su novia en una cita.    es         jefa   \n",
       "121       la jefa conoció a su prometida en una cita.    es         jefa   \n",
       "122          la jefa conoció a su esposa en una cita.    es         jefa   \n",
       "123     la carpintera conoció a su novia en una cita.    es   carpintera   \n",
       "124  la carpintera conoció a su prometida en una ci...   es   carpintera   \n",
       "125    la carpintera conoció a su esposa en una cita.    es   carpintera   \n",
       "126    la entrenadora conoció a su novia en una cita.    es  entrenadora   \n",
       "127  la entrenadora conoció a su prometida en una c...   es  entrenadora   \n",
       "\n",
       "    relationship_word  gender  \\\n",
       "108             novia  female   \n",
       "109         prometida  female   \n",
       "110            esposa  female   \n",
       "111             novia  female   \n",
       "112         prometida  female   \n",
       "113            esposa  female   \n",
       "114             novia  female   \n",
       "115         prometida  female   \n",
       "116            esposa  female   \n",
       "117             novia  female   \n",
       "118         prometida  female   \n",
       "119            esposa  female   \n",
       "120             novia  female   \n",
       "121         prometida  female   \n",
       "122            esposa  female   \n",
       "123             novia  female   \n",
       "124         prometida  female   \n",
       "125            esposa  female   \n",
       "126             novia  female   \n",
       "127         prometida  female   \n",
       "\n",
       "                                           translation  \\\n",
       "108  Translated(src=es, dest=en, text=The author me...   \n",
       "109  Translated(src=es, dest=en, text=The author me...   \n",
       "110  Translated(src=es, dest=en, text=The author me...   \n",
       "111  Translated(src=es, dest=en, text=The Baker met...   \n",
       "112  Translated(src=es, dest=en, text=The Baker met...   \n",
       "113  Translated(src=es, dest=en, text=The Baker met...   \n",
       "114  Translated(src=es, dest=en, text=The banquet m...   \n",
       "115  Translated(src=es, dest=en, text=The banquet m...   \n",
       "116  Translated(src=es, dest=en, text=The banquet m...   \n",
       "117  Translated(src=es, dest=en, text=The hairdress...   \n",
       "118  Translated(src=es, dest=en, text=The hairdress...   \n",
       "119  Translated(src=es, dest=en, text=The hairdress...   \n",
       "120  Translated(src=es, dest=en, text=The boss met ...   \n",
       "121  Translated(src=es, dest=en, text=The boss met ...   \n",
       "122  Translated(src=es, dest=en, text=The boss met ...   \n",
       "123  Translated(src=es, dest=en, text=The carpente ...   \n",
       "124  Translated(src=es, dest=en, text=The carpente ...   \n",
       "125  Translated(src=es, dest=en, text=The carpente ...   \n",
       "126  Translated(src=es, dest=en, text=The coach met...   \n",
       "127  Translated(src=es, dest=en, text=The coach met...   \n",
       "\n",
       "                                       translation_txt  \\\n",
       "108   The author met her girlfriend on an appointment.   \n",
       "109      The author met her fiancée at an appointment.   \n",
       "110         The author met his wife at an appointment.   \n",
       "111    The Baker met his girlfriend on an appointment.   \n",
       "112       The Baker met his fiancée at an appointment.   \n",
       "113          The Baker met his wife on an appointment.   \n",
       "114  The banquet met his girlfriend on an appointment.   \n",
       "115     The banquet met his fiancée at an appointment.   \n",
       "116        The banquet met his wife at an appointment.   \n",
       "117  The hairdresse met his girlfriend on an appoin...   \n",
       "118  The hairdresser met his fiancée on an appointm...   \n",
       "119     The hairdresse met his wife on an appointment.   \n",
       "120     The boss met his girlfriend on an appointment.   \n",
       "121        The boss met his fiancée on an appointment.   \n",
       "122           The boss met his wife at an appointment.   \n",
       "123  The carpente met his girlfriend on an appointm...   \n",
       "124    The carpente met his fiancée at an appointment.   \n",
       "125       The carpente met his wife at an appointment.   \n",
       "126    The coach met his girlfriend on an appointment.   \n",
       "127       The coach met his fiancée on an appointment.   \n",
       "\n",
       "    translation_subject_gender translation_relationship_gender  \\\n",
       "108                     female                          female   \n",
       "109                     female                          female   \n",
       "110                       male                          female   \n",
       "111                       male                          female   \n",
       "112                       male                          female   \n",
       "113                       male                          female   \n",
       "114                       male                          female   \n",
       "115                       male                          female   \n",
       "116                       male                          female   \n",
       "117                       male                          female   \n",
       "118                       male                          female   \n",
       "119                       male                          female   \n",
       "120                       male                          female   \n",
       "121                       male                          female   \n",
       "122                       male                          female   \n",
       "123                       male                          female   \n",
       "124                       male                          female   \n",
       "125                       male                          female   \n",
       "126                       male                          female   \n",
       "127                       male                          female   \n",
       "\n",
       "    subject_word_en relationship_word_en  subject_gender_match  \\\n",
       "108          author           girlfriend                     1   \n",
       "109          author              fiancee                     1   \n",
       "110          author                 wife                     0   \n",
       "111           baker           girlfriend                     0   \n",
       "112           baker              fiancee                     0   \n",
       "113           baker                 wife                     0   \n",
       "114          banker           girlfriend                     0   \n",
       "115          banker              fiancee                     0   \n",
       "116          banker                 wife                     0   \n",
       "117          barber           girlfriend                     0   \n",
       "118          barber              fiancee                     0   \n",
       "119          barber                 wife                     0   \n",
       "120            boss           girlfriend                     0   \n",
       "121            boss              fiancee                     0   \n",
       "122            boss                 wife                     0   \n",
       "123       carpenter           girlfriend                     0   \n",
       "124       carpenter              fiancee                     0   \n",
       "125       carpenter                 wife                     0   \n",
       "126           coach           girlfriend                     0   \n",
       "127           coach              fiancee                     0   \n",
       "\n",
       "     relationship_gender_match  \n",
       "108                          1  \n",
       "109                          1  \n",
       "110                          1  \n",
       "111                          1  \n",
       "112                          1  \n",
       "113                          1  \n",
       "114                          1  \n",
       "115                          1  \n",
       "116                          1  \n",
       "117                          1  \n",
       "118                          1  \n",
       "119                          1  \n",
       "120                          1  \n",
       "121                          1  \n",
       "122                          1  \n",
       "123                          1  \n",
       "124                          1  \n",
       "125                          1  \n",
       "126                          1  \n",
       "127                          1  "
      ]
     },
     "metadata": {},
     "output_type": "display_data"
    }
   ],
   "source": [
    "display(final_sentence_data[final_sentence_data.loc[:, 'gender']=='female'].head(20))"
   ]
  },
  {
   "cell_type": "markdown",
   "metadata": {},
   "source": [
    "What is the overall proportion of \"correct\" translations?"
   ]
  },
  {
   "cell_type": "code",
   "execution_count": 142,
   "metadata": {
    "scrolled": true
   },
   "outputs": [
    {
     "name": "stdout",
     "output_type": "stream",
     "text": [
      "0.9971631205673759 valid gender translation data\n"
     ]
    }
   ],
   "source": [
    "final_sentence_data = final_sentence_data.assign(**{\n",
    "    'subject_gender_match' : (final_sentence_data.loc[:, 'gender'] == final_sentence_data.loc[:, 'translation_subject_gender']).astype(int),\n",
    "    'relationship_gender_match' : (final_sentence_data.loc[:, 'gender'] == final_sentence_data.loc[:, 'translation_relationship_gender']).astype(int),\n",
    "})\n",
    "# limit to valid data (non-None)\n",
    "valid_final_sentence_data = final_sentence_data[(final_sentence_data.loc[:, 'translation_subject_gender'].apply(lambda x: x is not None)) & \n",
    "                                                (final_sentence_data.loc[:, 'translation_relationship_gender'].apply(lambda x: x is not None))]\n",
    "print(f'{valid_final_sentence_data.shape[0]/final_sentence_data.shape[0]} valid gender translation data')\n",
    "## get \"both match\" var\n",
    "valid_final_sentence_data = valid_final_sentence_data.assign(**{\n",
    "    'subject_relationship_gender_match' : valid_final_sentence_data.loc[:, ['relationship_gender_match', 'subject_gender_match']].min(axis=1)\n",
    "})"
   ]
  },
  {
   "cell_type": "code",
   "execution_count": 181,
   "metadata": {
    "scrolled": true
   },
   "outputs": [
    {
     "name": "stdout",
     "output_type": "stream",
     "text": [
      "38.477951635846374\n",
      "100.0\n",
      "gender\n",
      "female    0.086182\n",
      "male      0.682528\n",
      "dtype: float64\n"
     ]
    }
   ],
   "source": [
    "print(valid_final_sentence_data.loc[:, 'subject_gender_match'].mean()*100)\n",
    "print(valid_final_sentence_data.loc[:, 'relationship_gender_match'].mean()*100)\n",
    "print(valid_final_sentence_data.groupby('gender').apply(lambda x: x.loc[:, 'subject_gender_match'].mean()))"
   ]
  },
  {
   "cell_type": "markdown",
   "metadata": {},
   "source": [
    "OK! All of the translations got the relationship gender correct but messed up the subject gender quite a bit.\n",
    "\n",
    "Let's see if this varies by language, target type or subject type."
   ]
  },
  {
   "cell_type": "code",
   "execution_count": 150,
   "metadata": {
    "scrolled": true
   },
   "outputs": [
    {
     "data": {
      "image/png": "[encoded data removed]",
      "text/plain": [
       "<Figure size 360x360 with 1 Axes>"
      ]
     },
     "metadata": {
      "needs_background": "light"
     },
     "output_type": "display_data"
    },
    {
     "data": {
      "image/png": "[encoded data removed]",
      "text/plain": [
       "<Figure size 360x360 with 1 Axes>"
      ]
     },
     "metadata": {
      "needs_background": "light"
     },
     "output_type": "display_data"
    },
    {
     "data": {
      "image/png": "[encoded data removed]",
      "text/plain": [
       "<Figure size 360x720 with 1 Axes>"
      ]
     },
     "metadata": {
      "needs_background": "light"
     },
     "output_type": "display_data"
    },
    {
     "data": {
      "image/png": "[encoded data removed]",
      "text/plain": [
       "<Figure size 360x360 with 1 Axes>"
      ]
     },
     "metadata": {
      "needs_background": "light"
     },
     "output_type": "display_data"
    }
   ],
   "source": [
    "import matplotlib\n",
    "%matplotlib inline\n",
    "import matplotlib.pyplot as plt\n",
    "import seaborn as sns\n",
    "## gender\n",
    "plt.figure(figsize=(5,5))\n",
    "sns.barplot(data=valid_final_sentence_data, y='gender', x='subject_gender_match')\n",
    "plt.title('Gender')\n",
    "## language\n",
    "plt.figure(figsize=(5,5))\n",
    "sns.barplot(data=valid_final_sentence_data, y='lang', x='subject_gender_match')\n",
    "plt.title('Language')\n",
    "# subject word\n",
    "plt.show()\n",
    "plt.figure(figsize=(5, 10))\n",
    "sns.barplot(data=valid_final_sentence_data, y='subject_word_en', x='subject_gender_match', order=list(sorted(valid_final_sentence_data.loc[:, 'subject_word_en'].unique())))\n",
    "plt.title('Subject word')\n",
    "# target word\n",
    "plt.show()\n",
    "plt.figure(figsize=(5,5))\n",
    "sns.barplot(data=valid_final_sentence_data, y='relationship_word_en', x='subject_gender_match')\n",
    "plt.title('Target word')\n",
    "plt.show()"
   ]
  },
  {
   "cell_type": "markdown",
   "metadata": {},
   "source": [
    "Let's also do gender on top of this."
   ]
  },
  {
   "cell_type": "code",
   "execution_count": 149,
   "metadata": {},
   "outputs": [
    {
     "name": "stdout",
     "output_type": "stream",
     "text": [
      "**** gender=female ****\n"
     ]
    },
    {
     "data": {
      "image/png": "[encoded data removed]",
      "text/plain": [
       "<Figure size 360x360 with 1 Axes>"
      ]
     },
     "metadata": {
      "needs_background": "light"
     },
     "output_type": "display_data"
    },
    {
     "data": {
      "image/png": "[encoded data removed]",
      "text/plain": [
       "<Figure size 360x720 with 1 Axes>"
      ]
     },
     "metadata": {
      "needs_background": "light"
     },
     "output_type": "display_data"
    },
    {
     "data": {
      "image/png": "[encoded data removed]",
      "text/plain": [
       "<Figure size 360x360 with 1 Axes>"
      ]
     },
     "metadata": {
      "needs_background": "light"
     },
     "output_type": "display_data"
    },
    {
     "name": "stdout",
     "output_type": "stream",
     "text": [
      "**** gender=male ****\n"
     ]
    },
    {
     "data": {
      "image/png": "[encoded data removed]",
      "text/plain": [
       "<Figure size 360x360 with 1 Axes>"
      ]
     },
     "metadata": {
      "needs_background": "light"
     },
     "output_type": "display_data"
    },
    {
     "data": {
      "image/png": "[encoded data removed]",
      "text/plain": [
       "<Figure size 360x720 with 1 Axes>"
      ]
     },
     "metadata": {
      "needs_background": "light"
     },
     "output_type": "display_data"
    },
    {
     "data": {
      "image/png": "[encoded data removed]",
      "text/plain": [
       "<Figure size 360x360 with 1 Axes>"
      ]
     },
     "metadata": {
      "needs_background": "light"
     },
     "output_type": "display_data"
    }
   ],
   "source": [
    "for gender_i, data_i in valid_final_sentence_data.groupby('gender'):\n",
    "    print(f'**** gender={gender_i} ****')\n",
    "    ## language\n",
    "    plt.figure(figsize=(5,5))\n",
    "    sns.barplot(data=data_i, y='lang', x='subject_relationship_gender_match')\n",
    "    plt.title('Language')\n",
    "    # subject word\n",
    "    plt.show()\n",
    "    plt.figure(figsize=(5, 10))\n",
    "    sns.barplot(data=data_i, y='subject_word_en', x='subject_gender_match', order=list(sorted(valid_final_sentence_data.loc[:, 'subject_word_en'].unique())))\n",
    "    plt.title('Subject word')\n",
    "    # target word\n",
    "    plt.show()\n",
    "    plt.figure(figsize=(5,5))\n",
    "    sns.barplot(data=data_i, y='relationship_word_en', x='subject_gender_match')\n",
    "    plt.title('Target word')\n",
    "    plt.show()"
   ]
  },
  {
   "cell_type": "markdown",
   "metadata": {},
   "source": [
    "A lot of the poor performance can be attributed to the gender gap: the system generally tends to read female occupations as male and then translate accordingly (e.g. `his wife`)."
   ]
  },
  {
   "cell_type": "markdown",
   "metadata": {},
   "source": [
    "### Translation baseline: different-gender relationships"
   ]
  },
  {
   "cell_type": "markdown",
   "metadata": {},
   "source": [
    "Now! Let's repeat the experiment but use different-gender relationships as the \"baseline\". We need to verify that the translations are not just uniformly incorrect but specifically incorrect for same-gender relationships."
   ]
  },
  {
   "cell_type": "code",
   "execution_count": 153,
   "metadata": {
    "collapsed": true
   },
   "outputs": [],
   "source": [
    "from itertools import product\n",
    "def generate_sentence_data(relationship_sents, occupation_words, relationship_words, \n",
    "                           lang_art_PRON_lookup, lang_POSS_PRON_lookup, \n",
    "                           relationship_type='same_gender'):\n",
    "    langs = ['es', 'fr', 'it']\n",
    "    data = []\n",
    "    for lang_i in langs:\n",
    "        article_pronoun_lookup_i = lang_art_PRON_lookup[lang_i]\n",
    "        poss_pronoun_lookup_i = lang_POSS_PRON_lookup[lang_i]\n",
    "        sents_i = relationship_sents.loc[:, f'{lang_i}_sentence'].values\n",
    "        # limit to occupation words that have different forms for female/male\n",
    "        occupation_words_i = occupation_words[occupation_words.loc[:, f'{lang_i}_female']!=occupation_words.loc[:, f'{lang_i}_male']]\n",
    "        female_occupation_words_i = occupation_words_i.loc[:, f'{lang_i}_female'].values\n",
    "        male_occupation_words_i = occupation_words_i.loc[:, f'{lang_i}_male'].values\n",
    "        female_relationship_words_i = relationship_words.loc[:, f'{lang_i}_female'].values\n",
    "        male_relationship_words_i = relationship_words.loc[:, f'{lang_i}_male'].values\n",
    "        if(relationship_type=='same_gender'):\n",
    "            male_subject_occupation_relationship_combos_i = list(product(male_occupation_words_i, male_relationship_words_i))\n",
    "            female_subject_occupation_relationship_combos_i = list(product(female_occupation_words_i, female_relationship_words_i))\n",
    "        else:\n",
    "            male_subject_occupation_relationship_combos_i = list(product(male_occupation_words_i, female_relationship_words_i))\n",
    "            female_subject_occupation_relationship_combos_i = list(product(female_occupation_words_i, male_relationship_words_i))\n",
    "        for sent_j in sents_i:\n",
    "            for subject_word_k, relationship_word_k in male_subject_occupation_relationship_combos_i:\n",
    "                final_sent_j = build_sentence(lang_i, subject_word_k, sent_j, article_pronoun_lookup_i, poss_pronoun_lookup_i, 'male', relationship_word_k)\n",
    "                data.append([final_sent_j, lang_i, subject_word_k, relationship_word_k, 'male'])\n",
    "            for subject_word_k, relationship_word_k in female_subject_occupation_relationship_combos_i:\n",
    "                final_sent_j = build_sentence(lang_i, subject_word_k, sent_j, article_pronoun_lookup_i, poss_pronoun_lookup_i, 'female', relationship_word_k)\n",
    "                data.append([final_sent_j, lang_i, subject_word_k, relationship_word_k, 'female'])\n",
    "    data = pd.DataFrame(data, columns=['sent', 'lang', 'subject_word', 'relationship_word', 'subject_gender'])\n",
    "    other_gender_lookup = {'male' : 'female', 'female' : 'male'}\n",
    "    if(relationship_type=='same_gender'):\n",
    "        data = data.assign(**{'relationship_gender' : data.loc[:, 'subject_gender'].values})\n",
    "    else:\n",
    "        data = data.assign(**{'relationship_gender' : data.loc[:, 'subject_gender'].apply(other_gender_lookup.get)})\n",
    "    return data"
   ]
  },
  {
   "cell_type": "code",
   "execution_count": 154,
   "metadata": {},
   "outputs": [
    {
     "data": {
      "text/html": [
       "<div>\n",
       "<style scoped>\n",
       "    .dataframe tbody tr th:only-of-type {\n",
       "        vertical-align: middle;\n",
       "    }\n",
       "\n",
       "    .dataframe tbody tr th {\n",
       "        vertical-align: top;\n",
       "    }\n",
       "\n",
       "    .dataframe thead th {\n",
       "        text-align: right;\n",
       "    }\n",
       "</style>\n",
       "<table border=\"1\" class=\"dataframe\">\n",
       "  <thead>\n",
       "    <tr style=\"text-align: right;\">\n",
       "      <th></th>\n",
       "      <th>sent</th>\n",
       "      <th>lang</th>\n",
       "      <th>subject_word</th>\n",
       "      <th>relationship_word</th>\n",
       "      <th>subject_gender</th>\n",
       "      <th>relationship_gender</th>\n",
       "    </tr>\n",
       "  </thead>\n",
       "  <tbody>\n",
       "    <tr>\n",
       "      <th>0</th>\n",
       "      <td>el autor conoció a su novia en una cita.</td>\n",
       "      <td>es</td>\n",
       "      <td>autor</td>\n",
       "      <td>novia</td>\n",
       "      <td>male</td>\n",
       "      <td>female</td>\n",
       "    </tr>\n",
       "    <tr>\n",
       "      <th>1</th>\n",
       "      <td>el autor conoció a su prometida en una cita.</td>\n",
       "      <td>es</td>\n",
       "      <td>autor</td>\n",
       "      <td>prometida</td>\n",
       "      <td>male</td>\n",
       "      <td>female</td>\n",
       "    </tr>\n",
       "    <tr>\n",
       "      <th>2</th>\n",
       "      <td>el autor conoció a su esposa en una cita.</td>\n",
       "      <td>es</td>\n",
       "      <td>autor</td>\n",
       "      <td>esposa</td>\n",
       "      <td>male</td>\n",
       "      <td>female</td>\n",
       "    </tr>\n",
       "    <tr>\n",
       "      <th>3</th>\n",
       "      <td>el panadero conoció a su novia en una cita.</td>\n",
       "      <td>es</td>\n",
       "      <td>panadero</td>\n",
       "      <td>novia</td>\n",
       "      <td>male</td>\n",
       "      <td>female</td>\n",
       "    </tr>\n",
       "    <tr>\n",
       "      <th>4</th>\n",
       "      <td>el panadero conoció a su prometida en una cita.</td>\n",
       "      <td>es</td>\n",
       "      <td>panadero</td>\n",
       "      <td>prometida</td>\n",
       "      <td>male</td>\n",
       "      <td>female</td>\n",
       "    </tr>\n",
       "  </tbody>\n",
       "</table>\n",
       "</div>"
      ],
      "text/plain": [
       "                                               sent lang subject_word  \\\n",
       "0         el autor conoció a su novia en una cita.    es        autor   \n",
       "1     el autor conoció a su prometida en una cita.    es        autor   \n",
       "2        el autor conoció a su esposa en una cita.    es        autor   \n",
       "3      el panadero conoció a su novia en una cita.    es     panadero   \n",
       "4  el panadero conoció a su prometida en una cita.    es     panadero   \n",
       "\n",
       "  relationship_word subject_gender relationship_gender  \n",
       "0             novia           male              female  \n",
       "1         prometida           male              female  \n",
       "2            esposa           male              female  \n",
       "3             novia           male              female  \n",
       "4         prometida           male              female  "
      ]
     },
     "metadata": {},
     "output_type": "display_data"
    }
   ],
   "source": [
    "diff_gender_sentence_data = generate_sentence_data(relationship_sents, occupation_words, relationship_words, \n",
    "                                                   lang_art_PRON_lookup, lang_POSS_PRON_lookup, \n",
    "                                                   relationship_type='diff_gender')\n",
    "display(diff_gender_sentence_data.head())"
   ]
  },
  {
   "cell_type": "code",
   "execution_count": 155,
   "metadata": {},
   "outputs": [
    {
     "name": "stderr",
     "output_type": "stream",
     "text": [
      "100%|██████████| 2820/2820 [1:22:07<00:00,  1.75s/it]\n"
     ]
    }
   ],
   "source": [
    "from time import sleep\n",
    "from tqdm import tqdm\n",
    "SLEEP_TIME = 1\n",
    "sentence_translations = []\n",
    "translator = Translator()\n",
    "for idx_i, sentence_data_i in tqdm(list(diff_gender_sentence_data.iterrows())):\n",
    "    translation_i = translator.translate(sentence_data_i.loc['sent'], dest='en', src=sentence_data_i.loc['lang'])\n",
    "    sentence_translations.append(translation_i)\n",
    "    try:\n",
    "        sleep(SLEEP_TIME)\n",
    "    except Exception as e:\n",
    "        pass"
   ]
  },
  {
   "cell_type": "code",
   "execution_count": 158,
   "metadata": {
    "scrolled": true
   },
   "outputs": [
    {
     "name": "stdout",
     "output_type": "stream",
     "text": [
      "bad text The policeman met his girl at an appointment.\n",
      "bad text The ballerina met his girl at an appointment.\n",
      "bad text The entertainer met his girl at an appointment.\n",
      "bad text The farmer met his girl at an appointment.\n",
      "bad text The worker met his girl at an appointment.\n",
      "bad text The nurse met his girl at an appointment.\n",
      "bad text The painter met his girl at an appointment.\n",
      "bad text The scientist met his girl at an appointment.\n",
      "bad text The senator met his girl at an appointment.\n",
      "bad text The student met his girl at an appointment.\n",
      "bad text The surgeon met his girl at an appointment.\n",
      "bad text The writer met his girl at an appointment.\n",
      "bad text The author and his girl have a son.\n",
      "bad text The baker and his girl have a son.\n",
      "bad text The policeman and his girl have a son.\n",
      "bad text The ballerina and his girl have a son.\n",
      "bad text The engineer and his girl have a son.\n",
      "bad text The entertainer and his girl have a son.\n",
      "bad text The businesswoman and his girl have a son.\n",
      "bad text The farmer and his girl have a son.\n",
      "bad text The journalist and his girl have a son.\n",
      "bad text The worker and his girl have a son.\n",
      "bad text The owner and his girl have a son.\n",
      "bad text The librarian and his girl have a son.\n",
      "bad text The nurse and his girl have a son.\n",
      "bad text The painter and his girl have a son.\n",
      "bad text The pharmacist and his girl have a son.\n",
      "bad text The photographer and his girl have a son.\n",
      "bad text The professor and his girl have a son.\n",
      "bad text The psychologist and his girl have a son.\n",
      "bad text The scientist and his girl have a son.\n",
      "bad text The secretary and girl have a son.\n",
      "bad text The senator and his girl have a son.\n",
      "bad text The student and his girl have a son.\n",
      "bad text The surgeon and his girl have a son.\n",
      "bad text The writer and his girl have a son.\n"
     ]
    }
   ],
   "source": [
    "## fix data etc.\n",
    "diff_gender_sentence_data = diff_gender_sentence_data.assign(**{\n",
    "    'translation' : sentence_translations\n",
    "})\n",
    "diff_gender_sentence_data = diff_gender_sentence_data.assign(**{\n",
    "    'translation_txt' : diff_gender_sentence_data.loc[:, 'translation'].apply(lambda x: x.text)\n",
    "})\n",
    "diff_gender_sentence_data = extract_subject_relationship_gender(diff_gender_sentence_data, relationship_words)\n",
    "diff_gender_sentence_data = translate_subject_relationship_words(diff_gender_sentence_data, occupation_words, relationship_words)\n",
    "diff_gender_sentence_data.to_csv('data/multilingual_occupation_relationship=diffgender_translations.gz', compression='gzip', sep='\\t', index=False)"
   ]
  },
  {
   "cell_type": "code",
   "execution_count": 177,
   "metadata": {
    "collapsed": true
   },
   "outputs": [],
   "source": [
    "## cleanup\n",
    "diff_gender_sentence_data = diff_gender_sentence_data.assign(**{\n",
    "    'subject_gender_match' : (diff_gender_sentence_data.loc[:, 'subject_gender'] == diff_gender_sentence_data.loc[:, 'translation_subject_gender']).astype(int),\n",
    "    'relationship_gender_match' : (diff_gender_sentence_data.loc[:, 'relationship_gender'] == diff_gender_sentence_data.loc[:, 'translation_relationship_gender']).astype(int),\n",
    "})\n",
    "valid_diff_gender_sentence_data = diff_gender_sentence_data[(diff_gender_sentence_data.loc[:, 'translation_subject_gender'].apply(lambda x: x is not None)) & \n",
    "                                                            (diff_gender_sentence_data.loc[:, 'translation_relationship_gender'].apply(lambda x: x is not None))]"
   ]
  },
  {
   "cell_type": "code",
   "execution_count": 178,
   "metadata": {},
   "outputs": [
    {
     "name": "stdout",
     "output_type": "stream",
     "text": [
      "65.45519971212667\n",
      "100.0\n"
     ]
    }
   ],
   "source": [
    "print(valid_diff_gender_sentence_data.loc[:, 'subject_gender_match'].mean()*100)\n",
    "print(valid_diff_gender_sentence_data.loc[:, 'relationship_gender_match'].mean()*100)"
   ]
  },
  {
   "cell_type": "code",
   "execution_count": 179,
   "metadata": {
    "scrolled": true
   },
   "outputs": [
    {
     "data": {
      "image/png": "[encoded data removed]",
      "text/plain": [
       "<Figure size 360x360 with 1 Axes>"
      ]
     },
     "metadata": {
      "needs_background": "light"
     },
     "output_type": "display_data"
    },
    {
     "data": {
      "image/png": "[encoded data removed]",
      "text/plain": [
       "<Figure size 360x360 with 1 Axes>"
      ]
     },
     "metadata": {
      "needs_background": "light"
     },
     "output_type": "display_data"
    },
    {
     "data": {
      "image/png": "[encoded data removed]",
      "text/plain": [
       "<Figure size 360x720 with 1 Axes>"
      ]
     },
     "metadata": {
      "needs_background": "light"
     },
     "output_type": "display_data"
    },
    {
     "data": {
      "image/png": "[encoded data removed]",
      "text/plain": [
       "<Figure size 360x360 with 1 Axes>"
      ]
     },
     "metadata": {
      "needs_background": "light"
     },
     "output_type": "display_data"
    }
   ],
   "source": [
    "## show distributions \n",
    "import matplotlib\n",
    "%matplotlib inline\n",
    "import matplotlib.pyplot as plt\n",
    "import seaborn as sns\n",
    "## gender\n",
    "plt.figure(figsize=(5,5))\n",
    "sns.barplot(data=valid_diff_gender_sentence_data, y='subject_gender', x='subject_gender_match')\n",
    "plt.title('Gender')\n",
    "## language\n",
    "plt.figure(figsize=(5,5))\n",
    "sns.barplot(data=valid_diff_gender_sentence_data, y='lang', x='subject_gender_match')\n",
    "plt.title('Language')\n",
    "# subject word\n",
    "plt.show()\n",
    "plt.figure(figsize=(5, 10))\n",
    "sns.barplot(data=valid_diff_gender_sentence_data, y='subject_word_en', x='subject_gender_match', order=list(sorted(valid_final_sentence_data.loc[:, 'subject_word_en'].unique())))\n",
    "plt.title('Subject word')\n",
    "# target word\n",
    "plt.show()\n",
    "plt.figure(figsize=(5,5))\n",
    "sns.barplot(data=valid_diff_gender_sentence_data, y='relationship_word_en', x='subject_gender_match')\n",
    "plt.title('Target word')\n",
    "plt.show()"
   ]
  },
  {
   "cell_type": "code",
   "execution_count": 180,
   "metadata": {},
   "outputs": [
    {
     "name": "stdout",
     "output_type": "stream",
     "text": [
      "**** gender=female ****\n"
     ]
    },
    {
     "data": {
      "image/png": "[encoded data removed]",
      "text/plain": [
       "<Figure size 360x360 with 1 Axes>"
      ]
     },
     "metadata": {
      "needs_background": "light"
     },
     "output_type": "display_data"
    },
    {
     "data": {
      "image/png": "[encoded data removed]",
      "text/plain": [
       "<Figure size 360x720 with 1 Axes>"
      ]
     },
     "metadata": {
      "needs_background": "light"
     },
     "output_type": "display_data"
    },
    {
     "data": {
      "image/png": "[encoded data removed]",
      "text/plain": [
       "<Figure size 360x360 with 1 Axes>"
      ]
     },
     "metadata": {
      "needs_background": "light"
     },
     "output_type": "display_data"
    },
    {
     "name": "stdout",
     "output_type": "stream",
     "text": [
      "**** gender=male ****\n"
     ]
    },
    {
     "data": {
      "image/png": "[encoded data removed]",
      "text/plain": [
       "<Figure size 360x360 with 1 Axes>"
      ]
     },
     "metadata": {
      "needs_background": "light"
     },
     "output_type": "display_data"
    },
    {
     "data": {
      "image/png": "[encoded data removed]",
      "text/plain": [
       "<Figure size 360x720 with 1 Axes>"
      ]
     },
     "metadata": {
      "needs_background": "light"
     },
     "output_type": "display_data"
    },
    {
     "data": {
      "image/png": "[encoded data removed]",
      "text/plain": [
       "<Figure size 360x360 with 1 Axes>"
      ]
     },
     "metadata": {
      "needs_background": "light"
     },
     "output_type": "display_data"
    }
   ],
   "source": [
    "for gender_i, data_i in valid_diff_gender_sentence_data.groupby('subject_gender'):\n",
    "    print(f'**** gender={gender_i} ****')\n",
    "    ## language\n",
    "    plt.figure(figsize=(5,5))\n",
    "    sns.barplot(data=data_i, y='lang', x='subject_gender_match')\n",
    "    plt.title('Language')\n",
    "    # subject word\n",
    "    plt.show()\n",
    "    plt.figure(figsize=(5, 10))\n",
    "    sns.barplot(data=data_i, y='subject_word_en', x='subject_gender_match', order=list(sorted(valid_final_sentence_data.loc[:, 'subject_word_en'].unique())))\n",
    "    plt.title('Subject word')\n",
    "    # target word\n",
    "    plt.show()\n",
    "    plt.figure(figsize=(5,5))\n",
    "    sns.barplot(data=data_i, y='relationship_word_en', x='subject_gender_match')\n",
    "    plt.title('Target word')\n",
    "    plt.show()"
   ]
  },
  {
   "cell_type": "markdown",
   "metadata": {},
   "source": [
    "- **Female**: the translations are generally more wrong for `female` subjects, but more correct for \"typical\" (?) `female` professions like `nurse`, `photographer`, `professor`, `teacher`.\n",
    "- **Male**: translations are overwhelmingly correct for `male` subjects except in some occupations like `nurse`, `photographer`, `professor`, `teacher`."
   ]
  },
  {
   "cell_type": "markdown",
   "metadata": {},
   "source": [
    "### Debug: access Google Translate API directly\n",
    "Borrowing code from [here](https://cloud.google.com/translate/docs/basic/translating-text#translate_translate_text-python)."
   ]
  },
  {
   "cell_type": "code",
   "execution_count": 1,
   "metadata": {
    "collapsed": true
   },
   "outputs": [],
   "source": [
    "import six\n",
    "from google.cloud import translate_v2 as translate\n",
    "def translate_text(target, text):\n",
    "    \"\"\"Translates text into the target language.\n",
    "\n",
    "    Target must be an ISO 639-1 language code.\n",
    "    See https://g.co/cloud/translate/v2/translate-reference#supported_languages\n",
    "    \"\"\"\n",
    "    translate_client = translate.Client()\n",
    "\n",
    "    if isinstance(text, six.binary_type):\n",
    "        text = text.decode(\"utf-8\")\n",
    "\n",
    "    # Text can also be a sequence of strings, in which case this method\n",
    "    # will return a sequence of results for each text.\n",
    "    result = translate_client.translate(text, target_language=target)\n",
    "\n",
    "    print(u\"Text: {}\".format(result[\"input\"]))\n",
    "    print(u\"Translation: {}\".format(result[\"translatedText\"]))\n",
    "    print(u\"Detected source language: {}\".format(result[\"detectedSourceLanguage\"]))"
   ]
  },
  {
   "cell_type": "code",
   "execution_count": 3,
   "metadata": {
    "scrolled": true
   },
   "outputs": [
    {
     "ename": "DefaultCredentialsError",
     "evalue": "Could not automatically determine credentials. Please set GOOGLE_APPLICATION_CREDENTIALS or explicitly create credentials and re-run the application. For more information, please see https://cloud.google.com/docs/authentication/getting-started",
     "output_type": "error",
     "traceback": [
      "\u001b[0;31m---------------------------------------------------------------------------\u001b[0m",
      "\u001b[0;31mDefaultCredentialsError\u001b[0m                   Traceback (most recent call last)",
      "\u001b[0;32m<ipython-input-3-2110ce50b2a9>\u001b[0m in \u001b[0;36m<module>\u001b[0;34m\u001b[0m\n\u001b[1;32m      1\u001b[0m \u001b[0mtarget\u001b[0m \u001b[0;34m=\u001b[0m \u001b[0;34m'es'\u001b[0m\u001b[0;34m\u001b[0m\u001b[0;34m\u001b[0m\u001b[0m\n\u001b[1;32m      2\u001b[0m \u001b[0mtext\u001b[0m \u001b[0;34m=\u001b[0m \u001b[0;34m'She kissed her wife'\u001b[0m\u001b[0;34m\u001b[0m\u001b[0;34m\u001b[0m\u001b[0m\n\u001b[0;32m----> 3\u001b[0;31m \u001b[0mtranslate_text\u001b[0m\u001b[0;34m(\u001b[0m\u001b[0mtarget\u001b[0m\u001b[0;34m,\u001b[0m \u001b[0mtext\u001b[0m\u001b[0;34m)\u001b[0m\u001b[0;34m\u001b[0m\u001b[0;34m\u001b[0m\u001b[0m\n\u001b[0m",
      "\u001b[0;32m<ipython-input-1-17e6b25845ff>\u001b[0m in \u001b[0;36mtranslate_text\u001b[0;34m(target, text)\u001b[0m\n\u001b[1;32m      7\u001b[0m     \u001b[0mSee\u001b[0m \u001b[0mhttps\u001b[0m\u001b[0;34m:\u001b[0m\u001b[0;34m//\u001b[0m\u001b[0mg\u001b[0m\u001b[0;34m.\u001b[0m\u001b[0mco\u001b[0m\u001b[0;34m/\u001b[0m\u001b[0mcloud\u001b[0m\u001b[0;34m/\u001b[0m\u001b[0mtranslate\u001b[0m\u001b[0;34m/\u001b[0m\u001b[0mv2\u001b[0m\u001b[0;34m/\u001b[0m\u001b[0mtranslate\u001b[0m\u001b[0;34m-\u001b[0m\u001b[0mreference\u001b[0m\u001b[0;31m#supported_languages\u001b[0m\u001b[0;34m\u001b[0m\u001b[0;34m\u001b[0m\u001b[0m\n\u001b[1;32m      8\u001b[0m     \"\"\"\n\u001b[0;32m----> 9\u001b[0;31m     \u001b[0mtranslate_client\u001b[0m \u001b[0;34m=\u001b[0m \u001b[0mtranslate\u001b[0m\u001b[0;34m.\u001b[0m\u001b[0mClient\u001b[0m\u001b[0;34m(\u001b[0m\u001b[0;34m)\u001b[0m\u001b[0;34m\u001b[0m\u001b[0;34m\u001b[0m\u001b[0m\n\u001b[0m\u001b[1;32m     10\u001b[0m \u001b[0;34m\u001b[0m\u001b[0m\n\u001b[1;32m     11\u001b[0m     \u001b[0;32mif\u001b[0m \u001b[0misinstance\u001b[0m\u001b[0;34m(\u001b[0m\u001b[0mtext\u001b[0m\u001b[0;34m,\u001b[0m \u001b[0msix\u001b[0m\u001b[0;34m.\u001b[0m\u001b[0mbinary_type\u001b[0m\u001b[0;34m)\u001b[0m\u001b[0;34m:\u001b[0m\u001b[0;34m\u001b[0m\u001b[0;34m\u001b[0m\u001b[0m\n",
      "\u001b[0;32m~/miniconda3/envs/py3/lib/python3.7/site-packages/google/cloud/translate_v2/client.py\u001b[0m in \u001b[0;36m__init__\u001b[0;34m(self, target_language, credentials, _http, client_info, client_options)\u001b[0m\n\u001b[1;32m     80\u001b[0m     ):\n\u001b[1;32m     81\u001b[0m         \u001b[0mself\u001b[0m\u001b[0;34m.\u001b[0m\u001b[0mtarget_language\u001b[0m \u001b[0;34m=\u001b[0m \u001b[0mtarget_language\u001b[0m\u001b[0;34m\u001b[0m\u001b[0;34m\u001b[0m\u001b[0m\n\u001b[0;32m---> 82\u001b[0;31m         \u001b[0msuper\u001b[0m\u001b[0;34m(\u001b[0m\u001b[0mClient\u001b[0m\u001b[0;34m,\u001b[0m \u001b[0mself\u001b[0m\u001b[0;34m)\u001b[0m\u001b[0;34m.\u001b[0m\u001b[0m__init__\u001b[0m\u001b[0;34m(\u001b[0m\u001b[0mcredentials\u001b[0m\u001b[0;34m=\u001b[0m\u001b[0mcredentials\u001b[0m\u001b[0;34m,\u001b[0m \u001b[0m_http\u001b[0m\u001b[0;34m=\u001b[0m\u001b[0m_http\u001b[0m\u001b[0;34m)\u001b[0m\u001b[0;34m\u001b[0m\u001b[0;34m\u001b[0m\u001b[0m\n\u001b[0m\u001b[1;32m     83\u001b[0m \u001b[0;34m\u001b[0m\u001b[0m\n\u001b[1;32m     84\u001b[0m         \u001b[0mkw_args\u001b[0m \u001b[0;34m=\u001b[0m \u001b[0;34m{\u001b[0m\u001b[0;34m\"client_info\"\u001b[0m\u001b[0;34m:\u001b[0m \u001b[0mclient_info\u001b[0m\u001b[0;34m}\u001b[0m\u001b[0;34m\u001b[0m\u001b[0;34m\u001b[0m\u001b[0m\n",
      "\u001b[0;32m~/miniconda3/envs/py3/lib/python3.7/site-packages/google/cloud/client.py\u001b[0m in \u001b[0;36m__init__\u001b[0;34m(self, credentials, _http, client_options)\u001b[0m\n\u001b[1;32m    174\u001b[0m                 )\n\u001b[1;32m    175\u001b[0m             \u001b[0;32melse\u001b[0m\u001b[0;34m:\u001b[0m\u001b[0;34m\u001b[0m\u001b[0;34m\u001b[0m\u001b[0m\n\u001b[0;32m--> 176\u001b[0;31m                 \u001b[0mcredentials\u001b[0m\u001b[0;34m,\u001b[0m \u001b[0m_\u001b[0m \u001b[0;34m=\u001b[0m \u001b[0mgoogle\u001b[0m\u001b[0;34m.\u001b[0m\u001b[0mauth\u001b[0m\u001b[0;34m.\u001b[0m\u001b[0mdefault\u001b[0m\u001b[0;34m(\u001b[0m\u001b[0mscopes\u001b[0m\u001b[0;34m=\u001b[0m\u001b[0mscopes\u001b[0m\u001b[0;34m)\u001b[0m\u001b[0;34m\u001b[0m\u001b[0;34m\u001b[0m\u001b[0m\n\u001b[0m\u001b[1;32m    177\u001b[0m \u001b[0;34m\u001b[0m\u001b[0m\n\u001b[1;32m    178\u001b[0m         self._credentials = google.auth.credentials.with_scopes_if_required(\n",
      "\u001b[0;32m~/miniconda3/envs/py3/lib/python3.7/site-packages/google/auth/_default.py\u001b[0m in \u001b[0;36mdefault\u001b[0;34m(scopes, request, quota_project_id, default_scopes)\u001b[0m\n\u001b[1;32m    484\u001b[0m             \u001b[0;32mreturn\u001b[0m \u001b[0mcredentials\u001b[0m\u001b[0;34m,\u001b[0m \u001b[0meffective_project_id\u001b[0m\u001b[0;34m\u001b[0m\u001b[0;34m\u001b[0m\u001b[0m\n\u001b[1;32m    485\u001b[0m \u001b[0;34m\u001b[0m\u001b[0m\n\u001b[0;32m--> 486\u001b[0;31m     \u001b[0;32mraise\u001b[0m \u001b[0mexceptions\u001b[0m\u001b[0;34m.\u001b[0m\u001b[0mDefaultCredentialsError\u001b[0m\u001b[0;34m(\u001b[0m\u001b[0m_HELP_MESSAGE\u001b[0m\u001b[0;34m)\u001b[0m\u001b[0;34m\u001b[0m\u001b[0;34m\u001b[0m\u001b[0m\n\u001b[0m",
      "\u001b[0;31mDefaultCredentialsError\u001b[0m: Could not automatically determine credentials. Please set GOOGLE_APPLICATION_CREDENTIALS or explicitly create credentials and re-run the application. For more information, please see https://cloud.google.com/docs/authentication/getting-started"
     ]
    }
   ],
   "source": [
    "target = 'es'\n",
    "text = 'She kissed her wife'\n",
    "translate_text(target, text)"
   ]
  },
  {
   "cell_type": "markdown",
   "metadata": {},
   "source": [
    "We need to provide credentials, which could lead to billing. It looks like (?) the Basic service provides 300 requests total before incurring billing. This is not enough.\n",
    "\n",
    "Actually it looks like 500K characters per month? [Here](https://cloud.google.com/translate/pricing)."
   ]
  },
  {
   "cell_type": "code",
   "execution_count": 12,
   "metadata": {},
   "outputs": [
    {
     "data": {
      "text/plain": [
       "'arcane-rigging-115120'"
      ]
     },
     "execution_count": 12,
     "metadata": {},
     "output_type": "execute_result"
    }
   ],
   "source": [
    "from os import environ\n",
    "environ['GOOGLE_APPLICATION_CREDENTIALS'] = 'data/google_auth_key.json'\n",
    "environ['PROJECT_ID'] = 'arcane-rigging-115120'\n",
    "environ.get('PROJECT_ID')"
   ]
  },
  {
   "cell_type": "code",
   "execution_count": 14,
   "metadata": {
    "scrolled": true
   },
   "outputs": [
    {
     "name": "stdout",
     "output_type": "stream",
     "text": [
      "translations {\n",
      "  translated_text: \"Bes\\303\\263 a su marido\"\n",
      "  detected_language_code: \"en\"\n",
      "}\n",
      "\n"
     ]
    }
   ],
   "source": [
    "from google.cloud import translate\n",
    "project_id = environ['PROJECT_ID']\n",
    "parent = f'projects/{project_id}'\n",
    "client = translate.TranslationServiceClient()\n",
    "sample_text = 'He kissed his husband'\n",
    "target_lang = 'es'\n",
    "response = client.translate_text(\n",
    "    contents=[sample_text],\n",
    "    target_language_code=target_lang,\n",
    "    parent=parent,\n",
    ")\n",
    "print(response)"
   ]
  },
  {
   "cell_type": "markdown",
   "metadata": {},
   "source": [
    "OK! This actually works. Let's try to use this from now on."
   ]
  },
  {
   "cell_type": "markdown",
   "metadata": {},
   "source": [
    "### Query translations: POSSESSIVE (Google Translate)\n",
    "\n",
    "Same thing as before, but using the official GT API.\n",
    "\n",
    "Keep an eye on the quotas [here](https://console.cloud.google.com/apis/api/translate.googleapis.com/overview?project=arcane-rigging-115120)."
   ]
  },
  {
   "cell_type": "code",
   "execution_count": 1,
   "metadata": {},
   "outputs": [],
   "source": [
    "from importlib import reload\n",
    "import data_helpers\n",
    "reload(data_helpers)\n",
    "from data_helpers import load_relationship_occupation_template_data, generate_occupation_relationship_sentence_data"
   ]
  },
  {
   "cell_type": "code",
   "execution_count": 13,
   "metadata": {},
   "outputs": [
    {
     "data": {
      "text/plain": [
       "['es', 'fr', 'it', 'en']"
      ]
     },
     "execution_count": 13,
     "metadata": {},
     "output_type": "execute_result"
    }
   ],
   "source": [
    "langs"
   ]
  },
  {
   "cell_type": "code",
   "execution_count": 14,
   "metadata": {},
   "outputs": [
    {
     "data": {
      "text/html": [
       "<div>\n",
       "<style scoped>\n",
       "    .dataframe tbody tr th:only-of-type {\n",
       "        vertical-align: middle;\n",
       "    }\n",
       "\n",
       "    .dataframe tbody tr th {\n",
       "        vertical-align: top;\n",
       "    }\n",
       "\n",
       "    .dataframe thead th {\n",
       "        text-align: right;\n",
       "    }\n",
       "</style>\n",
       "<table border=\"1\" class=\"dataframe\">\n",
       "  <thead>\n",
       "    <tr style=\"text-align: right;\">\n",
       "      <th></th>\n",
       "      <th>sent</th>\n",
       "      <th>lang</th>\n",
       "      <th>subject_word</th>\n",
       "      <th>relationship_word</th>\n",
       "      <th>subject_gender</th>\n",
       "      <th>relationship_gender</th>\n",
       "    </tr>\n",
       "  </thead>\n",
       "  <tbody>\n",
       "    <tr>\n",
       "      <th>0</th>\n",
       "      <td>el autor conoció a su novio en una cita.</td>\n",
       "      <td>es</td>\n",
       "      <td>autor</td>\n",
       "      <td>novio</td>\n",
       "      <td>male</td>\n",
       "      <td>male</td>\n",
       "    </tr>\n",
       "    <tr>\n",
       "      <th>1</th>\n",
       "      <td>el autor conoció a su prometido en una cita.</td>\n",
       "      <td>es</td>\n",
       "      <td>autor</td>\n",
       "      <td>prometido</td>\n",
       "      <td>male</td>\n",
       "      <td>male</td>\n",
       "    </tr>\n",
       "    <tr>\n",
       "      <th>2</th>\n",
       "      <td>el autor conoció a su esposo en una cita.</td>\n",
       "      <td>es</td>\n",
       "      <td>autor</td>\n",
       "      <td>esposo</td>\n",
       "      <td>male</td>\n",
       "      <td>male</td>\n",
       "    </tr>\n",
       "    <tr>\n",
       "      <th>3</th>\n",
       "      <td>el panadero conoció a su novio en una cita.</td>\n",
       "      <td>es</td>\n",
       "      <td>panadero</td>\n",
       "      <td>novio</td>\n",
       "      <td>male</td>\n",
       "      <td>male</td>\n",
       "    </tr>\n",
       "    <tr>\n",
       "      <th>4</th>\n",
       "      <td>el panadero conoció a su prometido en una cita.</td>\n",
       "      <td>es</td>\n",
       "      <td>panadero</td>\n",
       "      <td>prometido</td>\n",
       "      <td>male</td>\n",
       "      <td>male</td>\n",
       "    </tr>\n",
       "  </tbody>\n",
       "</table>\n",
       "</div>"
      ],
      "text/plain": [
       "                                               sent lang subject_word  \\\n",
       "0         el autor conoció a su novio en una cita.    es        autor   \n",
       "1     el autor conoció a su prometido en una cita.    es        autor   \n",
       "2        el autor conoció a su esposo en una cita.    es        autor   \n",
       "3      el panadero conoció a su novio en una cita.    es     panadero   \n",
       "4  el panadero conoció a su prometido en una cita.    es     panadero   \n",
       "\n",
       "  relationship_word subject_gender relationship_gender  \n",
       "0             novio           male                male  \n",
       "1         prometido           male                male  \n",
       "2            esposo           male                male  \n",
       "3             novio           male                male  \n",
       "4         prometido           male                male  "
      ]
     },
     "metadata": {},
     "output_type": "display_data"
    },
    {
     "data": {
      "text/html": [
       "<div>\n",
       "<style scoped>\n",
       "    .dataframe tbody tr th:only-of-type {\n",
       "        vertical-align: middle;\n",
       "    }\n",
       "\n",
       "    .dataframe tbody tr th {\n",
       "        vertical-align: top;\n",
       "    }\n",
       "\n",
       "    .dataframe thead th {\n",
       "        text-align: right;\n",
       "    }\n",
       "</style>\n",
       "<table border=\"1\" class=\"dataframe\">\n",
       "  <thead>\n",
       "    <tr style=\"text-align: right;\">\n",
       "      <th></th>\n",
       "      <th>sent</th>\n",
       "      <th>lang</th>\n",
       "      <th>subject_word</th>\n",
       "      <th>relationship_word</th>\n",
       "      <th>subject_gender</th>\n",
       "      <th>relationship_gender</th>\n",
       "    </tr>\n",
       "  </thead>\n",
       "  <tbody>\n",
       "    <tr>\n",
       "      <th>0</th>\n",
       "      <td>el autor conoció a su novia en una cita.</td>\n",
       "      <td>es</td>\n",
       "      <td>autor</td>\n",
       "      <td>novia</td>\n",
       "      <td>male</td>\n",
       "      <td>female</td>\n",
       "    </tr>\n",
       "    <tr>\n",
       "      <th>1</th>\n",
       "      <td>el autor conoció a su prometida en una cita.</td>\n",
       "      <td>es</td>\n",
       "      <td>autor</td>\n",
       "      <td>prometida</td>\n",
       "      <td>male</td>\n",
       "      <td>female</td>\n",
       "    </tr>\n",
       "    <tr>\n",
       "      <th>2</th>\n",
       "      <td>el autor conoció a su esposa en una cita.</td>\n",
       "      <td>es</td>\n",
       "      <td>autor</td>\n",
       "      <td>esposa</td>\n",
       "      <td>male</td>\n",
       "      <td>female</td>\n",
       "    </tr>\n",
       "    <tr>\n",
       "      <th>3</th>\n",
       "      <td>el panadero conoció a su novia en una cita.</td>\n",
       "      <td>es</td>\n",
       "      <td>panadero</td>\n",
       "      <td>novia</td>\n",
       "      <td>male</td>\n",
       "      <td>female</td>\n",
       "    </tr>\n",
       "    <tr>\n",
       "      <th>4</th>\n",
       "      <td>el panadero conoció a su prometida en una cita.</td>\n",
       "      <td>es</td>\n",
       "      <td>panadero</td>\n",
       "      <td>prometida</td>\n",
       "      <td>male</td>\n",
       "      <td>female</td>\n",
       "    </tr>\n",
       "  </tbody>\n",
       "</table>\n",
       "</div>"
      ],
      "text/plain": [
       "                                               sent lang subject_word  \\\n",
       "0         el autor conoció a su novia en una cita.    es        autor   \n",
       "1     el autor conoció a su prometida en una cita.    es        autor   \n",
       "2        el autor conoció a su esposa en una cita.    es        autor   \n",
       "3      el panadero conoció a su novia en una cita.    es     panadero   \n",
       "4  el panadero conoció a su prometida en una cita.    es     panadero   \n",
       "\n",
       "  relationship_word subject_gender relationship_gender  \n",
       "0             novia           male              female  \n",
       "1         prometida           male              female  \n",
       "2            esposa           male              female  \n",
       "3             novia           male              female  \n",
       "4         prometida           male              female  "
      ]
     },
     "metadata": {},
     "output_type": "display_data"
    },
    {
     "name": "stdout",
     "output_type": "stream",
     "text": [
      "234504 chars total\n"
     ]
    }
   ],
   "source": [
    "from itertools import product\n",
    "occupation_words, relationship_words, relationship_sents, langs, lang_art_PRON_lookup, lang_POSS_PRON_lookup = load_relationship_occupation_template_data()\n",
    "langs = ['es', 'fr', 'it']\n",
    "same_gender_sentence_data = generate_occupation_relationship_sentence_data(relationship_sents, \n",
    "                                                                           occupation_words, relationship_words, \n",
    "                                                                           lang_art_PRON_lookup, lang_POSS_PRON_lookup, \n",
    "                                                                           relationship_type='same_gender', langs=langs)\n",
    "diff_gender_sentence_data = generate_occupation_relationship_sentence_data(relationship_sents, \n",
    "                                                                           occupation_words, relationship_words, \n",
    "                                                                           lang_art_PRON_lookup, lang_POSS_PRON_lookup, \n",
    "                                                                           relationship_type='diff_gender', langs=langs)\n",
    "display(same_gender_sentence_data.head())\n",
    "display(diff_gender_sentence_data.head())\n",
    "# how many characters total? need to know for GT budget\n",
    "total_translation_chars = same_gender_sentence_data.loc[:, 'sent'].apply(len).sum() + diff_gender_sentence_data.loc[:, 'sent'].apply(len).sum()\n",
    "print(f'{total_translation_chars} chars total')"
   ]
  },
  {
   "cell_type": "code",
   "execution_count": 15,
   "metadata": {},
   "outputs": [],
   "source": [
    "from os import environ\n",
    "from google.cloud import translate\n",
    "def set_up_google_translate_client():\n",
    "    environ['GOOGLE_APPLICATION_CREDENTIALS'] = 'data/google_auth_key.json'\n",
    "    environ['PROJECT_ID'] = 'arcane-rigging-115120'\n",
    "    environ.get('PROJECT_ID')\n",
    "    project_id = environ['PROJECT_ID']\n",
    "    parent = f'projects/{project_id}'\n",
    "    client = translate.TranslationServiceClient()\n",
    "    return parent, client"
   ]
  },
  {
   "cell_type": "code",
   "execution_count": 16,
   "metadata": {},
   "outputs": [],
   "source": [
    "from time import sleep\n",
    "def get_google_translations(text, lang, client, project_parent):\n",
    "    translate_success = False\n",
    "    try_ctr = 0\n",
    "    max_tries = 5\n",
    "    SLEEP_TIME = 30\n",
    "    if(type(text) is str):\n",
    "        text = [text]\n",
    "    while(not translate_success and try_ctr < max_tries):\n",
    "        try:\n",
    "            response = client.translate_text(contents=text, target_language_code=lang, parent=project_parent)\n",
    "            translate_success = True\n",
    "        except Exception as e:\n",
    "            print(f'translation error={e} with text={text}; sleeping for {SLEEP_TIME} sec')\n",
    "            try_ctr += 1\n",
    "            sleep(SLEEP_TIME)\n",
    "    response_text = list(map(lambda x: x.translated_text, response._pb.translations))\n",
    "    return response_text"
   ]
  },
  {
   "cell_type": "code",
   "execution_count": 17,
   "metadata": {
    "scrolled": true
   },
   "outputs": [
    {
     "name": "stdout",
     "output_type": "stream",
     "text": [
      "['El panadero se casó con su esposa']\n"
     ]
    }
   ],
   "source": [
    "sample_text = 'The baker married her wife'\n",
    "target_lang = 'es'\n",
    "project_parent, client = set_up_google_translate_client()\n",
    "sample_response_text = get_google_translations([sample_text], target_lang, client, project_parent)\n",
    "print(sample_response_text)"
   ]
  },
  {
   "cell_type": "code",
   "execution_count": 9,
   "metadata": {
    "scrolled": true
   },
   "outputs": [
    {
     "name": "stderr",
     "output_type": "stream",
     "text": [
      "100%|██████████| 4320/4320 [05:30<00:00, 13.06it/s]\n"
     ]
    }
   ],
   "source": [
    "from tqdm import tqdm\n",
    "tqdm.pandas()\n",
    "target_lang = 'en'\n",
    "same_gender_translations = same_gender_sentence_data.loc[:, 'sent'].progress_apply(lambda x: get_google_translations(x, target_lang, client, project_parent))"
   ]
  },
  {
   "cell_type": "code",
   "execution_count": 10,
   "metadata": {},
   "outputs": [
    {
     "name": "stderr",
     "output_type": "stream",
     "text": [
      "100%|██████████| 4320/4320 [05:29<00:00, 13.11it/s]\n"
     ]
    }
   ],
   "source": [
    "diff_gender_translations = diff_gender_sentence_data.loc[:, 'sent'].progress_apply(lambda x: get_google_translations(x, target_lang, client, project_parent))"
   ]
  },
  {
   "cell_type": "code",
   "execution_count": 11,
   "metadata": {},
   "outputs": [],
   "source": [
    "# post-translate data cleanup\n",
    "same_gender_sentence_data = same_gender_sentence_data.assign(**{\n",
    "    'translation_txt' : list(map(lambda x: x[0], same_gender_translations))\n",
    "})\n",
    "diff_gender_sentence_data = diff_gender_sentence_data.assign(**{\n",
    "    'translation_txt' : list(map(lambda x: x[0], diff_gender_translations))\n",
    "})\n",
    "same_gender_sentence_data.to_csv('data/multilingual_occupation_relationship=samegender_model=googletranslate_translations.gz', compression='gzip', sep='\\t', index=False)\n",
    "diff_gender_sentence_data.to_csv('data/multilingual_occupation_relationship=diffgender_model=googletranslate_translations.gz', compression='gzip', sep='\\t', index=False)"
   ]
  },
  {
   "cell_type": "markdown",
   "metadata": {},
   "source": [
    "### Plot translation accuracy by subtype"
   ]
  },
  {
   "cell_type": "markdown",
   "metadata": {},
   "source": [
    "Let's plot everything side by side for completeness."
   ]
  },
  {
   "cell_type": "code",
   "execution_count": 2,
   "metadata": {},
   "outputs": [
    {
     "name": "stdout",
     "output_type": "stream",
     "text": [
      "bad text the ingeniero lived with his fianc2e.\n",
      "bad text the farmer kissed his boy.\n",
      "bad text the peasant lived with his boy.\n",
      "bad text the farmer and his boy have a son.\n",
      "bad text the banker kissed his bride.\n",
      "bad text the carpenter kissed his bride.\n",
      "bad text the farmer kissed his bride.\n",
      "bad text the engineer lived with his fianc2ee.\n"
     ]
    }
   ],
   "source": [
    "## reload etc\n",
    "import pandas as pd\n",
    "from importlib import reload\n",
    "import data_helpers\n",
    "reload(data_helpers)\n",
    "from data_helpers import load_clean_translation_data\n",
    "same_gender_sentence_data_file = 'data/multilingual_occupation_relationship=samegender_model=googletranslate_translations.gz'\n",
    "diff_gender_sentence_data_file = 'data/multilingual_occupation_relationship=diffgender_model=googletranslate_translations.gz'\n",
    "same_gender_sentence_data = load_clean_translation_data(same_gender_sentence_data_file)\n",
    "diff_gender_sentence_data = load_clean_translation_data(diff_gender_sentence_data_file)\n",
    "combined_sentence_data = pd.concat([\n",
    "    same_gender_sentence_data.assign(**{'relationship_type' : 'same_gender'}),\n",
    "    diff_gender_sentence_data.assign(**{'relationship_type' : 'diff_gender'})\n",
    "])\n",
    "# same_gender_sentence_data = pd.read_csv('data/multilingual_occupation_relationship=samegender_model=googletranslate_translations.gz', compression='gzip', sep='\\t')\n",
    "# diff_gender_sentence_data = pd.read_csv('data/multilingual_occupation_relationship=diffgender_model=googletranslate_translations.gz', compression='gzip', sep='\\t')\n",
    "# same_gender_sentence_data = same_gender_sentence_data[same_gender_sentence_data.loc[:, 'lang']!='en']\n",
    "# diff_gender_sentence_data = diff_gender_sentence_data[diff_gender_sentence_data.loc[:, 'lang']!='en']\n",
    "# # get translation target gender etc.\n",
    "# from data_helpers import load_relationship_occupation_template_data\n",
    "# occupation_words, relationship_words, relationship_sents, langs, lang_art_PRON_lookup, lang_POSS_PRON_lookup = load_relationship_occupation_template_data()\n",
    "# ## add subject, target genders\n",
    "# from data_helpers import extract_subject_relationship_gender, translate_subject_relationship_words\n",
    "# same_gender_sentence_data = extract_subject_relationship_gender(same_gender_sentence_data, relationship_words)\n",
    "# same_gender_sentence_data = translate_subject_relationship_words(same_gender_sentence_data, occupation_words, relationship_words)\n",
    "# diff_gender_sentence_data = extract_subject_relationship_gender(diff_gender_sentence_data, relationship_words)\n",
    "# diff_gender_sentence_data = translate_subject_relationship_words(diff_gender_sentence_data, occupation_words, relationship_words)\n",
    "# # fix column types?\n",
    "# ## get gender-match stats\n",
    "# ## same-gender data\n",
    "# same_gender_sentence_data = same_gender_sentence_data.assign(**{\n",
    "#     'subject_gender_match' : (same_gender_sentence_data.loc[:, 'subject_gender'] == same_gender_sentence_data.loc[:, 'translation_subject_gender']).astype(int),\n",
    "#     'relationship_gender_match' : (same_gender_sentence_data.loc[:, 'subject_gender'] == same_gender_sentence_data.loc[:, 'translation_relationship_gender']).astype(int),\n",
    "# })\n",
    "# # limit to valid data (non-None)\n",
    "# valid_same_gender_sentence_data = same_gender_sentence_data[(same_gender_sentence_data.loc[:, 'translation_subject_gender'].apply(lambda x: x is not None)) & \n",
    "#                                                             (same_gender_sentence_data.loc[:, 'translation_relationship_gender'].apply(lambda x: x is not None))]\n",
    "# print(f'{valid_same_gender_sentence_data.shape[0]/same_gender_sentence_data.shape[0]} valid gender translation data for same-gender pairs')\n",
    "# ## get \"both match\" var\n",
    "# valid_same_gender_sentence_data = valid_same_gender_sentence_data.assign(**{\n",
    "#     'subject_relationship_gender_match' : valid_same_gender_sentence_data.loc[:, ['relationship_gender_match', 'subject_gender_match']].min(axis=1)\n",
    "# })\n",
    "# ## diff-gender data\n",
    "# diff_gender_sentence_data = diff_gender_sentence_data.assign(**{\n",
    "#     'subject_gender_match' : (diff_gender_sentence_data.loc[:, 'subject_gender'] == diff_gender_sentence_data.loc[:, 'translation_subject_gender']).astype(int),\n",
    "#     'relationship_gender_match' : (diff_gender_sentence_data.loc[:, 'relationship_gender'] == diff_gender_sentence_data.loc[:, 'translation_relationship_gender']).astype(int),\n",
    "# })\n",
    "# valid_diff_gender_sentence_data = diff_gender_sentence_data[(diff_gender_sentence_data.loc[:, 'translation_subject_gender'].apply(lambda x: x is not None)) & \n",
    "#                                                             (diff_gender_sentence_data.loc[:, 'translation_relationship_gender'].apply(lambda x: x is not None))]\n",
    "# print(f'{valid_diff_gender_sentence_data.shape[0]/diff_gender_sentence_data.shape[0]} valid gender translation data for diff-gender pairs')\n",
    "# ## combine diff + same gender data for plotting\n",
    "# combined_sentence_data = pd.concat([\n",
    "#     valid_same_gender_sentence_data.assign(**{'relationship_type' : 'same_gender'}),\n",
    "#     valid_diff_gender_sentence_data.assign(**{'relationship_type' : 'diff_gender'}),\n",
    "# ], axis=0)\n",
    "# # fix categories\n",
    "# relationship_target_categories = {\n",
    "#     'FRIEND' : ['boyfriend', 'girlfriend'],\n",
    "#     'ENGAGE' : ['fiance', 'fiancee'],\n",
    "#     'SPOUSE' : ['husband', 'wife'],\n",
    "# }\n",
    "# relationship_target_categories = {\n",
    "#     v1 : k for k, v in relationship_target_categories.items() for v1 in v\n",
    "# }\n",
    "# combined_sentence_data = combined_sentence_data.assign(**{\n",
    "#     'relationship_word_category' : combined_sentence_data.loc[:, 'relationship_word_en'].apply(relationship_target_categories.get)\n",
    "# })"
   ]
  },
  {
   "cell_type": "code",
   "execution_count": 3,
   "metadata": {
    "scrolled": true
   },
   "outputs": [
    {
     "data": {
      "image/png": "[encoded data removed]",
      "text/plain": [
       "<Figure size 432x288 with 1 Axes>"
      ]
     },
     "metadata": {
      "needs_background": "light"
     },
     "output_type": "display_data"
    },
    {
     "data": {
      "image/png": "[encoded data removed]",
      "text/plain": [
       "<Figure size 360x72 with 1 Axes>"
      ]
     },
     "metadata": {
      "needs_background": "light"
     },
     "output_type": "display_data"
    },
    {
     "data": {
      "image/png": "[encoded data removed]",
      "text/plain": [
       "<Figure size 360x108 with 1 Axes>"
      ]
     },
     "metadata": {
      "needs_background": "light"
     },
     "output_type": "display_data"
    },
    {
     "data": {
      "image/png": "[encoded data removed]",
      "text/plain": [
       "<Figure size 360x1584 with 1 Axes>"
      ]
     },
     "metadata": {
      "needs_background": "light"
     },
     "output_type": "display_data"
    },
    {
     "data": {
      "image/png": "[encoded data removed]",
      "text/plain": [
       "<Figure size 360x108 with 1 Axes>"
      ]
     },
     "metadata": {
      "needs_background": "light"
     },
     "output_type": "display_data"
    },
    {
     "data": {
      "image/png": "[encoded data removed]",
      "text/plain": [
       "<Figure size 360x180 with 1 Axes>"
      ]
     },
     "metadata": {
      "needs_background": "light"
     },
     "output_type": "display_data"
    }
   ],
   "source": [
    "## show distributions \n",
    "import matplotlib\n",
    "%matplotlib inline\n",
    "import matplotlib.pyplot as plt\n",
    "import seaborn as sns\n",
    "def plot_scores_per_attribute(data, attr_var, title, score_var='subject_gender_match', hue_var='relationship_type'):\n",
    "    width = 5\n",
    "    height = data.loc[:, attr_var].nunique() * 0.5\n",
    "    plt.figure(figsize=(width, height))\n",
    "    sns.barplot(data=data, y=attr_var, x=score_var, hue=hue_var)\n",
    "    plt.title(title)\n",
    "    plt.show()\n",
    "score_var = 'subject_gender_match'\n",
    "## overall\n",
    "sns.barplot(data=combined_sentence_data, y='relationship_type', x=score_var)\n",
    "plt.title('All data')\n",
    "plt.show()\n",
    "attr_vars = [\n",
    "    ('subject_gender','Gender'),\n",
    "    ('lang', 'Language'),\n",
    "    ('subject_word_en', 'Subject word'),\n",
    "    ('relationship_word_category', 'Target word'),\n",
    "    ('relationship_topic', 'Relationship topic'),\n",
    "]\n",
    "for attr_var_i, title_i in attr_vars:\n",
    "    plot_scores_per_attribute(combined_sentence_data, attr_var_i, title_i, score_var=score_var)\n"
   ]
  },
  {
   "cell_type": "markdown",
   "metadata": {},
   "source": [
    "Let's do the same thing but try to put everything on the same axis."
   ]
  },
  {
   "cell_type": "code",
   "execution_count": 1,
   "metadata": {},
   "outputs": [],
   "source": [
    "def plot_adjacent_scores(data, score_var='subject_gender_match', \n",
    "                         type_var='relationship_type', \n",
    "                         type_var_name='Relationship type',\n",
    "                         plot_attr_vars=None):\n",
    "    if(plot_attr_vars is None):\n",
    "        plot_attr_vars = [\n",
    "        ('subject_gender','Gender'),\n",
    "        ('lang', 'Language'),\n",
    "        ('relationship_word_category', 'Target word'),\n",
    "        ('relationship_topic', 'Relationship topic'),\n",
    "        ]\n",
    "    N_cols = len(plot_attr_vars) + 1\n",
    "    height = 4\n",
    "    width = N_cols*3.\n",
    "    sns.set_style('whitegrid')\n",
    "    f, axs = plt.subplots(1, N_cols, figsize=(width, height))\n",
    "    bar_width = 0.5\n",
    "    # plot overall scores\n",
    "    overall_plot = sns.barplot(data=data, x=type_var, y=score_var, ax=axs[0])\n",
    "    overall_plot.set(xlabel=type_var_name)\n",
    "    # plot scores per attribute\n",
    "    for i, (attr_var_i, title_i) in enumerate(plot_attr_vars):\n",
    "        ax_i = axs[i+1]\n",
    "        width_i = data.loc[:, attr_var_i].nunique() * 1.5\n",
    "        # set figure size\n",
    "        sns.set(rc={'figure.figsize' : (width_i, height)})\n",
    "        # rotate x ticks\n",
    "        ax_i.set_xticklabels(ax_i.get_xticklabels(), rotation=45)\n",
    "        plot_i = sns.barplot(data=data, x=attr_var_i, y=score_var, hue=type_var, ax=ax_i)\n",
    "        plot_i.set(ylabel=None, yticklabels=[], xlabel=title_i)\n",
    "        if(i+1 < N_cols-1):\n",
    "            plot_i.get_legend().remove()\n",
    "        else:\n",
    "            ax_i.legend(loc='center right')\n",
    "    plt.tight_layout()\n",
    "    plt.show()"
   ]
  },
  {
   "cell_type": "code",
   "execution_count": null,
   "metadata": {},
   "outputs": [],
   "source": []
  },
  {
   "cell_type": "code",
   "execution_count": 11,
   "metadata": {},
   "outputs": [
    {
     "name": "stderr",
     "output_type": "stream",
     "text": [
      "<ipython-input-11-a4e5c5e43b0f>:23: UserWarning: FixedFormatter should only be used together with FixedLocator\n",
      "  ax_i.set_xticklabels(ax_i.get_xticklabels(), rotation=45)\n",
      "<ipython-input-11-a4e5c5e43b0f>:23: UserWarning: FixedFormatter should only be used together with FixedLocator\n",
      "  ax_i.set_xticklabels(ax_i.get_xticklabels(), rotation=45)\n",
      "<ipython-input-11-a4e5c5e43b0f>:23: UserWarning: FixedFormatter should only be used together with FixedLocator\n",
      "  ax_i.set_xticklabels(ax_i.get_xticklabels(), rotation=45)\n",
      "<ipython-input-11-a4e5c5e43b0f>:23: UserWarning: FixedFormatter should only be used together with FixedLocator\n",
      "  ax_i.set_xticklabels(ax_i.get_xticklabels(), rotation=45)\n"
     ]
    },
    {
     "data": {
      "image/png": "[encoded data removed]",
      "text/plain": [
       "<Figure size 1080x288 with 5 Axes>"
      ]
     },
     "metadata": {},
     "output_type": "display_data"
    }
   ],
   "source": [
    "plot_attr_vars = [\n",
    "    ('subject_gender','Gender'),\n",
    "    ('lang', 'Language'),\n",
    "    ('relationship_word_category', 'Target word'),\n",
    "    ('relationship_topic', 'Relationship topic'),\n",
    "]\n",
    "N_cols = len(plot_attr_vars) + 1\n",
    "height = 4\n",
    "width = N_cols*3.\n",
    "sns.set_style('whitegrid')\n",
    "f, axs = plt.subplots(1, N_cols, figsize=(width, height))\n",
    "bar_width = 0.5\n",
    "# plot overall scores\n",
    "overall_plot = sns.barplot(data=combined_sentence_data, x='relationship_type', y='subject_gender_match', ax=axs[0])\n",
    "overall_plot.set(xlabel='Relationship type')\n",
    "# plot scores per attribute\n",
    "for i, (attr_var_i, title_i) in enumerate(plot_attr_vars):\n",
    "    ax_i = axs[i+1]\n",
    "    width_i = combined_sentence_data.loc[:, attr_var_i].nunique() * 1.5\n",
    "    # set figure size\n",
    "    sns.set(rc={'figure.figsize' : (width_i, height)})\n",
    "    # rotate x ticks\n",
    "    ax_i.set_xticklabels(ax_i.get_xticklabels(), rotation=45)\n",
    "    plot_i = sns.barplot(data=combined_sentence_data, x=attr_var_i, y='subject_gender_match', hue='relationship_type', ax=ax_i)\n",
    "    plot_i.set(ylabel=None, yticklabels=[], xlabel=title_i)\n",
    "    if(i+1 < N_cols-1):\n",
    "        plot_i.get_legend().remove()\n",
    "    else:\n",
    "        ax_i.legend(loc='center right')\n",
    "plt.tight_layout()\n",
    "plt.show()\n",
    "## facet grid does not work!! different x axis for each variable\n",
    "# use facet grid https://www.geeksforgeeks.org/multi-plot-grid-in-seaborn/\n",
    "# flatten data because ugh\n",
    "# flat_sentence_data = combined_sentence_data.melt(id_vars=['sent', 'translation_txt', 'lang', 'relationship_type', 'subject_gender_match'], \n",
    "#                                                  value_vars=plot_attr_vars,\n",
    "#                                                  value_name='attr_val', var_name='attr_var')\n",
    "# grid_plot = sns.FacetGrid(flat_sentence_data, col='attr_var')\n",
    "# grid_plot.map(sns.barplot, 'attr_val', 'subject_gender_match')\n",
    "# plt.show()\n",
    "\n",
    "# display(flat_sentence_data.head())"
   ]
  },
  {
   "cell_type": "markdown",
   "metadata": {},
   "source": [
    "### Translation error analysis: occupation metadata\n",
    "Let's look at some metadata for the different occupations and see if that predicts translation bias. \n",
    "\n",
    "- income level (lower income ~ less barrier to entry ~ less bias)\n",
    "- female representation (gender equality ~ less bias)\n",
    "- age (younger ~ less bias)\n",
    "\n",
    "We'll do this as a typical regression, w/ controls for language, relationship type, etc."
   ]
  },
  {
   "cell_type": "code",
   "execution_count": 52,
   "metadata": {
    "scrolled": true
   },
   "outputs": [
    {
     "data": {
      "text/html": [
       "<div>\n",
       "<style scoped>\n",
       "    .dataframe tbody tr th:only-of-type {\n",
       "        vertical-align: middle;\n",
       "    }\n",
       "\n",
       "    .dataframe tbody tr th {\n",
       "        vertical-align: top;\n",
       "    }\n",
       "\n",
       "    .dataframe thead th {\n",
       "        text-align: right;\n",
       "    }\n",
       "</style>\n",
       "<table border=\"1\" class=\"dataframe\">\n",
       "  <thead>\n",
       "    <tr style=\"text-align: right;\">\n",
       "      <th></th>\n",
       "      <th>Occupation</th>\n",
       "      <th>total_pop</th>\n",
       "      <th>16 to 19 \\nyears</th>\n",
       "      <th>20 to 24 \\nyears</th>\n",
       "      <th>25 to 34 \\nyears</th>\n",
       "      <th>35 to 44 \\nyears</th>\n",
       "      <th>45 to 54 \\nyears</th>\n",
       "      <th>55 to 64 \\nyears</th>\n",
       "      <th>65 years\\nand over</th>\n",
       "      <th>median_age</th>\n",
       "    </tr>\n",
       "  </thead>\n",
       "  <tbody>\n",
       "    <tr>\n",
       "      <th>0</th>\n",
       "      <td>Total employed</td>\n",
       "      <td>152581.0</td>\n",
       "      <td>5,266</td>\n",
       "      <td>13,409</td>\n",
       "      <td>34,578</td>\n",
       "      <td>32,734</td>\n",
       "      <td>30,554</td>\n",
       "      <td>25,912</td>\n",
       "      <td>10,127</td>\n",
       "      <td>42.2</td>\n",
       "    </tr>\n",
       "    <tr>\n",
       "      <th>1</th>\n",
       "      <td>Management,  professional, and related occupat...</td>\n",
       "      <td>64744.0</td>\n",
       "      <td>420</td>\n",
       "      <td>3,267</td>\n",
       "      <td>15,222</td>\n",
       "      <td>15,625</td>\n",
       "      <td>14,238</td>\n",
       "      <td>11,394</td>\n",
       "      <td>4,579</td>\n",
       "      <td>43.8</td>\n",
       "    </tr>\n",
       "    <tr>\n",
       "      <th>2</th>\n",
       "      <td>Management, business, and financial operations...</td>\n",
       "      <td>27864.0</td>\n",
       "      <td>100</td>\n",
       "      <td>1,052</td>\n",
       "      <td>5,726</td>\n",
       "      <td>6,783</td>\n",
       "      <td>6,603</td>\n",
       "      <td>5,411</td>\n",
       "      <td>2,189</td>\n",
       "      <td>45.5</td>\n",
       "    </tr>\n",
       "    <tr>\n",
       "      <th>3</th>\n",
       "      <td>Management occupations</td>\n",
       "      <td>18986.0</td>\n",
       "      <td>74</td>\n",
       "      <td>573</td>\n",
       "      <td>3,413</td>\n",
       "      <td>4,728</td>\n",
       "      <td>4,704</td>\n",
       "      <td>3,863</td>\n",
       "      <td>1,630</td>\n",
       "      <td>46.5</td>\n",
       "    </tr>\n",
       "    <tr>\n",
       "      <th>4</th>\n",
       "      <td>Chief executives</td>\n",
       "      <td>1664.0</td>\n",
       "      <td>1</td>\n",
       "      <td>4</td>\n",
       "      <td>157</td>\n",
       "      <td>388</td>\n",
       "      <td>446</td>\n",
       "      <td>464</td>\n",
       "      <td>204</td>\n",
       "      <td>51.6</td>\n",
       "    </tr>\n",
       "  </tbody>\n",
       "</table>\n",
       "</div>"
      ],
      "text/plain": [
       "                                          Occupation  total_pop  \\\n",
       "0                                     Total employed   152581.0   \n",
       "1  Management,  professional, and related occupat...    64744.0   \n",
       "2  Management, business, and financial operations...    27864.0   \n",
       "3                             Management occupations    18986.0   \n",
       "4                                   Chief executives     1664.0   \n",
       "\n",
       "  16 to 19 \\nyears 20 to 24 \\nyears 25 to 34 \\nyears 35 to 44 \\nyears  \\\n",
       "0            5,266           13,409           34,578           32,734   \n",
       "1              420            3,267           15,222           15,625   \n",
       "2              100            1,052            5,726            6,783   \n",
       "3               74              573            3,413            4,728   \n",
       "4                1                4              157              388   \n",
       "\n",
       "  45 to 54 \\nyears 55 to 64 \\nyears 65 years\\nand over  median_age  \n",
       "0           30,554           25,912             10,127        42.2  \n",
       "1           14,238           11,394              4,579        43.8  \n",
       "2            6,603            5,411              2,189        45.5  \n",
       "3            4,704            3,863              1,630        46.5  \n",
       "4              446              464                204        51.6  "
      ]
     },
     "metadata": {},
     "output_type": "display_data"
    },
    {
     "data": {
      "text/html": [
       "<div>\n",
       "<style scoped>\n",
       "    .dataframe tbody tr th:only-of-type {\n",
       "        vertical-align: middle;\n",
       "    }\n",
       "\n",
       "    .dataframe tbody tr th {\n",
       "        vertical-align: top;\n",
       "    }\n",
       "\n",
       "    .dataframe thead th {\n",
       "        text-align: right;\n",
       "    }\n",
       "</style>\n",
       "<table border=\"1\" class=\"dataframe\">\n",
       "  <thead>\n",
       "    <tr style=\"text-align: right;\">\n",
       "      <th></th>\n",
       "      <th>Occupation</th>\n",
       "      <th>total_pop</th>\n",
       "      <th>Number of men</th>\n",
       "      <th>Number of women</th>\n",
       "      <th>women_pct</th>\n",
       "      <th>median_earnings</th>\n",
       "      <th>Median earnings men</th>\n",
       "      <th>Median earnings women</th>\n",
       "      <th>Women's earnings as a percentage of men's earnings</th>\n",
       "    </tr>\n",
       "  </thead>\n",
       "  <tbody>\n",
       "    <tr>\n",
       "      <th>0</th>\n",
       "      <td>Accountants and auditors</td>\n",
       "      <td>1442414.0</td>\n",
       "      <td>596,824</td>\n",
       "      <td>845,590</td>\n",
       "      <td>58.6</td>\n",
       "      <td>70258.0</td>\n",
       "      <td>80,288</td>\n",
       "      <td>64,303</td>\n",
       "      <td>80.1</td>\n",
       "    </tr>\n",
       "    <tr>\n",
       "      <th>1</th>\n",
       "      <td>Actuaries</td>\n",
       "      <td>30007.0</td>\n",
       "      <td>18,798</td>\n",
       "      <td>11,209</td>\n",
       "      <td>37.4</td>\n",
       "      <td>121833.0</td>\n",
       "      <td>133,788</td>\n",
       "      <td>101,006</td>\n",
       "      <td>75.5</td>\n",
       "    </tr>\n",
       "    <tr>\n",
       "      <th>2</th>\n",
       "      <td>Administrative services managers</td>\n",
       "      <td>56637.0</td>\n",
       "      <td>17,489</td>\n",
       "      <td>39,148</td>\n",
       "      <td>69.1</td>\n",
       "      <td>64213.0</td>\n",
       "      <td>76,445</td>\n",
       "      <td>60,398</td>\n",
       "      <td>79.0</td>\n",
       "    </tr>\n",
       "    <tr>\n",
       "      <th>3</th>\n",
       "      <td>Advertising and promotions managers</td>\n",
       "      <td>47962.0</td>\n",
       "      <td>20,939</td>\n",
       "      <td>27,023</td>\n",
       "      <td>56.3</td>\n",
       "      <td>81019.0</td>\n",
       "      <td>91,634</td>\n",
       "      <td>72,041</td>\n",
       "      <td>78.6</td>\n",
       "    </tr>\n",
       "    <tr>\n",
       "      <th>4</th>\n",
       "      <td>Advertising sales agents</td>\n",
       "      <td>103843.0</td>\n",
       "      <td>48,747</td>\n",
       "      <td>55,096</td>\n",
       "      <td>53.1</td>\n",
       "      <td>67930.0</td>\n",
       "      <td>75,437</td>\n",
       "      <td>61,978</td>\n",
       "      <td>82.2</td>\n",
       "    </tr>\n",
       "  </tbody>\n",
       "</table>\n",
       "</div>"
      ],
      "text/plain": [
       "                            Occupation  total_pop Number of men  \\\n",
       "0             Accountants and auditors  1442414.0       596,824   \n",
       "1                            Actuaries    30007.0        18,798   \n",
       "2     Administrative services managers    56637.0        17,489   \n",
       "3  Advertising and promotions managers    47962.0        20,939   \n",
       "4             Advertising sales agents   103843.0        48,747   \n",
       "\n",
       "  Number of women  women_pct  median_earnings Median earnings men  \\\n",
       "0         845,590       58.6          70258.0              80,288   \n",
       "1          11,209       37.4         121833.0             133,788   \n",
       "2          39,148       69.1          64213.0              76,445   \n",
       "3          27,023       56.3          81019.0              91,634   \n",
       "4          55,096       53.1          67930.0              75,437   \n",
       "\n",
       "  Median earnings women  Women's earnings as a percentage of men's earnings  \n",
       "0                64,303                                               80.1   \n",
       "1               101,006                                               75.5   \n",
       "2                60,398                                               79.0   \n",
       "3                72,041                                               78.6   \n",
       "4                61,978                                               82.2   "
      ]
     },
     "metadata": {},
     "output_type": "display_data"
    }
   ],
   "source": [
    "## get occupation data + categories\n",
    "import pandas as pd\n",
    "occupation_data = pd.read_csv('data/multilingual_gender_occupations.tsv', sep='\\t')\n",
    "occupation_category_data = pd.read_csv('data/metadata/occupation_categories.tsv', sep='\\t')\n",
    "# convert categories => list\n",
    "category_vars = list(filter(lambda x: x.startswith('categories_'), occupation_category_data.columns))\n",
    "occupation_category_data = occupation_category_data.assign(**{\n",
    "    var_i : occupation_category_data.loc[:, var_i].apply(lambda x: x.split(';') if type(x) is str else [])\n",
    "    for var_i in category_vars\n",
    "})\n",
    "## get other metadata\n",
    "age_occupation_data = pd.read_csv('data/metadata/age_occupation_data.tsv', sep='\\t')\n",
    "income_gender_occupation_data = pd.read_csv('data/metadata/female_work_representation_data.tsv', sep='\\t')\n",
    "# fix column names\n",
    "age_occupation_data.rename(columns={'Median\\n age' : 'median_age', 'Total, 16\\nyears and\\n over' : 'total_pop'}, inplace=True)\n",
    "income_gender_occupation_data.rename(columns={'Median earnings' : 'median_earnings', 'Percentage of women in occupational group' : 'women_pct', 'Number of full-time workers' : 'total_pop'}, inplace=True)\n",
    "# remove occupation w/ insufficient data\n",
    "age_occupation_data = age_occupation_data[age_occupation_data.loc[:, 'median_age']!='–']\n",
    "# fix numbers\n",
    "number_vars = ['median_earnings', 'total_pop', 'median_age']\n",
    "for number_var_i in number_vars:\n",
    "    if(number_var_i in income_gender_occupation_data.columns):\n",
    "        income_gender_occupation_data = income_gender_occupation_data.assign(**{\n",
    "            number_var_i : income_gender_occupation_data.loc[:, number_var_i].apply(lambda x: x.replace(',','')  if type(x) is str else x).astype(float)\n",
    "        })\n",
    "    if(number_var_i in age_occupation_data.columns):\n",
    "        age_occupation_data = age_occupation_data.assign(**{\n",
    "            number_var_i : age_occupation_data.loc[:, number_var_i].apply(lambda x: x.replace(',','') if type(x) is str else x).astype(float)\n",
    "        })\n",
    "display(age_occupation_data.head())\n",
    "display(income_gender_occupation_data.head())"
   ]
  },
  {
   "cell_type": "code",
   "execution_count": 36,
   "metadata": {},
   "outputs": [],
   "source": [
    "import numpy as np\n",
    "def get_mean_attribute_per_occupation(attr, occupation_categories, occupation_data, pop_var='total_pop', occupation_var='Occupation'):\n",
    "    ## get weighted mean of attribute per occupation\n",
    "    ## ex. if \"artist\" has 2 categories, compute X% * attr_X + Y% * attr_Y\n",
    "    category_match_occupation_data = occupation_data[occupation_data.loc[:, occupation_var].isin(occupation_categories)]\n",
    "    attr_per_pop = np.nan\n",
    "    if(category_match_occupation_data.shape[0] > 0):\n",
    "        attr_per_pop = (category_match_occupation_data.loc[:, pop_var] * category_match_occupation_data.loc[:, attr]).sum() / category_match_occupation_data.loc[:, pop_var].sum()\n",
    "    return attr_per_pop"
   ]
  },
  {
   "cell_type": "code",
   "execution_count": 103,
   "metadata": {
    "scrolled": true
   },
   "outputs": [],
   "source": [
    "# income\n",
    "income_attr = 'median_earnings'\n",
    "occupation_category_data = occupation_category_data.assign(**{\n",
    "    'income' : occupation_category_data.loc[:, 'categories_BOLS'].apply(lambda x: get_mean_attribute_per_occupation(income_attr, x, income_gender_occupation_data))\n",
    "})\n",
    "# gender\n",
    "gender_attr = 'women_pct'\n",
    "occupation_category_data = occupation_category_data.assign(**{\n",
    "    'women_pct' : occupation_category_data.loc[:, 'categories_BOLS'].apply(lambda x: get_mean_attribute_per_occupation(gender_attr, x, income_gender_occupation_data))\n",
    "})\n",
    "# age\n",
    "age_attr = 'median_age'\n",
    "occupation_category_data = occupation_category_data.assign(**{\n",
    "    'age' : occupation_category_data.loc[:, 'categories_DOL'].apply(lambda x: get_mean_attribute_per_occupation(age_attr, x, age_occupation_data))\n",
    "})\n",
    "# Z-norm everything for regression!!\n",
    "from sklearn.preprocessing import StandardScaler\n",
    "occupation_social_vars = ['income', 'women_pct', 'age']\n",
    "for var_i in occupation_social_vars:\n",
    "    scaler = StandardScaler()\n",
    "    vals_i = scaler.fit_transform(occupation_category_data.loc[:, var_i].values.reshape(-1,1))\n",
    "    occupation_category_data = occupation_category_data.assign(**{\n",
    "        var_i : vals_i\n",
    "    })"
   ]
  },
  {
   "cell_type": "code",
   "execution_count": 104,
   "metadata": {},
   "outputs": [
    {
     "data": {
      "text/html": [
       "<div>\n",
       "<style scoped>\n",
       "    .dataframe tbody tr th:only-of-type {\n",
       "        vertical-align: middle;\n",
       "    }\n",
       "\n",
       "    .dataframe tbody tr th {\n",
       "        vertical-align: top;\n",
       "    }\n",
       "\n",
       "    .dataframe thead th {\n",
       "        text-align: right;\n",
       "    }\n",
       "</style>\n",
       "<table border=\"1\" class=\"dataframe\">\n",
       "  <thead>\n",
       "    <tr style=\"text-align: right;\">\n",
       "      <th></th>\n",
       "      <th>occupation</th>\n",
       "      <th>categories_BOLS</th>\n",
       "      <th>categories_DOL</th>\n",
       "      <th>income</th>\n",
       "      <th>women_pct</th>\n",
       "      <th>age</th>\n",
       "    </tr>\n",
       "  </thead>\n",
       "  <tbody>\n",
       "    <tr>\n",
       "      <th>0</th>\n",
       "      <td>analyst</td>\n",
       "      <td>[Management analysts, Budget analysts, Credit ...</td>\n",
       "      <td>[Budget analysts, Computer systems analysts, C...</td>\n",
       "      <td>0.748566</td>\n",
       "      <td>0.003007</td>\n",
       "      <td>-0.231182</td>\n",
       "    </tr>\n",
       "    <tr>\n",
       "      <th>1</th>\n",
       "      <td>artist</td>\n",
       "      <td>[Artists and related workers]</td>\n",
       "      <td>[Artists and related workers]</td>\n",
       "      <td>-0.534250</td>\n",
       "      <td>-0.108669</td>\n",
       "      <td>0.037273</td>\n",
       "    </tr>\n",
       "    <tr>\n",
       "      <th>2</th>\n",
       "      <td>athlete</td>\n",
       "      <td>[Athletes and sports competitors]</td>\n",
       "      <td>[]</td>\n",
       "      <td>NaN</td>\n",
       "      <td>NaN</td>\n",
       "      <td>NaN</td>\n",
       "    </tr>\n",
       "    <tr>\n",
       "      <th>3</th>\n",
       "      <td>author</td>\n",
       "      <td>[Writers and authors]</td>\n",
       "      <td>[Writers and authors]</td>\n",
       "      <td>-0.097949</td>\n",
       "      <td>0.560002</td>\n",
       "      <td>0.313425</td>\n",
       "    </tr>\n",
       "    <tr>\n",
       "      <th>4</th>\n",
       "      <td>baker</td>\n",
       "      <td>[Bakers]</td>\n",
       "      <td>[Bakers]</td>\n",
       "      <td>-1.244527</td>\n",
       "      <td>0.633440</td>\n",
       "      <td>-0.257288</td>\n",
       "    </tr>\n",
       "  </tbody>\n",
       "</table>\n",
       "</div>"
      ],
      "text/plain": [
       "  occupation                                    categories_BOLS  \\\n",
       "0    analyst  [Management analysts, Budget analysts, Credit ...   \n",
       "1     artist                      [Artists and related workers]   \n",
       "2    athlete                  [Athletes and sports competitors]   \n",
       "3     author                              [Writers and authors]   \n",
       "4      baker                                           [Bakers]   \n",
       "\n",
       "                                      categories_DOL    income  women_pct  \\\n",
       "0  [Budget analysts, Computer systems analysts, C...  0.748566   0.003007   \n",
       "1                      [Artists and related workers] -0.534250  -0.108669   \n",
       "2                                                 []       NaN        NaN   \n",
       "3                              [Writers and authors] -0.097949   0.560002   \n",
       "4                                           [Bakers] -1.244527   0.633440   \n",
       "\n",
       "        age  \n",
       "0 -0.231182  \n",
       "1  0.037273  \n",
       "2       NaN  \n",
       "3  0.313425  \n",
       "4 -0.257288  "
      ]
     },
     "metadata": {},
     "output_type": "display_data"
    }
   ],
   "source": [
    "display(occupation_category_data.head())"
   ]
  },
  {
   "cell_type": "markdown",
   "metadata": {},
   "source": [
    "Let's look at the extreme occupations for all attributes."
   ]
  },
  {
   "cell_type": "code",
   "execution_count": 105,
   "metadata": {
    "scrolled": true
   },
   "outputs": [
    {
     "name": "stdout",
     "output_type": "stream",
     "text": [
      "attr = income\n"
     ]
    },
    {
     "data": {
      "text/html": [
       "<div>\n",
       "<style scoped>\n",
       "    .dataframe tbody tr th:only-of-type {\n",
       "        vertical-align: middle;\n",
       "    }\n",
       "\n",
       "    .dataframe tbody tr th {\n",
       "        vertical-align: top;\n",
       "    }\n",
       "\n",
       "    .dataframe thead th {\n",
       "        text-align: right;\n",
       "    }\n",
       "</style>\n",
       "<table border=\"1\" class=\"dataframe\">\n",
       "  <thead>\n",
       "    <tr style=\"text-align: right;\">\n",
       "      <th></th>\n",
       "      <th>occupation</th>\n",
       "      <th>income</th>\n",
       "    </tr>\n",
       "  </thead>\n",
       "  <tbody>\n",
       "    <tr>\n",
       "      <th>15</th>\n",
       "      <td>dentist</td>\n",
       "      <td>3.169521</td>\n",
       "    </tr>\n",
       "    <tr>\n",
       "      <th>29</th>\n",
       "      <td>lawyer</td>\n",
       "      <td>2.425472</td>\n",
       "    </tr>\n",
       "    <tr>\n",
       "      <th>35</th>\n",
       "      <td>pharmacist</td>\n",
       "      <td>2.101467</td>\n",
       "    </tr>\n",
       "    <tr>\n",
       "      <th>26</th>\n",
       "      <td>judge</td>\n",
       "      <td>1.488126</td>\n",
       "    </tr>\n",
       "    <tr>\n",
       "      <th>20</th>\n",
       "      <td>engineer</td>\n",
       "      <td>1.071080</td>\n",
       "    </tr>\n",
       "  </tbody>\n",
       "</table>\n",
       "</div>"
      ],
      "text/plain": [
       "    occupation    income\n",
       "15     dentist  3.169521\n",
       "29      lawyer  2.425472\n",
       "35  pharmacist  2.101467\n",
       "26       judge  1.488126\n",
       "20    engineer  1.071080"
      ]
     },
     "metadata": {},
     "output_type": "display_data"
    },
    {
     "data": {
      "text/html": [
       "<div>\n",
       "<style scoped>\n",
       "    .dataframe tbody tr th:only-of-type {\n",
       "        vertical-align: middle;\n",
       "    }\n",
       "\n",
       "    .dataframe tbody tr th {\n",
       "        vertical-align: top;\n",
       "    }\n",
       "\n",
       "    .dataframe thead th {\n",
       "        text-align: right;\n",
       "    }\n",
       "</style>\n",
       "<table border=\"1\" class=\"dataframe\">\n",
       "  <thead>\n",
       "    <tr style=\"text-align: right;\">\n",
       "      <th></th>\n",
       "      <th>occupation</th>\n",
       "      <th>income</th>\n",
       "    </tr>\n",
       "  </thead>\n",
       "  <tbody>\n",
       "    <tr>\n",
       "      <th>32</th>\n",
       "      <td>nanny</td>\n",
       "      <td>-1.466213</td>\n",
       "    </tr>\n",
       "    <tr>\n",
       "      <th>4</th>\n",
       "      <td>baker</td>\n",
       "      <td>-1.244527</td>\n",
       "    </tr>\n",
       "    <tr>\n",
       "      <th>6</th>\n",
       "      <td>barber</td>\n",
       "      <td>-1.243020</td>\n",
       "    </tr>\n",
       "    <tr>\n",
       "      <th>27</th>\n",
       "      <td>laborer</td>\n",
       "      <td>-1.079119</td>\n",
       "    </tr>\n",
       "    <tr>\n",
       "      <th>34</th>\n",
       "      <td>painter</td>\n",
       "      <td>-1.074988</td>\n",
       "    </tr>\n",
       "  </tbody>\n",
       "</table>\n",
       "</div>"
      ],
      "text/plain": [
       "   occupation    income\n",
       "32      nanny -1.466213\n",
       "4       baker -1.244527\n",
       "6      barber -1.243020\n",
       "27    laborer -1.079119\n",
       "34    painter -1.074988"
      ]
     },
     "metadata": {},
     "output_type": "display_data"
    },
    {
     "name": "stdout",
     "output_type": "stream",
     "text": [
      "attr = women_pct\n"
     ]
    },
    {
     "data": {
      "text/html": [
       "<div>\n",
       "<style scoped>\n",
       "    .dataframe tbody tr th:only-of-type {\n",
       "        vertical-align: middle;\n",
       "    }\n",
       "\n",
       "    .dataframe tbody tr th {\n",
       "        vertical-align: top;\n",
       "    }\n",
       "\n",
       "    .dataframe thead th {\n",
       "        text-align: right;\n",
       "    }\n",
       "</style>\n",
       "<table border=\"1\" class=\"dataframe\">\n",
       "  <thead>\n",
       "    <tr style=\"text-align: right;\">\n",
       "      <th></th>\n",
       "      <th>occupation</th>\n",
       "      <th>women_pct</th>\n",
       "    </tr>\n",
       "  </thead>\n",
       "  <tbody>\n",
       "    <tr>\n",
       "      <th>32</th>\n",
       "      <td>nanny</td>\n",
       "      <td>2.075141</td>\n",
       "    </tr>\n",
       "    <tr>\n",
       "      <th>43</th>\n",
       "      <td>secretary</td>\n",
       "      <td>2.048244</td>\n",
       "    </tr>\n",
       "    <tr>\n",
       "      <th>33</th>\n",
       "      <td>nurse</td>\n",
       "      <td>1.765929</td>\n",
       "    </tr>\n",
       "    <tr>\n",
       "      <th>30</th>\n",
       "      <td>librarian</td>\n",
       "      <td>1.576537</td>\n",
       "    </tr>\n",
       "    <tr>\n",
       "      <th>48</th>\n",
       "      <td>teacher</td>\n",
       "      <td>1.323772</td>\n",
       "    </tr>\n",
       "  </tbody>\n",
       "</table>\n",
       "</div>"
      ],
      "text/plain": [
       "   occupation  women_pct\n",
       "32      nanny   2.075141\n",
       "43  secretary   2.048244\n",
       "33      nurse   1.765929\n",
       "30  librarian   1.576537\n",
       "48    teacher   1.323772"
      ]
     },
     "metadata": {},
     "output_type": "display_data"
    },
    {
     "data": {
      "text/html": [
       "<div>\n",
       "<style scoped>\n",
       "    .dataframe tbody tr th:only-of-type {\n",
       "        vertical-align: middle;\n",
       "    }\n",
       "\n",
       "    .dataframe tbody tr th {\n",
       "        vertical-align: top;\n",
       "    }\n",
       "\n",
       "    .dataframe thead th {\n",
       "        text-align: right;\n",
       "    }\n",
       "</style>\n",
       "<table border=\"1\" class=\"dataframe\">\n",
       "  <thead>\n",
       "    <tr style=\"text-align: right;\">\n",
       "      <th></th>\n",
       "      <th>occupation</th>\n",
       "      <th>women_pct</th>\n",
       "    </tr>\n",
       "  </thead>\n",
       "  <tbody>\n",
       "    <tr>\n",
       "      <th>37</th>\n",
       "      <td>plumber</td>\n",
       "      <td>-1.531043</td>\n",
       "    </tr>\n",
       "    <tr>\n",
       "      <th>19</th>\n",
       "      <td>electrician</td>\n",
       "      <td>-1.515583</td>\n",
       "    </tr>\n",
       "    <tr>\n",
       "      <th>8</th>\n",
       "      <td>carpenter</td>\n",
       "      <td>-1.511718</td>\n",
       "    </tr>\n",
       "    <tr>\n",
       "      <th>31</th>\n",
       "      <td>mechanic</td>\n",
       "      <td>-1.507853</td>\n",
       "    </tr>\n",
       "    <tr>\n",
       "      <th>24</th>\n",
       "      <td>firefighter</td>\n",
       "      <td>-1.449875</td>\n",
       "    </tr>\n",
       "  </tbody>\n",
       "</table>\n",
       "</div>"
      ],
      "text/plain": [
       "     occupation  women_pct\n",
       "37      plumber  -1.531043\n",
       "19  electrician  -1.515583\n",
       "8     carpenter  -1.511718\n",
       "31     mechanic  -1.507853\n",
       "24  firefighter  -1.449875"
      ]
     },
     "metadata": {},
     "output_type": "display_data"
    },
    {
     "name": "stdout",
     "output_type": "stream",
     "text": [
      "attr = age\n"
     ]
    },
    {
     "data": {
      "text/html": [
       "<div>\n",
       "<style scoped>\n",
       "    .dataframe tbody tr th:only-of-type {\n",
       "        vertical-align: middle;\n",
       "    }\n",
       "\n",
       "    .dataframe tbody tr th {\n",
       "        vertical-align: top;\n",
       "    }\n",
       "\n",
       "    .dataframe thead th {\n",
       "        text-align: right;\n",
       "    }\n",
       "</style>\n",
       "<table border=\"1\" class=\"dataframe\">\n",
       "  <thead>\n",
       "    <tr style=\"text-align: right;\">\n",
       "      <th></th>\n",
       "      <th>occupation</th>\n",
       "      <th>age</th>\n",
       "    </tr>\n",
       "  </thead>\n",
       "  <tbody>\n",
       "    <tr>\n",
       "      <th>23</th>\n",
       "      <td>farmer</td>\n",
       "      <td>2.375356</td>\n",
       "    </tr>\n",
       "    <tr>\n",
       "      <th>26</th>\n",
       "      <td>judge</td>\n",
       "      <td>1.841463</td>\n",
       "    </tr>\n",
       "    <tr>\n",
       "      <th>30</th>\n",
       "      <td>librarian</td>\n",
       "      <td>1.252340</td>\n",
       "    </tr>\n",
       "    <tr>\n",
       "      <th>39</th>\n",
       "      <td>professor</td>\n",
       "      <td>1.160289</td>\n",
       "    </tr>\n",
       "    <tr>\n",
       "      <th>41</th>\n",
       "      <td>realtor</td>\n",
       "      <td>1.105059</td>\n",
       "    </tr>\n",
       "  </tbody>\n",
       "</table>\n",
       "</div>"
      ],
      "text/plain": [
       "   occupation       age\n",
       "23     farmer  2.375356\n",
       "26      judge  1.841463\n",
       "30  librarian  1.252340\n",
       "39  professor  1.160289\n",
       "41    realtor  1.105059"
      ]
     },
     "metadata": {},
     "output_type": "display_data"
    },
    {
     "data": {
      "text/html": [
       "<div>\n",
       "<style scoped>\n",
       "    .dataframe tbody tr th:only-of-type {\n",
       "        vertical-align: middle;\n",
       "    }\n",
       "\n",
       "    .dataframe tbody tr th {\n",
       "        vertical-align: top;\n",
       "    }\n",
       "\n",
       "    .dataframe thead th {\n",
       "        text-align: right;\n",
       "    }\n",
       "</style>\n",
       "<table border=\"1\" class=\"dataframe\">\n",
       "  <thead>\n",
       "    <tr style=\"text-align: right;\">\n",
       "      <th></th>\n",
       "      <th>occupation</th>\n",
       "      <th>age</th>\n",
       "    </tr>\n",
       "  </thead>\n",
       "  <tbody>\n",
       "    <tr>\n",
       "      <th>21</th>\n",
       "      <td>entertainer</td>\n",
       "      <td>-3.552696</td>\n",
       "    </tr>\n",
       "    <tr>\n",
       "      <th>9</th>\n",
       "      <td>coach</td>\n",
       "      <td>-1.564405</td>\n",
       "    </tr>\n",
       "    <tr>\n",
       "      <th>25</th>\n",
       "      <td>journalist</td>\n",
       "      <td>-1.509175</td>\n",
       "    </tr>\n",
       "    <tr>\n",
       "      <th>27</th>\n",
       "      <td>laborer</td>\n",
       "      <td>-1.490765</td>\n",
       "    </tr>\n",
       "    <tr>\n",
       "      <th>32</th>\n",
       "      <td>nanny</td>\n",
       "      <td>-0.993692</td>\n",
       "    </tr>\n",
       "  </tbody>\n",
       "</table>\n",
       "</div>"
      ],
      "text/plain": [
       "     occupation       age\n",
       "21  entertainer -3.552696\n",
       "9         coach -1.564405\n",
       "25   journalist -1.509175\n",
       "27      laborer -1.490765\n",
       "32        nanny -0.993692"
      ]
     },
     "metadata": {},
     "output_type": "display_data"
    }
   ],
   "source": [
    "attrs = ['income', 'women_pct', 'age']\n",
    "for attr_i in attrs:\n",
    "    print(f'attr = {attr_i}')\n",
    "    data_i = occupation_category_data.loc[:, ['occupation', attr_i]].dropna(subset=[attr_i]).sort_values(attr_i, ascending=False)\n",
    "    display(data_i.head(5))\n",
    "    data_i.sort_values(attr_i, ascending=True, inplace=True)\n",
    "    display(data_i.head(5))"
   ]
  },
  {
   "cell_type": "markdown",
   "metadata": {},
   "source": [
    "Reload the translation results, compute error rate."
   ]
  },
  {
   "cell_type": "code",
   "execution_count": 60,
   "metadata": {},
   "outputs": [
    {
     "name": "stdout",
     "output_type": "stream",
     "text": [
      "bad text the ingeniero lived with his fianc2e.\n",
      "bad text the farmer kissed his boy.\n",
      "bad text the peasant lived with his boy.\n",
      "bad text the farmer and his boy have a son.\n",
      "bad text the banker kissed his bride.\n",
      "bad text the carpenter kissed his bride.\n",
      "bad text the farmer kissed his bride.\n",
      "bad text the engineer lived with his fianc2ee.\n"
     ]
    }
   ],
   "source": [
    "from data_helpers import load_clean_translation_data\n",
    "same_gender_relationship_translation_data_file = 'data/multilingual_occupation_relationship=samegender_model=googletranslate_translations.gz'\n",
    "diff_gender_relationship_translation_data_file = 'data/multilingual_occupation_relationship=diffgender_model=googletranslate_translations.gz'\n",
    "same_gender_relationship_translation_data = load_clean_translation_data(same_gender_relationship_translation_data_file)\n",
    "diff_gender_relationship_translation_data = load_clean_translation_data(diff_gender_relationship_translation_data_file)"
   ]
  },
  {
   "cell_type": "code",
   "execution_count": 106,
   "metadata": {
    "scrolled": true
   },
   "outputs": [
    {
     "data": {
      "text/html": [
       "<div>\n",
       "<style scoped>\n",
       "    .dataframe tbody tr th:only-of-type {\n",
       "        vertical-align: middle;\n",
       "    }\n",
       "\n",
       "    .dataframe tbody tr th {\n",
       "        vertical-align: top;\n",
       "    }\n",
       "\n",
       "    .dataframe thead th {\n",
       "        text-align: right;\n",
       "    }\n",
       "</style>\n",
       "<table border=\"1\" class=\"dataframe\">\n",
       "  <thead>\n",
       "    <tr style=\"text-align: right;\">\n",
       "      <th></th>\n",
       "      <th>lang</th>\n",
       "      <th>subject_gender</th>\n",
       "      <th>relationship_word_category</th>\n",
       "      <th>subject_word_en</th>\n",
       "      <th>diff_gender_same_gender_match_diff</th>\n",
       "    </tr>\n",
       "  </thead>\n",
       "  <tbody>\n",
       "    <tr>\n",
       "      <th>0</th>\n",
       "      <td>es</td>\n",
       "      <td>female</td>\n",
       "      <td>ENGAGE</td>\n",
       "      <td>author</td>\n",
       "      <td>0.6</td>\n",
       "    </tr>\n",
       "    <tr>\n",
       "      <th>1</th>\n",
       "      <td>es</td>\n",
       "      <td>female</td>\n",
       "      <td>ENGAGE</td>\n",
       "      <td>baker</td>\n",
       "      <td>0.6</td>\n",
       "    </tr>\n",
       "    <tr>\n",
       "      <th>2</th>\n",
       "      <td>es</td>\n",
       "      <td>female</td>\n",
       "      <td>ENGAGE</td>\n",
       "      <td>banker</td>\n",
       "      <td>1.0</td>\n",
       "    </tr>\n",
       "    <tr>\n",
       "      <th>3</th>\n",
       "      <td>es</td>\n",
       "      <td>female</td>\n",
       "      <td>ENGAGE</td>\n",
       "      <td>barber</td>\n",
       "      <td>0.6</td>\n",
       "    </tr>\n",
       "    <tr>\n",
       "      <th>4</th>\n",
       "      <td>es</td>\n",
       "      <td>female</td>\n",
       "      <td>ENGAGE</td>\n",
       "      <td>boss</td>\n",
       "      <td>0.6</td>\n",
       "    </tr>\n",
       "  </tbody>\n",
       "</table>\n",
       "</div>"
      ],
      "text/plain": [
       "  lang subject_gender relationship_word_category subject_word_en  \\\n",
       "0   es         female                     ENGAGE          author   \n",
       "1   es         female                     ENGAGE           baker   \n",
       "2   es         female                     ENGAGE          banker   \n",
       "3   es         female                     ENGAGE          barber   \n",
       "4   es         female                     ENGAGE            boss   \n",
       "\n",
       "   diff_gender_same_gender_match_diff  \n",
       "0                                 0.6  \n",
       "1                                 0.6  \n",
       "2                                 1.0  \n",
       "3                                 0.6  \n",
       "4                                 0.6  "
      ]
     },
     "metadata": {},
     "output_type": "display_data"
    },
    {
     "data": {
      "text/html": [
       "<div>\n",
       "<style scoped>\n",
       "    .dataframe tbody tr th:only-of-type {\n",
       "        vertical-align: middle;\n",
       "    }\n",
       "\n",
       "    .dataframe tbody tr th {\n",
       "        vertical-align: top;\n",
       "    }\n",
       "\n",
       "    .dataframe thead th {\n",
       "        text-align: right;\n",
       "    }\n",
       "</style>\n",
       "<table border=\"1\" class=\"dataframe\">\n",
       "  <thead>\n",
       "    <tr style=\"text-align: right;\">\n",
       "      <th></th>\n",
       "      <th>lang</th>\n",
       "      <th>subject_gender</th>\n",
       "      <th>relationship_word_category</th>\n",
       "      <th>occupation</th>\n",
       "      <th>diff_gender_same_gender_match_diff</th>\n",
       "      <th>categories_BOLS</th>\n",
       "      <th>categories_DOL</th>\n",
       "      <th>income</th>\n",
       "      <th>women_pct</th>\n",
       "      <th>age</th>\n",
       "    </tr>\n",
       "  </thead>\n",
       "  <tbody>\n",
       "    <tr>\n",
       "      <th>0</th>\n",
       "      <td>es</td>\n",
       "      <td>female</td>\n",
       "      <td>ENGAGE</td>\n",
       "      <td>author</td>\n",
       "      <td>0.6</td>\n",
       "      <td>[Writers and authors]</td>\n",
       "      <td>[Writers and authors]</td>\n",
       "      <td>-0.097949</td>\n",
       "      <td>0.560002</td>\n",
       "      <td>0.313425</td>\n",
       "    </tr>\n",
       "    <tr>\n",
       "      <th>1</th>\n",
       "      <td>es</td>\n",
       "      <td>female</td>\n",
       "      <td>FRIEND</td>\n",
       "      <td>author</td>\n",
       "      <td>0.6</td>\n",
       "      <td>[Writers and authors]</td>\n",
       "      <td>[Writers and authors]</td>\n",
       "      <td>-0.097949</td>\n",
       "      <td>0.560002</td>\n",
       "      <td>0.313425</td>\n",
       "    </tr>\n",
       "    <tr>\n",
       "      <th>2</th>\n",
       "      <td>es</td>\n",
       "      <td>female</td>\n",
       "      <td>SPOUSE</td>\n",
       "      <td>author</td>\n",
       "      <td>1.0</td>\n",
       "      <td>[Writers and authors]</td>\n",
       "      <td>[Writers and authors]</td>\n",
       "      <td>-0.097949</td>\n",
       "      <td>0.560002</td>\n",
       "      <td>0.313425</td>\n",
       "    </tr>\n",
       "    <tr>\n",
       "      <th>3</th>\n",
       "      <td>es</td>\n",
       "      <td>male</td>\n",
       "      <td>ENGAGE</td>\n",
       "      <td>author</td>\n",
       "      <td>0.6</td>\n",
       "      <td>[Writers and authors]</td>\n",
       "      <td>[Writers and authors]</td>\n",
       "      <td>-0.097949</td>\n",
       "      <td>0.560002</td>\n",
       "      <td>0.313425</td>\n",
       "    </tr>\n",
       "    <tr>\n",
       "      <th>4</th>\n",
       "      <td>es</td>\n",
       "      <td>male</td>\n",
       "      <td>FRIEND</td>\n",
       "      <td>author</td>\n",
       "      <td>0.8</td>\n",
       "      <td>[Writers and authors]</td>\n",
       "      <td>[Writers and authors]</td>\n",
       "      <td>-0.097949</td>\n",
       "      <td>0.560002</td>\n",
       "      <td>0.313425</td>\n",
       "    </tr>\n",
       "    <tr>\n",
       "      <th>...</th>\n",
       "      <td>...</td>\n",
       "      <td>...</td>\n",
       "      <td>...</td>\n",
       "      <td>...</td>\n",
       "      <td>...</td>\n",
       "      <td>...</td>\n",
       "      <td>...</td>\n",
       "      <td>...</td>\n",
       "      <td>...</td>\n",
       "      <td>...</td>\n",
       "    </tr>\n",
       "    <tr>\n",
       "      <th>559</th>\n",
       "      <td>it</td>\n",
       "      <td>female</td>\n",
       "      <td>FRIEND</td>\n",
       "      <td>landlord</td>\n",
       "      <td>0.8</td>\n",
       "      <td>[Property, real estate, and community associat...</td>\n",
       "      <td>[Property, real estate, and community associat...</td>\n",
       "      <td>-0.281987</td>\n",
       "      <td>0.440183</td>\n",
       "      <td>1.031419</td>\n",
       "    </tr>\n",
       "    <tr>\n",
       "      <th>560</th>\n",
       "      <td>it</td>\n",
       "      <td>female</td>\n",
       "      <td>SPOUSE</td>\n",
       "      <td>landlord</td>\n",
       "      <td>1.0</td>\n",
       "      <td>[Property, real estate, and community associat...</td>\n",
       "      <td>[Property, real estate, and community associat...</td>\n",
       "      <td>-0.281987</td>\n",
       "      <td>0.440183</td>\n",
       "      <td>1.031419</td>\n",
       "    </tr>\n",
       "    <tr>\n",
       "      <th>561</th>\n",
       "      <td>it</td>\n",
       "      <td>male</td>\n",
       "      <td>ENGAGE</td>\n",
       "      <td>landlord</td>\n",
       "      <td>1.0</td>\n",
       "      <td>[Property, real estate, and community associat...</td>\n",
       "      <td>[Property, real estate, and community associat...</td>\n",
       "      <td>-0.281987</td>\n",
       "      <td>0.440183</td>\n",
       "      <td>1.031419</td>\n",
       "    </tr>\n",
       "    <tr>\n",
       "      <th>562</th>\n",
       "      <td>it</td>\n",
       "      <td>male</td>\n",
       "      <td>FRIEND</td>\n",
       "      <td>landlord</td>\n",
       "      <td>0.8</td>\n",
       "      <td>[Property, real estate, and community associat...</td>\n",
       "      <td>[Property, real estate, and community associat...</td>\n",
       "      <td>-0.281987</td>\n",
       "      <td>0.440183</td>\n",
       "      <td>1.031419</td>\n",
       "    </tr>\n",
       "    <tr>\n",
       "      <th>563</th>\n",
       "      <td>it</td>\n",
       "      <td>male</td>\n",
       "      <td>SPOUSE</td>\n",
       "      <td>landlord</td>\n",
       "      <td>1.0</td>\n",
       "      <td>[Property, real estate, and community associat...</td>\n",
       "      <td>[Property, real estate, and community associat...</td>\n",
       "      <td>-0.281987</td>\n",
       "      <td>0.440183</td>\n",
       "      <td>1.031419</td>\n",
       "    </tr>\n",
       "  </tbody>\n",
       "</table>\n",
       "<p>426 rows × 10 columns</p>\n",
       "</div>"
      ],
      "text/plain": [
       "    lang subject_gender relationship_word_category occupation  \\\n",
       "0     es         female                     ENGAGE     author   \n",
       "1     es         female                     FRIEND     author   \n",
       "2     es         female                     SPOUSE     author   \n",
       "3     es           male                     ENGAGE     author   \n",
       "4     es           male                     FRIEND     author   \n",
       "..   ...            ...                        ...        ...   \n",
       "559   it         female                     FRIEND   landlord   \n",
       "560   it         female                     SPOUSE   landlord   \n",
       "561   it           male                     ENGAGE   landlord   \n",
       "562   it           male                     FRIEND   landlord   \n",
       "563   it           male                     SPOUSE   landlord   \n",
       "\n",
       "     diff_gender_same_gender_match_diff  \\\n",
       "0                                   0.6   \n",
       "1                                   0.6   \n",
       "2                                   1.0   \n",
       "3                                   0.6   \n",
       "4                                   0.8   \n",
       "..                                  ...   \n",
       "559                                 0.8   \n",
       "560                                 1.0   \n",
       "561                                 1.0   \n",
       "562                                 0.8   \n",
       "563                                 1.0   \n",
       "\n",
       "                                       categories_BOLS  \\\n",
       "0                                [Writers and authors]   \n",
       "1                                [Writers and authors]   \n",
       "2                                [Writers and authors]   \n",
       "3                                [Writers and authors]   \n",
       "4                                [Writers and authors]   \n",
       "..                                                 ...   \n",
       "559  [Property, real estate, and community associat...   \n",
       "560  [Property, real estate, and community associat...   \n",
       "561  [Property, real estate, and community associat...   \n",
       "562  [Property, real estate, and community associat...   \n",
       "563  [Property, real estate, and community associat...   \n",
       "\n",
       "                                        categories_DOL    income  women_pct  \\\n",
       "0                                [Writers and authors] -0.097949   0.560002   \n",
       "1                                [Writers and authors] -0.097949   0.560002   \n",
       "2                                [Writers and authors] -0.097949   0.560002   \n",
       "3                                [Writers and authors] -0.097949   0.560002   \n",
       "4                                [Writers and authors] -0.097949   0.560002   \n",
       "..                                                 ...       ...        ...   \n",
       "559  [Property, real estate, and community associat... -0.281987   0.440183   \n",
       "560  [Property, real estate, and community associat... -0.281987   0.440183   \n",
       "561  [Property, real estate, and community associat... -0.281987   0.440183   \n",
       "562  [Property, real estate, and community associat... -0.281987   0.440183   \n",
       "563  [Property, real estate, and community associat... -0.281987   0.440183   \n",
       "\n",
       "          age  \n",
       "0    0.313425  \n",
       "1    0.313425  \n",
       "2    0.313425  \n",
       "3    0.313425  \n",
       "4    0.313425  \n",
       "..        ...  \n",
       "559  1.031419  \n",
       "560  1.031419  \n",
       "561  1.031419  \n",
       "562  1.031419  \n",
       "563  1.031419  \n",
       "\n",
       "[426 rows x 10 columns]"
      ]
     },
     "metadata": {},
     "output_type": "display_data"
    },
    {
     "name": "stdout",
     "output_type": "stream",
     "text": [
      "426\n"
     ]
    }
   ],
   "source": [
    "# compute % correct per-occupation per-language\n",
    "same_gender_per_occupation_subject_match_pct = same_gender_relationship_translation_data.groupby(['lang', 'subject_gender', 'relationship_word_category', 'subject_word_en']).apply(lambda x: x.loc[:, 'subject_gender_match'].mean())\n",
    "diff_gender_per_occupation_subject_match_pct = diff_gender_relationship_translation_data.groupby(['lang', 'subject_gender', 'relationship_word_category', 'subject_word_en']).apply(lambda x: x.loc[:, 'subject_gender_match'].mean())\n",
    "same_vs_diff_gender_per_occupation_subject_match_pct = (diff_gender_per_occupation_subject_match_pct - same_gender_per_occupation_subject_match_pct)  \n",
    "same_vs_diff_gender_per_occupation_subject_match_pct = same_vs_diff_gender_per_occupation_subject_match_pct.reset_index(name='diff_gender_same_gender_match_diff')\n",
    "display(same_vs_diff_gender_per_occupation_subject_match_pct.head())\n",
    "# add occupation data\n",
    "occupation_match_pct_data = pd.merge(\n",
    "    same_vs_diff_gender_per_occupation_subject_match_pct.rename(columns={'subject_word_en' : 'occupation'}), \n",
    "    occupation_category_data, on='occupation'\n",
    ")\n",
    "occupation_social_vars = ['income', 'women_pct', 'age']\n",
    "occupation_match_pct_data.dropna(subset=occupation_social_vars, how='any', inplace=True)\n",
    "display(occupation_match_pct_data)\n",
    "print(occupation_match_pct_data.shape[0])"
   ]
  },
  {
   "cell_type": "code",
   "execution_count": 107,
   "metadata": {},
   "outputs": [
    {
     "data": {
      "image/png": "[encoded data removed]",
      "text/plain": [
       "<Figure size 432x288 with 1 Axes>"
      ]
     },
     "metadata": {
      "needs_background": "light"
     },
     "output_type": "display_data"
    },
    {
     "data": {
      "image/png": "[encoded data removed]",
      "text/plain": [
       "<Figure size 720x720 with 20 Axes>"
      ]
     },
     "metadata": {
      "needs_background": "light"
     },
     "output_type": "display_data"
    },
    {
     "name": "stdout",
     "output_type": "stream",
     "text": [
      "diff_gender_same_gender_match_diff vs. income has correl=0.191 (p=7.377E-05)\n",
      "diff_gender_same_gender_match_diff vs. women_pct has correl=0.107 (p=2.780E-02)\n",
      "diff_gender_same_gender_match_diff vs. age has correl=0.044 (p=3.668E-01)\n",
      "income vs. women_pct has correl=0.223 (p=3.254E-06)\n",
      "income vs. age has correl=0.238 (p=6.477E-07)\n",
      "women_pct vs. age has correl=0.471 (p=5.931E-25)\n"
     ]
    }
   ],
   "source": [
    "## check distribution of dependent var\n",
    "import matplotlib\n",
    "%matplotlib inline\n",
    "import matplotlib.pyplot as plt\n",
    "plt.hist(occupation_match_pct_data.loc[:, 'diff_gender_same_gender_match_diff'])\n",
    "plt.show()\n",
    "## check possible correlations\n",
    "import seaborn as sns\n",
    "correl_vars = ['diff_gender_same_gender_match_diff', 'income', 'women_pct', 'age']\n",
    "sns.pairplot(data=occupation_match_pct_data.loc[:, correl_vars])\n",
    "plt.show()\n",
    "from scipy.stats import spearmanr\n",
    "for i, var_i in enumerate(correl_vars):\n",
    "    for var_j in correl_vars[(i+1):]:\n",
    "        correl, p_val = spearmanr(occupation_match_pct_data.loc[:, var_i], occupation_match_pct_data.loc[:, var_j])\n",
    "        print(f'{var_i} vs. {var_j} has correl={correl:.3f} (p={p_val:.3E})')"
   ]
  },
  {
   "cell_type": "markdown",
   "metadata": {},
   "source": [
    "- Higher-income occupations have more diff vs. same gender difference (more conservative expectations for high income occupations?)\n",
    "- Occupations w/ higher female participation have more diff vs. same gender difference (stronger gender norms?)"
   ]
  },
  {
   "cell_type": "code",
   "execution_count": 108,
   "metadata": {
    "scrolled": true
   },
   "outputs": [
    {
     "data": {
      "text/html": [
       "<table class=\"simpletable\">\n",
       "<caption>OLS Regression Results</caption>\n",
       "<tr>\n",
       "  <th>Dep. Variable:</th>    <td>diff_gender_same_gender_match_diff</td> <th>  R-squared:         </th> <td>   0.226</td>\n",
       "</tr>\n",
       "<tr>\n",
       "  <th>Model:</th>                            <td>OLS</td>                <th>  Adj. R-squared:    </th> <td>   0.211</td>\n",
       "</tr>\n",
       "<tr>\n",
       "  <th>Method:</th>                      <td>Least Squares</td>           <th>  F-statistic:       </th> <td>   15.23</td>\n",
       "</tr>\n",
       "<tr>\n",
       "  <th>Date:</th>                      <td>Mon, 21 Feb 2022</td>          <th>  Prob (F-statistic):</th> <td>1.17e-19</td>\n",
       "</tr>\n",
       "<tr>\n",
       "  <th>Time:</th>                          <td>00:14:34</td>              <th>  Log-Likelihood:    </th> <td> -54.827</td>\n",
       "</tr>\n",
       "<tr>\n",
       "  <th>No. Observations:</th>               <td>   426</td>               <th>  AIC:               </th> <td>   127.7</td>\n",
       "</tr>\n",
       "<tr>\n",
       "  <th>Df Residuals:</th>                   <td>   417</td>               <th>  BIC:               </th> <td>   164.1</td>\n",
       "</tr>\n",
       "<tr>\n",
       "  <th>Df Model:</th>                       <td>     8</td>               <th>                     </th>     <td> </td>   \n",
       "</tr>\n",
       "<tr>\n",
       "  <th>Covariance Type:</th>               <td>nonrobust</td>             <th>                     </th>     <td> </td>   \n",
       "</tr>\n",
       "</table>\n",
       "<table class=\"simpletable\">\n",
       "<tr>\n",
       "                     <td></td>                        <th>coef</th>     <th>std err</th>      <th>t</th>      <th>P>|t|</th>  <th>[0.025</th>    <th>0.975]</th>  \n",
       "</tr>\n",
       "<tr>\n",
       "  <th>Intercept</th>                               <td>    0.5983</td> <td>    0.032</td> <td>   18.824</td> <td> 0.000</td> <td>    0.536</td> <td>    0.661</td>\n",
       "</tr>\n",
       "<tr>\n",
       "  <th>C(lang)[T.fr]</th>                           <td>   -0.0501</td> <td>    0.031</td> <td>   -1.594</td> <td> 0.112</td> <td>   -0.112</td> <td>    0.012</td>\n",
       "</tr>\n",
       "<tr>\n",
       "  <th>C(lang)[T.it]</th>                           <td>    0.0686</td> <td>    0.035</td> <td>    1.986</td> <td> 0.048</td> <td>    0.001</td> <td>    0.136</td>\n",
       "</tr>\n",
       "<tr>\n",
       "  <th>C(subject_gender)[T.male]</th>               <td>    0.0911</td> <td>    0.027</td> <td>    3.379</td> <td> 0.001</td> <td>    0.038</td> <td>    0.144</td>\n",
       "</tr>\n",
       "<tr>\n",
       "  <th>C(relationship_word_category)[T.FRIEND]</th> <td>    0.1127</td> <td>    0.033</td> <td>    3.413</td> <td> 0.001</td> <td>    0.048</td> <td>    0.178</td>\n",
       "</tr>\n",
       "<tr>\n",
       "  <th>C(relationship_word_category)[T.SPOUSE]</th> <td>    0.2831</td> <td>    0.033</td> <td>    8.576</td> <td> 0.000</td> <td>    0.218</td> <td>    0.348</td>\n",
       "</tr>\n",
       "<tr>\n",
       "  <th>income</th>                                  <td>    0.0751</td> <td>    0.015</td> <td>    4.879</td> <td> 0.000</td> <td>    0.045</td> <td>    0.105</td>\n",
       "</tr>\n",
       "<tr>\n",
       "  <th>women_pct</th>                               <td>    0.0029</td> <td>    0.014</td> <td>    0.202</td> <td> 0.840</td> <td>   -0.026</td> <td>    0.031</td>\n",
       "</tr>\n",
       "<tr>\n",
       "  <th>age</th>                                     <td>   -0.0166</td> <td>    0.016</td> <td>   -1.006</td> <td> 0.315</td> <td>   -0.049</td> <td>    0.016</td>\n",
       "</tr>\n",
       "</table>\n",
       "<table class=\"simpletable\">\n",
       "<tr>\n",
       "  <th>Omnibus:</th>       <td>99.622</td> <th>  Durbin-Watson:     </th> <td>   1.091</td>\n",
       "</tr>\n",
       "<tr>\n",
       "  <th>Prob(Omnibus):</th> <td> 0.000</td> <th>  Jarque-Bera (JB):  </th> <td> 180.328</td>\n",
       "</tr>\n",
       "<tr>\n",
       "  <th>Skew:</th>          <td>-1.331</td> <th>  Prob(JB):          </th> <td>6.96e-40</td>\n",
       "</tr>\n",
       "<tr>\n",
       "  <th>Kurtosis:</th>      <td> 4.753</td> <th>  Cond. No.          </th> <td>    4.79</td>\n",
       "</tr>\n",
       "</table><br/><br/>Notes:<br/>[1] Standard Errors assume that the covariance matrix of the errors is correctly specified."
      ],
      "text/plain": [
       "<class 'statsmodels.iolib.summary.Summary'>\n",
       "\"\"\"\n",
       "                                    OLS Regression Results                                    \n",
       "==============================================================================================\n",
       "Dep. Variable:     diff_gender_same_gender_match_diff   R-squared:                       0.226\n",
       "Model:                                            OLS   Adj. R-squared:                  0.211\n",
       "Method:                                 Least Squares   F-statistic:                     15.23\n",
       "Date:                                Mon, 21 Feb 2022   Prob (F-statistic):           1.17e-19\n",
       "Time:                                        00:14:34   Log-Likelihood:                -54.827\n",
       "No. Observations:                                 426   AIC:                             127.7\n",
       "Df Residuals:                                     417   BIC:                             164.1\n",
       "Df Model:                                           8                                         \n",
       "Covariance Type:                            nonrobust                                         \n",
       "===========================================================================================================\n",
       "                                              coef    std err          t      P>|t|      [0.025      0.975]\n",
       "-----------------------------------------------------------------------------------------------------------\n",
       "Intercept                                   0.5983      0.032     18.824      0.000       0.536       0.661\n",
       "C(lang)[T.fr]                              -0.0501      0.031     -1.594      0.112      -0.112       0.012\n",
       "C(lang)[T.it]                               0.0686      0.035      1.986      0.048       0.001       0.136\n",
       "C(subject_gender)[T.male]                   0.0911      0.027      3.379      0.001       0.038       0.144\n",
       "C(relationship_word_category)[T.FRIEND]     0.1127      0.033      3.413      0.001       0.048       0.178\n",
       "C(relationship_word_category)[T.SPOUSE]     0.2831      0.033      8.576      0.000       0.218       0.348\n",
       "income                                      0.0751      0.015      4.879      0.000       0.045       0.105\n",
       "women_pct                                   0.0029      0.014      0.202      0.840      -0.026       0.031\n",
       "age                                        -0.0166      0.016     -1.006      0.315      -0.049       0.016\n",
       "==============================================================================\n",
       "Omnibus:                       99.622   Durbin-Watson:                   1.091\n",
       "Prob(Omnibus):                  0.000   Jarque-Bera (JB):              180.328\n",
       "Skew:                          -1.331   Prob(JB):                     6.96e-40\n",
       "Kurtosis:                       4.753   Cond. No.                         4.79\n",
       "==============================================================================\n",
       "\n",
       "Notes:\n",
       "[1] Standard Errors assume that the covariance matrix of the errors is correctly specified.\n",
       "\"\"\""
      ]
     },
     "execution_count": 108,
     "metadata": {},
     "output_type": "execute_result"
    }
   ],
   "source": [
    "from statsmodels.api import OLS\n",
    "dep_var = 'diff_gender_same_gender_match_diff'\n",
    "cat_vars = ['lang', 'subject_gender', 'relationship_word_category']\n",
    "cat_var_str = ' + '.join(list(map(lambda x: f'C({x})', cat_vars)))\n",
    "scalar_vars = ['income', 'women_pct', 'age']\n",
    "scalar_var_str = ' + '.join(scalar_vars)\n",
    "formula = f'{dep_var} ~ {cat_var_str} + {scalar_var_str}'\n",
    "model = OLS.from_formula(formula, data=occupation_match_pct_data)\n",
    "reg_results = model.fit()9\n",
    "reg_results.summary()"
   ]
  },
  {
   "cell_type": "markdown",
   "metadata": {},
   "source": [
    "- `lang=IT`: (+)\n",
    "- `subject_gender=male`: (+)\n",
    "- `relationship=FRIEND`: (+)\n",
    "- `relationship=SPOUSE`: (+)\n",
    "- `income`: (+)\n",
    "\n",
    "The effects from the language variables are replicating what we saw before, and we see a positive correlation with income (higher income jobs are less equitable?).\n",
    "\n",
    "Let's treat this as a logistic regression, w/ the dependent variable as \"subject gender match\"."
   ]
  },
  {
   "cell_type": "code",
   "execution_count": 109,
   "metadata": {
    "scrolled": true
   },
   "outputs": [
    {
     "name": "stdout",
     "output_type": "stream",
     "text": [
      "4260\n"
     ]
    },
    {
     "data": {
      "text/html": [
       "<div>\n",
       "<style scoped>\n",
       "    .dataframe tbody tr th:only-of-type {\n",
       "        vertical-align: middle;\n",
       "    }\n",
       "\n",
       "    .dataframe tbody tr th {\n",
       "        vertical-align: top;\n",
       "    }\n",
       "\n",
       "    .dataframe thead th {\n",
       "        text-align: right;\n",
       "    }\n",
       "</style>\n",
       "<table border=\"1\" class=\"dataframe\">\n",
       "  <thead>\n",
       "    <tr style=\"text-align: right;\">\n",
       "      <th></th>\n",
       "      <th>sent</th>\n",
       "      <th>lang</th>\n",
       "      <th>subject_word</th>\n",
       "      <th>relationship_word</th>\n",
       "      <th>subject_gender</th>\n",
       "      <th>relationship_gender</th>\n",
       "      <th>translation_txt</th>\n",
       "      <th>translation_subject_gender</th>\n",
       "      <th>translation_relationship_gender</th>\n",
       "      <th>occupation</th>\n",
       "      <th>relationship_word_en</th>\n",
       "      <th>subject_gender_match</th>\n",
       "      <th>relationship_gender_match</th>\n",
       "      <th>subject_relationship_gender_match</th>\n",
       "      <th>relationship_word_category</th>\n",
       "      <th>relationship_type</th>\n",
       "      <th>income</th>\n",
       "      <th>women_pct</th>\n",
       "      <th>age</th>\n",
       "    </tr>\n",
       "  </thead>\n",
       "  <tbody>\n",
       "    <tr>\n",
       "      <th>0</th>\n",
       "      <td>el autor conoció a su novio en una cita.</td>\n",
       "      <td>es</td>\n",
       "      <td>autor</td>\n",
       "      <td>novio</td>\n",
       "      <td>male</td>\n",
       "      <td>male</td>\n",
       "      <td>the author met her boyfriend on a date.</td>\n",
       "      <td>female</td>\n",
       "      <td>male</td>\n",
       "      <td>author</td>\n",
       "      <td>boyfriend</td>\n",
       "      <td>0</td>\n",
       "      <td>1</td>\n",
       "      <td>0</td>\n",
       "      <td>FRIEND</td>\n",
       "      <td>same_gender</td>\n",
       "      <td>-0.097949</td>\n",
       "      <td>0.560002</td>\n",
       "      <td>0.313425</td>\n",
       "    </tr>\n",
       "    <tr>\n",
       "      <th>1</th>\n",
       "      <td>el autor conoció a su prometido en una cita.</td>\n",
       "      <td>es</td>\n",
       "      <td>autor</td>\n",
       "      <td>prometido</td>\n",
       "      <td>male</td>\n",
       "      <td>male</td>\n",
       "      <td>the author met her fiancé on a date.</td>\n",
       "      <td>female</td>\n",
       "      <td>male</td>\n",
       "      <td>author</td>\n",
       "      <td>fiance</td>\n",
       "      <td>0</td>\n",
       "      <td>1</td>\n",
       "      <td>0</td>\n",
       "      <td>ENGAGE</td>\n",
       "      <td>same_gender</td>\n",
       "      <td>-0.097949</td>\n",
       "      <td>0.560002</td>\n",
       "      <td>0.313425</td>\n",
       "    </tr>\n",
       "    <tr>\n",
       "      <th>2</th>\n",
       "      <td>el autor conoció a su esposo en una cita.</td>\n",
       "      <td>es</td>\n",
       "      <td>autor</td>\n",
       "      <td>esposo</td>\n",
       "      <td>male</td>\n",
       "      <td>male</td>\n",
       "      <td>the author met her husband on a date.</td>\n",
       "      <td>female</td>\n",
       "      <td>male</td>\n",
       "      <td>author</td>\n",
       "      <td>husband</td>\n",
       "      <td>0</td>\n",
       "      <td>1</td>\n",
       "      <td>0</td>\n",
       "      <td>SPOUSE</td>\n",
       "      <td>same_gender</td>\n",
       "      <td>-0.097949</td>\n",
       "      <td>0.560002</td>\n",
       "      <td>0.313425</td>\n",
       "    </tr>\n",
       "    <tr>\n",
       "      <th>3</th>\n",
       "      <td>la autora conoció a su novia en una cita.</td>\n",
       "      <td>es</td>\n",
       "      <td>autora</td>\n",
       "      <td>novia</td>\n",
       "      <td>female</td>\n",
       "      <td>female</td>\n",
       "      <td>the author met his girlfriend on a date.</td>\n",
       "      <td>male</td>\n",
       "      <td>female</td>\n",
       "      <td>author</td>\n",
       "      <td>girlfriend</td>\n",
       "      <td>0</td>\n",
       "      <td>1</td>\n",
       "      <td>0</td>\n",
       "      <td>FRIEND</td>\n",
       "      <td>same_gender</td>\n",
       "      <td>-0.097949</td>\n",
       "      <td>0.560002</td>\n",
       "      <td>0.313425</td>\n",
       "    </tr>\n",
       "    <tr>\n",
       "      <th>4</th>\n",
       "      <td>la autora conoció a su prometida en una cita.</td>\n",
       "      <td>es</td>\n",
       "      <td>autora</td>\n",
       "      <td>prometida</td>\n",
       "      <td>female</td>\n",
       "      <td>female</td>\n",
       "      <td>the author met his fiancée on a date.</td>\n",
       "      <td>male</td>\n",
       "      <td>female</td>\n",
       "      <td>author</td>\n",
       "      <td>fiancee</td>\n",
       "      <td>0</td>\n",
       "      <td>1</td>\n",
       "      <td>0</td>\n",
       "      <td>ENGAGE</td>\n",
       "      <td>same_gender</td>\n",
       "      <td>-0.097949</td>\n",
       "      <td>0.560002</td>\n",
       "      <td>0.313425</td>\n",
       "    </tr>\n",
       "  </tbody>\n",
       "</table>\n",
       "</div>"
      ],
      "text/plain": [
       "                                             sent lang subject_word  \\\n",
       "0       el autor conoció a su novio en una cita.    es        autor   \n",
       "1   el autor conoció a su prometido en una cita.    es        autor   \n",
       "2      el autor conoció a su esposo en una cita.    es        autor   \n",
       "3      la autora conoció a su novia en una cita.    es       autora   \n",
       "4  la autora conoció a su prometida en una cita.    es       autora   \n",
       "\n",
       "  relationship_word subject_gender relationship_gender  \\\n",
       "0             novio           male                male   \n",
       "1         prometido           male                male   \n",
       "2            esposo           male                male   \n",
       "3             novia         female              female   \n",
       "4         prometida         female              female   \n",
       "\n",
       "                            translation_txt translation_subject_gender  \\\n",
       "0   the author met her boyfriend on a date.                     female   \n",
       "1      the author met her fiancé on a date.                     female   \n",
       "2     the author met her husband on a date.                     female   \n",
       "3  the author met his girlfriend on a date.                       male   \n",
       "4     the author met his fiancée on a date.                       male   \n",
       "\n",
       "  translation_relationship_gender occupation relationship_word_en  \\\n",
       "0                            male     author            boyfriend   \n",
       "1                            male     author               fiance   \n",
       "2                            male     author              husband   \n",
       "3                          female     author           girlfriend   \n",
       "4                          female     author              fiancee   \n",
       "\n",
       "   subject_gender_match  relationship_gender_match  \\\n",
       "0                     0                          1   \n",
       "1                     0                          1   \n",
       "2                     0                          1   \n",
       "3                     0                          1   \n",
       "4                     0                          1   \n",
       "\n",
       "   subject_relationship_gender_match relationship_word_category  \\\n",
       "0                                  0                     FRIEND   \n",
       "1                                  0                     ENGAGE   \n",
       "2                                  0                     SPOUSE   \n",
       "3                                  0                     FRIEND   \n",
       "4                                  0                     ENGAGE   \n",
       "\n",
       "  relationship_type    income  women_pct       age  \n",
       "0       same_gender -0.097949   0.560002  0.313425  \n",
       "1       same_gender -0.097949   0.560002  0.313425  \n",
       "2       same_gender -0.097949   0.560002  0.313425  \n",
       "3       same_gender -0.097949   0.560002  0.313425  \n",
       "4       same_gender -0.097949   0.560002  0.313425  "
      ]
     },
     "metadata": {},
     "output_type": "display_data"
    }
   ],
   "source": [
    "relationship_translation_data = pd.concat([\n",
    "    same_gender_relationship_translation_data.assign(**{'relationship_type' : 'same_gender'}),\n",
    "    diff_gender_relationship_translation_data.assign(**{'relationship_type' : 'diff_gender'}),\n",
    "])\n",
    "occupation_social_vars = ['income', 'women_pct', 'age']\n",
    "relationship_translation_data = pd.merge(\n",
    "    relationship_translation_data.rename(columns={'subject_word_en' : 'occupation'}),\n",
    "    occupation_category_data.loc[:, ['occupation'] + occupation_social_vars].dropna(subset=occupation_social_vars, how='any'), on='occupation',\n",
    ")\n",
    "print(relationship_translation_data.shape[0])\n",
    "display(relationship_translation_data.head())"
   ]
  },
  {
   "cell_type": "code",
   "execution_count": 122,
   "metadata": {
    "scrolled": true
   },
   "outputs": [
    {
     "name": "stdout",
     "output_type": "stream",
     "text": [
      "relationship type = diff_gender\n",
      "Optimization terminated successfully.\n",
      "         Current function value: 0.111769\n",
      "         Iterations 23\n",
      "relationship type = same_gender\n",
      "Optimization terminated successfully.\n",
      "         Current function value: 0.400806\n",
      "         Iterations 7\n"
     ]
    },
    {
     "data": {
      "text/html": [
       "<table class=\"simpletable\">\n",
       "<caption>Logit Regression Results</caption>\n",
       "<tr>\n",
       "  <th>Dep. Variable:</th>   <td>subject_gender_match</td> <th>  No. Observations:  </th>  <td>  2130</td>  \n",
       "</tr>\n",
       "<tr>\n",
       "  <th>Model:</th>                   <td>Logit</td>        <th>  Df Residuals:      </th>  <td>  2121</td>  \n",
       "</tr>\n",
       "<tr>\n",
       "  <th>Method:</th>                   <td>MLE</td>         <th>  Df Model:          </th>  <td>     8</td>  \n",
       "</tr>\n",
       "<tr>\n",
       "  <th>Date:</th>              <td>Mon, 21 Feb 2022</td>   <th>  Pseudo R-squ.:     </th>  <td>0.1884</td>  \n",
       "</tr>\n",
       "<tr>\n",
       "  <th>Time:</th>                  <td>00:22:59</td>       <th>  Log-Likelihood:    </th> <td> -853.72</td> \n",
       "</tr>\n",
       "<tr>\n",
       "  <th>converged:</th>               <td>True</td>         <th>  LL-Null:           </th> <td> -1051.8</td> \n",
       "</tr>\n",
       "<tr>\n",
       "  <th>Covariance Type:</th>       <td>nonrobust</td>      <th>  LLR p-value:       </th> <td>1.182e-80</td>\n",
       "</tr>\n",
       "</table>\n",
       "<table class=\"simpletable\">\n",
       "<tr>\n",
       "                     <td></td>                        <th>coef</th>     <th>std err</th>      <th>z</th>      <th>P>|z|</th>  <th>[0.025</th>    <th>0.975]</th>  \n",
       "</tr>\n",
       "<tr>\n",
       "  <th>Intercept</th>                               <td>   -0.2106</td> <td>    0.124</td> <td>   -1.694</td> <td> 0.090</td> <td>   -0.454</td> <td>    0.033</td>\n",
       "</tr>\n",
       "<tr>\n",
       "  <th>C(lang)[T.fr]</th>                           <td>    0.2390</td> <td>    0.136</td> <td>    1.754</td> <td> 0.079</td> <td>   -0.028</td> <td>    0.506</td>\n",
       "</tr>\n",
       "<tr>\n",
       "  <th>C(lang)[T.it]</th>                           <td>   -0.5332</td> <td>    0.167</td> <td>   -3.195</td> <td> 0.001</td> <td>   -0.860</td> <td>   -0.206</td>\n",
       "</tr>\n",
       "<tr>\n",
       "  <th>C(subject_gender)[T.male]</th>               <td>   -1.2182</td> <td>    0.127</td> <td>   -9.581</td> <td> 0.000</td> <td>   -1.467</td> <td>   -0.969</td>\n",
       "</tr>\n",
       "<tr>\n",
       "  <th>C(relationship_word_category)[T.FRIEND]</th> <td>   -0.6489</td> <td>    0.129</td> <td>   -5.025</td> <td> 0.000</td> <td>   -0.902</td> <td>   -0.396</td>\n",
       "</tr>\n",
       "<tr>\n",
       "  <th>C(relationship_word_category)[T.SPOUSE]</th> <td>   -2.5935</td> <td>    0.210</td> <td>  -12.373</td> <td> 0.000</td> <td>   -3.004</td> <td>   -2.183</td>\n",
       "</tr>\n",
       "<tr>\n",
       "  <th>income</th>                                  <td>   -0.4880</td> <td>    0.079</td> <td>   -6.200</td> <td> 0.000</td> <td>   -0.642</td> <td>   -0.334</td>\n",
       "</tr>\n",
       "<tr>\n",
       "  <th>women_pct</th>                               <td>   -0.1731</td> <td>    0.064</td> <td>   -2.718</td> <td> 0.007</td> <td>   -0.298</td> <td>   -0.048</td>\n",
       "</tr>\n",
       "<tr>\n",
       "  <th>age</th>                                     <td>    0.1852</td> <td>    0.070</td> <td>    2.628</td> <td> 0.009</td> <td>    0.047</td> <td>    0.323</td>\n",
       "</tr>\n",
       "</table>"
      ],
      "text/plain": [
       "<class 'statsmodels.iolib.summary.Summary'>\n",
       "\"\"\"\n",
       "                            Logit Regression Results                            \n",
       "================================================================================\n",
       "Dep. Variable:     subject_gender_match   No. Observations:                 2130\n",
       "Model:                            Logit   Df Residuals:                     2121\n",
       "Method:                             MLE   Df Model:                            8\n",
       "Date:                  Mon, 21 Feb 2022   Pseudo R-squ.:                  0.1884\n",
       "Time:                          00:22:59   Log-Likelihood:                -853.72\n",
       "converged:                         True   LL-Null:                       -1051.8\n",
       "Covariance Type:              nonrobust   LLR p-value:                 1.182e-80\n",
       "===========================================================================================================\n",
       "                                              coef    std err          z      P>|z|      [0.025      0.975]\n",
       "-----------------------------------------------------------------------------------------------------------\n",
       "Intercept                                  -0.2106      0.124     -1.694      0.090      -0.454       0.033\n",
       "C(lang)[T.fr]                               0.2390      0.136      1.754      0.079      -0.028       0.506\n",
       "C(lang)[T.it]                              -0.5332      0.167     -3.195      0.001      -0.860      -0.206\n",
       "C(subject_gender)[T.male]                  -1.2182      0.127     -9.581      0.000      -1.467      -0.969\n",
       "C(relationship_word_category)[T.FRIEND]    -0.6489      0.129     -5.025      0.000      -0.902      -0.396\n",
       "C(relationship_word_category)[T.SPOUSE]    -2.5935      0.210    -12.373      0.000      -3.004      -2.183\n",
       "income                                     -0.4880      0.079     -6.200      0.000      -0.642      -0.334\n",
       "women_pct                                  -0.1731      0.064     -2.718      0.007      -0.298      -0.048\n",
       "age                                         0.1852      0.070      2.628      0.009       0.047       0.323\n",
       "===========================================================================================================\n",
       "\"\"\""
      ]
     },
     "metadata": {},
     "output_type": "display_data"
    }
   ],
   "source": [
    "from statsmodels.api import Logit\n",
    "# run regression separately for each relationship type\n",
    "dep_var = 'subject_gender_match'\n",
    "cat_vars = ['lang', 'subject_gender', 'relationship_word_category']\n",
    "# cat_vars = ['subject_gender']\n",
    "cat_var_str = ' + '.join(list(map(lambda x: f'C({x})', cat_vars)))\n",
    "scalar_vars = ['income', 'women_pct', 'age']\n",
    "scalar_var_str = ' + '.join(scalar_vars)\n",
    "formula = f'{dep_var} ~ {cat_var_str} + {scalar_var_str}'\n",
    "for relationship_type_i, data_i in relationship_translation_data.groupby('relationship_type'):\n",
    "    print(f'relationship type = {relationship_type_i}')\n",
    "    try:\n",
    "        model = Logit.from_formula(formula, data=data_i)\n",
    "        reg_results = model.fit()\n",
    "        display(reg_results.summary())\n",
    "    except Exception as e:\n",
    "        pass"
   ]
  },
  {
   "cell_type": "markdown",
   "metadata": {},
   "source": [
    "Now we see consistent social effects! Remember the interpretation is the opposite of above, i.e. negative correlation => no subject gender match.\n",
    "\n",
    "For same-gender relationships only:\n",
    "- `income`: (-) higher income means less subject gender match for SG relationships\n",
    "- `women_pct` (-): more female representation (e.g. `occupation=nanny`) means less subject gender match for SG relationships, because more conservative social expectations (?)\n",
    "- `age`: (+) \"older\" occupations (`occupation=judge`) means more subject gender match for SG relationships, because \"younger\" professions (`occupation=entertainer`) have arbitrary/difficult/public-facing standards for young people to adhere to (?)"
   ]
  },
  {
   "cell_type": "markdown",
   "metadata": {},
   "source": [
    "Let's do the same thing but set dependent variable = 1 if different gender right and same gender wrong, 0 if both different gender and same gender right."
   ]
  },
  {
   "cell_type": "code",
   "execution_count": null,
   "metadata": {},
   "outputs": [],
   "source": []
  },
  {
   "cell_type": "markdown",
   "metadata": {},
   "source": [
    "### Query translations: NULL_SUBJECT\n",
    "In which we test the tendency of the translation model to insert a different-gender pronoun for sentences with `NULL_SUBJECT`, e.g. P(\"he was married to his wife\") > P(\"she was married to her wife\").\n",
    "\n",
    "NOTE: French is not pro-drop; Italian/Portuguese/Spanish are pro-drop"
   ]
  },
  {
   "cell_type": "code",
   "execution_count": 1,
   "metadata": {},
   "outputs": [
    {
     "name": "stdout",
     "output_type": "stream",
     "text": [
      "Translated(src=es, dest=en, text=He kissed her husband., pronunciation=None, extra_data=\"{'confiden...\")\n"
     ]
    }
   ],
   "source": [
    "from googletrans import Translator\n",
    "translator = Translator()\n",
    "test_query = \"Besó a su esposo.\"\n",
    "test_query_trans = translator.translate(test_query, dest='en', src='es')\n",
    "print(test_query_trans)"
   ]
  },
  {
   "cell_type": "markdown",
   "metadata": {},
   "source": [
    "### Query translations: ambiguous relationship targets\n",
    "In which we test the tendency of the translation model to assume a particular gender for ambiguous relationship targets, e.g. P(\"su esposo\" | \"his spouse\") < P(\"su esposa\" | \"his spouse\").\n",
    "\n",
    "Ambiguous terms: \"spouse\", \"partner\", \"companion\".\n",
    "\n",
    "NOTE: we may need to compute the actual conditional probabilities rather than decoding; use [this](https://opennmt.net/)"
   ]
  },
  {
   "cell_type": "code",
   "execution_count": 22,
   "metadata": {},
   "outputs": [
    {
     "name": "stdout",
     "output_type": "stream",
     "text": [
      "Translated(src=en, dest=it, text=Ha sposato il suo compagno l'anno scorso., pronunciation=None, extra_data=\"{'confiden...\")\n"
     ]
    }
   ],
   "source": [
    "from googletrans import Translator\n",
    "translator = Translator()\n",
    "test_query = \"She married her partner last year.\"\n",
    "test_query_trans = translator.translate(test_query, dest='it', src='en')\n",
    "print(test_query_trans)"
   ]
  },
  {
   "cell_type": "markdown",
   "metadata": {},
   "source": [
    "### Query translations: relationship biases in occupations and names\n",
    "Let's go back to the original relationship-target translation task, but replace the occupations with names.\n",
    "\n",
    "Can we identify consistently \"same-gender\" associated names? E.g. is \"Juan\" more likely to have a same-gender relationship correctly translated than \"Diego\"? Is there any correlation between a name's prototypical gender association (e.g. $\\texttt{cosine(NAME, \"he\")}$) and their likelihood of being \"allowed\" to have a same-gender relationship?\n",
    "\n",
    "Let's also do this comparison for the same occupations that we used before, and compare the same-gender error rate with how \"gendered\" the occupation word appears to  be."
   ]
  },
  {
   "cell_type": "markdown",
   "metadata": {},
   "source": [
    "### Query translations: relationships with unambiguous gender words\n",
    "One possible explanation for the bias in the occupation-related words is that these occupation words have uncertain gender associations compared to more clear-cut words: e.g. \"el doctor\" could plausibly refer to a female or male doctor if a speaker has a generous interpretation.\n",
    "\n",
    "Let's back-off from the occupation word lists to more common, unambiguously gendered words:\n",
    "- man/woman\n",
    "- guy/gal (this pair could be hard depending on the language)\n",
    "- father/mother (e.g. \"my father\")\n",
    "- brother/sister\n",
    "- son/daughter\n",
    "- uncle/aunt\n",
    "- grandfather/grandmother\n",
    "- gay man/lesbian"
   ]
  },
  {
   "cell_type": "markdown",
   "metadata": {
    "collapsed": true
   },
   "source": [
    "## Old code"
   ]
  },
  {
   "cell_type": "code",
   "execution_count": 1,
   "metadata": {},
   "outputs": [],
   "source": [
    "## reload data\n",
    "import pandas as pd\n",
    "same_gender_sentence_data = pd.read_csv('data/multilingual_occupation_relationship=samegender_model=googletranslate_translations.gz', compression='gzip', sep='\\t')\n",
    "diff_gender_sentence_data = pd.read_csv('data/multilingual_occupation_relationship=diffgender_model=googletranslate_translations.gz', compression='gzip', sep='\\t')"
   ]
  },
  {
   "cell_type": "code",
   "execution_count": 2,
   "metadata": {},
   "outputs": [],
   "source": [
    "## tmp debugging: need to re-add relationship topic to translation data\n",
    "def get_relationship_topic(sentence, relationship_topic_lookup):\n",
    "    for topic_i, sent_matcher_i in relationship_topic_lookup:\n",
    "        if(sent_matcher_i.match(sentence) is not None):\n",
    "            return topic_i\n",
    "    return ''\n",
    "\n",
    "relationship_data = pd.read_csv('data/multilingual_relationship_sentences.tsv', sep='\\t')"
   ]
  },
  {
   "cell_type": "code",
   "execution_count": 3,
   "metadata": {
    "scrolled": true
   },
   "outputs": [],
   "source": [
    "import re\n",
    "langs = ['en', 'es', 'fr', 'it']\n",
    "relationship_topics = relationship_data.loc[:, 'topic'].values\n",
    "lang_relationship_topic_lookup = {\n",
    "    l : list(zip(relationship_data.loc[:, f'{l}_sentence'].values, relationship_topics))\n",
    "    for l in langs\n",
    "}\n",
    "# for each lang, get list of (relationship_topic, topic_matcher)\n",
    "lang_relationship_topic_lookup = {\n",
    "    k : [(v1, re.compile(re.sub('([XY]|PRON)', '.*', k1).strip())) for k1, v1 in v]\n",
    "    for k,v in lang_relationship_topic_lookup.items()\n",
    "}\n",
    "same_gender_sentence_data = same_gender_sentence_data.assign(**{\n",
    "    'relationship_topic' : same_gender_sentence_data.apply(lambda x: get_relationship_topic(x.loc['sent'], lang_relationship_topic_lookup[x.loc['lang']]), axis=1)\n",
    "})\n",
    "diff_gender_sentence_data = diff_gender_sentence_data.assign(**{\n",
    "    'relationship_topic' : diff_gender_sentence_data.apply(lambda x: get_relationship_topic(x.loc['sent'], lang_relationship_topic_lookup[x.loc['lang']]), axis=1)\n",
    "})"
   ]
  },
  {
   "cell_type": "code",
   "execution_count": 4,
   "metadata": {},
   "outputs": [],
   "source": [
    "same_gender_sentence_data = same_gender_sentence_data[same_gender_sentence_data.loc[:, 'lang']!='en']\n",
    "diff_gender_sentence_data = diff_gender_sentence_data[diff_gender_sentence_data.loc[:, 'lang']!='en']"
   ]
  },
  {
   "cell_type": "code",
   "execution_count": 5,
   "metadata": {
    "scrolled": true
   },
   "outputs": [
    {
     "name": "stdout",
     "output_type": "stream",
     "text": [
      "bad text the ingeniero lived with his fianc2e.\n",
      "bad text the farmer kissed his boy.\n",
      "bad text the peasant lived with his boy.\n",
      "bad text the farmer and his boy have a son.\n",
      "bad text the banker kissed his bride.\n",
      "bad text the carpenter kissed his bride.\n",
      "bad text the farmer kissed his bride.\n",
      "bad text the engineer lived with his fianc2ee.\n"
     ]
    }
   ],
   "source": [
    "## add subject, target genders\n",
    "from importlib import reload\n",
    "import data_helpers\n",
    "reload(data_helpers)\n",
    "from data_helpers import load_relationship_occupation_template_data, extract_subject_relationship_gender, translate_subject_relationship_words\n",
    "occupation_words, relationship_words, relationship_sents, langs, lang_art_PRON_lookup, lang_POSS_PRON_lookup = load_relationship_occupation_template_data()\n",
    "same_gender_sentence_data = extract_subject_relationship_gender(same_gender_sentence_data, relationship_words)\n",
    "same_gender_sentence_data = translate_subject_relationship_words(same_gender_sentence_data, occupation_words, relationship_words)\n",
    "diff_gender_sentence_data = extract_subject_relationship_gender(diff_gender_sentence_data, relationship_words)\n",
    "diff_gender_sentence_data = translate_subject_relationship_words(diff_gender_sentence_data, occupation_words, relationship_words)"
   ]
  },
  {
   "cell_type": "code",
   "execution_count": 6,
   "metadata": {
    "scrolled": true
   },
   "outputs": [
    {
     "name": "stdout",
     "output_type": "stream",
     "text": [
      "0.9985815602836879 valid gender translation data for same-gender pairs\n",
      "0.9985815602836879 valid gender translation data for diff-gender pairs\n"
     ]
    }
   ],
   "source": [
    "## get gender-match stats\n",
    "## same-gender data\n",
    "same_gender_sentence_data = same_gender_sentence_data.assign(**{\n",
    "    'subject_gender_match' : (same_gender_sentence_data.loc[:, 'subject_gender'] == same_gender_sentence_data.loc[:, 'translation_subject_gender']).astype(int),\n",
    "    'relationship_gender_match' : (same_gender_sentence_data.loc[:, 'subject_gender'] == same_gender_sentence_data.loc[:, 'translation_relationship_gender']).astype(int),\n",
    "})\n",
    "# limit to valid data (non-None)\n",
    "valid_same_gender_sentence_data = same_gender_sentence_data[(same_gender_sentence_data.loc[:, 'translation_subject_gender'].apply(lambda x: x is not None)) & \n",
    "                                                            (same_gender_sentence_data.loc[:, 'translation_relationship_gender'].apply(lambda x: x is not None))]\n",
    "print(f'{valid_same_gender_sentence_data.shape[0]/same_gender_sentence_data.shape[0]} valid gender translation data for same-gender pairs')\n",
    "## get \"both match\" var\n",
    "valid_same_gender_sentence_data = valid_same_gender_sentence_data.assign(**{\n",
    "    'subject_relationship_gender_match' : valid_same_gender_sentence_data.loc[:, ['relationship_gender_match', 'subject_gender_match']].min(axis=1)\n",
    "})\n",
    "## diff-gender data\n",
    "diff_gender_sentence_data = diff_gender_sentence_data.assign(**{\n",
    "    'subject_gender_match' : (diff_gender_sentence_data.loc[:, 'subject_gender'] == diff_gender_sentence_data.loc[:, 'translation_subject_gender']).astype(int),\n",
    "    'relationship_gender_match' : (diff_gender_sentence_data.loc[:, 'relationship_gender'] == diff_gender_sentence_data.loc[:, 'translation_relationship_gender']).astype(int),\n",
    "})\n",
    "valid_diff_gender_sentence_data = diff_gender_sentence_data[(diff_gender_sentence_data.loc[:, 'translation_subject_gender'].apply(lambda x: x is not None)) & \n",
    "                                                            (diff_gender_sentence_data.loc[:, 'translation_relationship_gender'].apply(lambda x: x is not None))]\n",
    "print(f'{valid_diff_gender_sentence_data.shape[0]/diff_gender_sentence_data.shape[0]} valid gender translation data for diff-gender pairs')"
   ]
  },
  {
   "cell_type": "markdown",
   "metadata": {},
   "source": [
    "Are there any disparities in subject gender matching for same-gender vs. diff-gender pairs?"
   ]
  },
  {
   "cell_type": "code",
   "execution_count": 7,
   "metadata": {},
   "outputs": [
    {
     "name": "stdout",
     "output_type": "stream",
     "text": [
      "19.63778409090909\n",
      "100.0\n",
      "97.23011363636364\n",
      "100.0\n"
     ]
    }
   ],
   "source": [
    "print(valid_same_gender_sentence_data.loc[:, 'subject_gender_match'].mean()*100)\n",
    "print(valid_same_gender_sentence_data.loc[:, 'relationship_gender_match'].mean()*100)\n",
    "print(valid_diff_gender_sentence_data.loc[:, 'subject_gender_match'].mean()*100)\n",
    "print(valid_diff_gender_sentence_data.loc[:, 'relationship_gender_match'].mean()*100)"
   ]
  },
  {
   "cell_type": "markdown",
   "metadata": {},
   "source": [
    "OK! Massive discrepancy here. Let's see the breakdown by gender etc."
   ]
  },
  {
   "cell_type": "code",
   "execution_count": 9,
   "metadata": {},
   "outputs": [],
   "source": [
    "import matplotlib\n",
    "%matplotlib inline\n",
    "import matplotlib.pyplot as plt\n",
    "import seaborn as sns\n",
    "def plot_match_rates(data, data_title):\n",
    "    ## show distributions \n",
    "    ## plot on same chart!!\n",
    "    ## gender\n",
    "    plt.figure(figsize=(5,5))\n",
    "    sns.barplot(data=data, y='subject_gender', x='subject_gender_match')\n",
    "    plt.title(f'Gender (data={data_title})')\n",
    "    ## language\n",
    "    plt.figure(figsize=(5,5))\n",
    "    sns.barplot(data=data, y='lang', x='subject_gender_match')\n",
    "    plt.title(f'Language (data={data_title})')\n",
    "    # subject word\n",
    "    subject_word_order = order=list(sorted(data.loc[:, 'subject_word_en'].unique()))\n",
    "    plt.show()\n",
    "    plt.figure(figsize=(5, 10))\n",
    "    sns.barplot(data=data, y='subject_word_en', x='subject_gender_match', hue_order=subject_word_order)\n",
    "    plt.title(f'Subject word (data={data_title})')\n",
    "    # target word\n",
    "    plt.show()\n",
    "    plt.figure(figsize=(5,5))\n",
    "    sns.barplot(data=data, y='relationship_word_en', x='subject_gender_match')\n",
    "    plt.title(f'Target word (data={data_title})')\n",
    "    plt.show()"
   ]
  },
  {
   "cell_type": "code",
   "execution_count": 10,
   "metadata": {
    "scrolled": true
   },
   "outputs": [
    {
     "name": "stdout",
     "output_type": "stream",
     "text": [
      "**** same-gender sentences ****\n"
     ]
    },
    {
     "data": {
      "image/png": "[encoded data removed]",
      "text/plain": [
       "<Figure size 360x360 with 1 Axes>"
      ]
     },
     "metadata": {
      "needs_background": "light"
     },
     "output_type": "display_data"
    },
    {
     "data": {
      "image/png": "[encoded data removed]",
      "text/plain": [
       "<Figure size 360x360 with 1 Axes>"
      ]
     },
     "metadata": {
      "needs_background": "light"
     },
     "output_type": "display_data"
    },
    {
     "data": {
      "image/png": "[encoded data removed]",
      "text/plain": [
       "<Figure size 360x720 with 1 Axes>"
      ]
     },
     "metadata": {
      "needs_background": "light"
     },
     "output_type": "display_data"
    },
    {
     "data": {
      "image/png": "[encoded data removed]",
      "text/plain": [
       "<Figure size 360x360 with 1 Axes>"
      ]
     },
     "metadata": {
      "needs_background": "light"
     },
     "output_type": "display_data"
    },
    {
     "name": "stdout",
     "output_type": "stream",
     "text": [
      "**** diff-gender sentences ****\n"
     ]
    },
    {
     "data": {
      "image/png": "[encoded data removed]",
      "text/plain": [
       "<Figure size 360x360 with 1 Axes>"
      ]
     },
     "metadata": {
      "needs_background": "light"
     },
     "output_type": "display_data"
    },
    {
     "data": {
      "image/png": "[encoded data removed]",
      "text/plain": [
       "<Figure size 360x360 with 1 Axes>"
      ]
     },
     "metadata": {
      "needs_background": "light"
     },
     "output_type": "display_data"
    },
    {
     "data": {
      "image/png": "[encoded data removed]",
      "text/plain": [
       "<Figure size 360x720 with 1 Axes>"
      ]
     },
     "metadata": {
      "needs_background": "light"
     },
     "output_type": "display_data"
    },
    {
     "data": {
      "image/png": "[encoded data removed]",
      "text/plain": [
       "<Figure size 360x360 with 1 Axes>"
      ]
     },
     "metadata": {
      "needs_background": "light"
     },
     "output_type": "display_data"
    }
   ],
   "source": [
    "print('**** same-gender sentences ****')\n",
    "plot_match_rates(valid_same_gender_sentence_data, 'same_gender')\n",
    "print('**** diff-gender sentences ****')\n",
    "plot_match_rates(valid_diff_gender_sentence_data, 'diff_gender')"
   ]
  },
  {
   "cell_type": "code",
   "execution_count": null,
   "metadata": {},
   "outputs": [],
   "source": []
  }
 ],
 "metadata": {
  "kernelspec": {
   "display_name": "Python [conda env:py3] *",
   "language": "python",
   "name": "conda-env-py3-py"
  },
  "language_info": {
   "codemirror_mode": {
    "name": "ipython",
    "version": 3
   },
   "file_extension": ".py",
   "mimetype": "text/x-python",
   "name": "python",
   "nbconvert_exporter": "python",
   "pygments_lexer": "ipython3",
   "version": "3.8.5"
  }
 },
 "nbformat": 4,
 "nbformat_minor": 5
}
