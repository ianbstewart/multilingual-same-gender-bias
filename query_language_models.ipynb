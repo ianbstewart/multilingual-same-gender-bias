{
 "cells": [
  {
   "cell_type": "markdown",
   "metadata": {},
   "source": [
    "# Query language models\n",
    "Let's test different monolingual models for the task of filling in blanks for relationship targets.\n",
    "\n",
    "We'll use the multilingual BERT model for consistency across languages. If this gives weird results for specific languages (e.g. poor accuracy only for Italian), we may pivot to using individual models for each language."
   ]
  },
  {
   "cell_type": "code",
   "execution_count": 1,
   "metadata": {
    "scrolled": true
   },
   "outputs": [
    {
     "name": "stderr",
     "output_type": "stream",
     "text": [
      "Some weights of the model checkpoint at bert-base-multilingual-cased were not used when initializing BertForMaskedLM: ['cls.seq_relationship.weight', 'cls.seq_relationship.bias']\n",
      "- This IS expected if you are initializing BertForMaskedLM from the checkpoint of a model trained on another task or with another architecture (e.g. initializing a BertForSequenceClassification model from a BertForPreTraining model).\n",
      "- This IS NOT expected if you are initializing BertForMaskedLM from the checkpoint of a model that you expect to be exactly identical (initializing a BertForSequenceClassification model from a BertForSequenceClassification model).\n"
     ]
    }
   ],
   "source": [
    "## TODO: https://huggingface.co/bert-base-multilingual-cased\n",
    "from transformers import BertTokenizer, BertModel, pipeline\n",
    "cache_dir = 'data/'\n",
    "# tokenizer = BertTokenizer.from_pretrained('bert-base-multilingual-cased', cache_dir=cache_dir)\n",
    "model_pipeline = pipeline('fill-mask', model='bert-base-multilingual-cased', tokenizer='bert-base-multilingual-cased', model_kwargs={'cache_dir' : cache_dir})"
   ]
  },
  {
   "cell_type": "code",
   "execution_count": 2,
   "metadata": {},
   "outputs": [
    {
     "name": "stdout",
     "output_type": "stream",
     "text": [
      "['[CLS]', 'el', 'hombre', 'se', 'casó', 'con', 'su', 'novi', '##o', '[SEP]']\n"
     ]
    }
   ],
   "source": [
    "a = model_pipeline.tokenizer('el hombre se casó con su novio')\n",
    "print(model_pipeline.tokenizer.convert_ids_to_tokens(a['input_ids']))"
   ]
  },
  {
   "cell_type": "code",
   "execution_count": 63,
   "metadata": {
    "scrolled": true
   },
   "outputs": [
    {
     "data": {
      "text/html": [
       "<div>\n",
       "<style scoped>\n",
       "    .dataframe tbody tr th:only-of-type {\n",
       "        vertical-align: middle;\n",
       "    }\n",
       "\n",
       "    .dataframe tbody tr th {\n",
       "        vertical-align: top;\n",
       "    }\n",
       "\n",
       "    .dataframe thead th {\n",
       "        text-align: right;\n",
       "    }\n",
       "</style>\n",
       "<table border=\"1\" class=\"dataframe\">\n",
       "  <thead>\n",
       "    <tr style=\"text-align: right;\">\n",
       "      <th></th>\n",
       "      <th>sequence</th>\n",
       "      <th>score</th>\n",
       "      <th>token</th>\n",
       "      <th>token_str</th>\n",
       "    </tr>\n",
       "  </thead>\n",
       "  <tbody>\n",
       "    <tr>\n",
       "      <th>0</th>\n",
       "      <td>The man married his wife.</td>\n",
       "      <td>0.034301</td>\n",
       "      <td>14384</td>\n",
       "      <td>wife</td>\n",
       "    </tr>\n",
       "    <tr>\n",
       "      <th>1</th>\n",
       "      <td>The man married his husband.</td>\n",
       "      <td>0.002665</td>\n",
       "      <td>19634</td>\n",
       "      <td>husband</td>\n",
       "    </tr>\n",
       "    <tr>\n",
       "      <th>2</th>\n",
       "      <td>The man married his girlfriend.</td>\n",
       "      <td>0.000097</td>\n",
       "      <td>77877</td>\n",
       "      <td>girlfriend</td>\n",
       "    </tr>\n",
       "    <tr>\n",
       "      <th>3</th>\n",
       "      <td>The man married his boyfriend.</td>\n",
       "      <td>0.000029</td>\n",
       "      <td>109465</td>\n",
       "      <td>boyfriend</td>\n",
       "    </tr>\n",
       "  </tbody>\n",
       "</table>\n",
       "</div>"
      ],
      "text/plain": [
       "                          sequence     score   token   token_str\n",
       "0        The man married his wife.  0.034301   14384        wife\n",
       "1     The man married his husband.  0.002665   19634     husband\n",
       "2  The man married his girlfriend.  0.000097   77877  girlfriend\n",
       "3   The man married his boyfriend.  0.000029  109465   boyfriend"
      ]
     },
     "metadata": {},
     "output_type": "display_data"
    },
    {
     "name": "stderr",
     "output_type": "stream",
     "text": [
      "The specified target token `novio` does not exist in the model vocabulary. Replacing with `novi`.\n"
     ]
    },
    {
     "data": {
      "text/html": [
       "<div>\n",
       "<style scoped>\n",
       "    .dataframe tbody tr th:only-of-type {\n",
       "        vertical-align: middle;\n",
       "    }\n",
       "\n",
       "    .dataframe tbody tr th {\n",
       "        vertical-align: top;\n",
       "    }\n",
       "\n",
       "    .dataframe thead th {\n",
       "        text-align: right;\n",
       "    }\n",
       "</style>\n",
       "<table border=\"1\" class=\"dataframe\">\n",
       "  <thead>\n",
       "    <tr style=\"text-align: right;\">\n",
       "      <th></th>\n",
       "      <th>sequence</th>\n",
       "      <th>score</th>\n",
       "      <th>token</th>\n",
       "      <th>token_str</th>\n",
       "    </tr>\n",
       "  </thead>\n",
       "  <tbody>\n",
       "    <tr>\n",
       "      <th>0</th>\n",
       "      <td>El hombre se casó con su esposa.</td>\n",
       "      <td>0.123317</td>\n",
       "      <td>19217</td>\n",
       "      <td>esposa</td>\n",
       "    </tr>\n",
       "    <tr>\n",
       "      <th>1</th>\n",
       "      <td>El hombre se casó con su esposo.</td>\n",
       "      <td>0.009511</td>\n",
       "      <td>98473</td>\n",
       "      <td>esposo</td>\n",
       "    </tr>\n",
       "    <tr>\n",
       "      <th>2</th>\n",
       "      <td>El hombre se casó con su novia.</td>\n",
       "      <td>0.002240</td>\n",
       "      <td>110845</td>\n",
       "      <td>novia</td>\n",
       "    </tr>\n",
       "    <tr>\n",
       "      <th>3</th>\n",
       "      <td>El hombre se casó con su novi.</td>\n",
       "      <td>0.000119</td>\n",
       "      <td>39122</td>\n",
       "      <td>novi</td>\n",
       "    </tr>\n",
       "  </tbody>\n",
       "</table>\n",
       "</div>"
      ],
      "text/plain": [
       "                           sequence     score   token token_str\n",
       "0  El hombre se casó con su esposa.  0.123317   19217    esposa\n",
       "1  El hombre se casó con su esposo.  0.009511   98473    esposo\n",
       "2   El hombre se casó con su novia.  0.002240  110845     novia\n",
       "3    El hombre se casó con su novi.  0.000119   39122      novi"
      ]
     },
     "metadata": {},
     "output_type": "display_data"
    },
    {
     "name": "stderr",
     "output_type": "stream",
     "text": [
      "The specified target token `copain` does not exist in the model vocabulary. Replacing with `copa`.\n"
     ]
    },
    {
     "data": {
      "text/html": [
       "<div>\n",
       "<style scoped>\n",
       "    .dataframe tbody tr th:only-of-type {\n",
       "        vertical-align: middle;\n",
       "    }\n",
       "\n",
       "    .dataframe tbody tr th {\n",
       "        vertical-align: top;\n",
       "    }\n",
       "\n",
       "    .dataframe thead th {\n",
       "        text-align: right;\n",
       "    }\n",
       "</style>\n",
       "<table border=\"1\" class=\"dataframe\">\n",
       "  <thead>\n",
       "    <tr style=\"text-align: right;\">\n",
       "      <th></th>\n",
       "      <th>sequence</th>\n",
       "      <th>score</th>\n",
       "      <th>token</th>\n",
       "      <th>token_str</th>\n",
       "    </tr>\n",
       "  </thead>\n",
       "  <tbody>\n",
       "    <tr>\n",
       "      <th>0</th>\n",
       "      <td>L'homme s'est marié avec son épouse.</td>\n",
       "      <td>0.031738</td>\n",
       "      <td>23791</td>\n",
       "      <td>épouse</td>\n",
       "    </tr>\n",
       "    <tr>\n",
       "      <th>1</th>\n",
       "      <td>L'homme s'est marié avec son époux.</td>\n",
       "      <td>0.003428</td>\n",
       "      <td>102182</td>\n",
       "      <td>époux</td>\n",
       "    </tr>\n",
       "    <tr>\n",
       "      <th>2</th>\n",
       "      <td>L'homme s'est marié avec son copa.</td>\n",
       "      <td>0.000004</td>\n",
       "      <td>39313</td>\n",
       "      <td>copa</td>\n",
       "    </tr>\n",
       "  </tbody>\n",
       "</table>\n",
       "</div>"
      ],
      "text/plain": [
       "                               sequence     score   token token_str\n",
       "0  L'homme s'est marié avec son épouse.  0.031738   23791    épouse\n",
       "1   L'homme s'est marié avec son époux.  0.003428  102182     époux\n",
       "2    L'homme s'est marié avec son copa.  0.000004   39313      copa"
      ]
     },
     "metadata": {},
     "output_type": "display_data"
    },
    {
     "name": "stderr",
     "output_type": "stream",
     "text": [
      "The specified target token `copine` does not exist in the model vocabulary. Replacing with `cop`.\n"
     ]
    },
    {
     "data": {
      "text/html": [
       "<div>\n",
       "<style scoped>\n",
       "    .dataframe tbody tr th:only-of-type {\n",
       "        vertical-align: middle;\n",
       "    }\n",
       "\n",
       "    .dataframe tbody tr th {\n",
       "        vertical-align: top;\n",
       "    }\n",
       "\n",
       "    .dataframe thead th {\n",
       "        text-align: right;\n",
       "    }\n",
       "</style>\n",
       "<table border=\"1\" class=\"dataframe\">\n",
       "  <thead>\n",
       "    <tr style=\"text-align: right;\">\n",
       "      <th></th>\n",
       "      <th>sequence</th>\n",
       "      <th>score</th>\n",
       "      <th>token</th>\n",
       "      <th>token_str</th>\n",
       "    </tr>\n",
       "  </thead>\n",
       "  <tbody>\n",
       "    <tr>\n",
       "      <th>0</th>\n",
       "      <td>L'homme s'est marié avec sa cop.</td>\n",
       "      <td>0.000014</td>\n",
       "      <td>35691</td>\n",
       "      <td>cop</td>\n",
       "    </tr>\n",
       "  </tbody>\n",
       "</table>\n",
       "</div>"
      ],
      "text/plain": [
       "                           sequence     score  token token_str\n",
       "0  L'homme s'est marié avec sa cop.  0.000014  35691       cop"
      ]
     },
     "metadata": {},
     "output_type": "display_data"
    }
   ],
   "source": [
    "import pandas as pd\n",
    "# import torch\n",
    "# def pred_mask_tokens(sent, tokenizer, model):\n",
    "#     model_input = tokenizer(sent)\n",
    "#     model_output = model(model_input)\n",
    "#     logits = model_output.logits\n",
    "#     token_map = \n",
    "test_sents = [\n",
    "    'The man married his [MASK].', \n",
    "    'El hombre se casó con su [MASK].',\n",
    "    \"L'homme s'est marié avec son [MASK].\",\n",
    "    \"L'homme s'est marié avec sa [MASK].\"\n",
    "]\n",
    "test_targets = [\n",
    "    ['wife', 'husband', 'girlfriend', 'boyfriend'],\n",
    "    ['esposa', 'esposo', 'novia', 'novio'],\n",
    "    ['épouse', 'époux', 'copain'],\n",
    "    ['copine'],\n",
    "]\n",
    "for test_sent_i, test_targets_i in zip(test_sents, test_targets):\n",
    "    test_sent_pred_i = model_pipeline(test_sent_i, targets=test_targets_i)\n",
    "    test_sent_pred_i = pd.DataFrame(test_sent_pred_i)\n",
    "    display(test_sent_pred_i)"
   ]
  },
  {
   "cell_type": "markdown",
   "metadata": {},
   "source": [
    "OK! As expected, same-gender relationships are way less predictable than different-gender relationships."
   ]
  },
  {
   "cell_type": "markdown",
   "metadata": {},
   "source": [
    "We're getting some major OOV errors that are only going to get worse as we get into more niche occupation words.\n",
    "\n",
    "We're going to have to switch to computing PPL rather than P(individual words) to handle these weird tokenization problems."
   ]
  },
  {
   "cell_type": "code",
   "execution_count": 129,
   "metadata": {
    "scrolled": true
   },
   "outputs": [
    {
     "name": "stdout",
     "output_type": "stream",
     "text": [
      "sent = The man married his wife.; score=31.150\n",
      "sent = The man married his husband.; score=31.001\n",
      "sent = The man married his girlfriend.; score=31.702\n",
      "sent = The man married his boyfriend.; score=30.705\n"
     ]
    }
   ],
   "source": [
    "import torch\n",
    "test_sents = [\n",
    "    'The man married his wife.', \n",
    "    'The man married his husband.',\n",
    "    'The man married his girlfriend.', \n",
    "    'The man married his boyfriend.', \n",
    "]\n",
    "for sent_i in test_sents:\n",
    "    tokens_i = model_pipeline.tokenizer(sent_i, return_tensors='pt')\n",
    "    raw_tokens_i = model_pipeline.tokenizer(sent_i, add_special_tokens=False)\n",
    "    with torch.no_grad():\n",
    "        sent_output_i = model_pipeline.model(tokens_i['input_ids'], labels=tokens_i['input_ids'])\n",
    "#     logit_i = sent_output_i.logits\n",
    "    # convert to log-probability per-token => log-softmax!\n",
    "#     logit_i = torch.log(torch.softmax(logit_i, dim=2))\n",
    "#     prob_i = logit_i[:, list(range(len(raw_tokens_i['input_ids']))), raw_tokens_i['input_ids']].sum()\n",
    "    ppl_i = torch.exp(sent_output_i.loss)\n",
    "    print(f'sent = {sent_i}; score={ppl_i:.3f}')"
   ]
  },
  {
   "cell_type": "code",
   "execution_count": 9,
   "metadata": {},
   "outputs": [
    {
     "name": "stdout",
     "output_type": "stream",
     "text": [
      "sent = El abogado se casó con su esposa.; score=-106.996\n",
      "sent = El abogado se casó con su esposo.; score=-107.592\n",
      "sent = El abogado se casó con su novia.; score=-109.371\n",
      "sent = El abogado se casó con su novio.; score=-138.591\n"
     ]
    }
   ],
   "source": [
    "test_sents = [\n",
    "    'El abogado se casó con su esposa.',\n",
    "    'El abogado se casó con su esposo.',\n",
    "    'El abogado se casó con su novia.',\n",
    "    'El abogado se casó con su novio.',\n",
    "]\n",
    "for sent_i in test_sents:\n",
    "    tokens_i = model_pipeline.tokenizer(sent_i, return_tensors='pt')\n",
    "    raw_tokens_i = model_pipeline.tokenizer(sent_i, add_special_tokens=False)\n",
    "    with torch.no_grad():\n",
    "        sent_output_i = model_pipeline.model(tokens_i['input_ids'], labels=tokens_i['input_ids'])\n",
    "    logit_i = sent_output_i.logits\n",
    "    # convert to log-probability per-token => log-softmax!\n",
    "    logit_i = torch.log(torch.softmax(logit_i, dim=2))\n",
    "    prob_i = logit_i[:, list(range(len(raw_tokens_i['input_ids']))), raw_tokens_i['input_ids']].sum()\n",
    "    ppl_i = torch.exp(sent_output_i.loss)\n",
    "    print(f'sent = {sent_i}; score={prob_i:.3f}')"
   ]
  },
  {
   "cell_type": "markdown",
   "metadata": {},
   "source": [
    "OK! The scores are indeed slightly different."
   ]
  },
  {
   "cell_type": "markdown",
   "metadata": {},
   "source": [
    "Let's run the predictions for the same sample sentences that we've generated before. \n",
    "\n",
    "ASSUMPTION: the wonky sub-word vocabulary in BERT will affect the different-gender relationships in the same way as the same-gender relationships. This should hold?"
   ]
  },
  {
   "cell_type": "code",
   "execution_count": 79,
   "metadata": {
    "scrolled": true
   },
   "outputs": [
    {
     "data": {
      "text/html": [
       "<div>\n",
       "<style scoped>\n",
       "    .dataframe tbody tr th:only-of-type {\n",
       "        vertical-align: middle;\n",
       "    }\n",
       "\n",
       "    .dataframe tbody tr th {\n",
       "        vertical-align: top;\n",
       "    }\n",
       "\n",
       "    .dataframe thead th {\n",
       "        text-align: right;\n",
       "    }\n",
       "</style>\n",
       "<table border=\"1\" class=\"dataframe\">\n",
       "  <thead>\n",
       "    <tr style=\"text-align: right;\">\n",
       "      <th></th>\n",
       "      <th>en_female</th>\n",
       "      <th>en_male</th>\n",
       "      <th>fr_female</th>\n",
       "      <th>fr_male</th>\n",
       "      <th>es_female</th>\n",
       "      <th>es_male</th>\n",
       "      <th>it_female</th>\n",
       "      <th>it_male</th>\n",
       "    </tr>\n",
       "  </thead>\n",
       "  <tbody>\n",
       "    <tr>\n",
       "      <th>0</th>\n",
       "      <td>girlfriend</td>\n",
       "      <td>boyfriend</td>\n",
       "      <td>petite amie</td>\n",
       "      <td>petit ami</td>\n",
       "      <td>novia</td>\n",
       "      <td>novio</td>\n",
       "      <td>ragazza</td>\n",
       "      <td>ragazzo</td>\n",
       "    </tr>\n",
       "    <tr>\n",
       "      <th>1</th>\n",
       "      <td>fiancée</td>\n",
       "      <td>fiancé</td>\n",
       "      <td>fiancée</td>\n",
       "      <td>fiancé</td>\n",
       "      <td>prometida</td>\n",
       "      <td>prometido</td>\n",
       "      <td>fidanzata</td>\n",
       "      <td>fidanzato</td>\n",
       "    </tr>\n",
       "    <tr>\n",
       "      <th>2</th>\n",
       "      <td>wife</td>\n",
       "      <td>husband</td>\n",
       "      <td>épouse</td>\n",
       "      <td>époux</td>\n",
       "      <td>esposa</td>\n",
       "      <td>esposo</td>\n",
       "      <td>moglie</td>\n",
       "      <td>marito</td>\n",
       "    </tr>\n",
       "  </tbody>\n",
       "</table>\n",
       "</div>"
      ],
      "text/plain": [
       "    en_female    en_male    fr_female    fr_male  es_female    es_male  \\\n",
       "0  girlfriend  boyfriend  petite amie  petit ami      novia      novio   \n",
       "1     fiancée     fiancé      fiancée     fiancé  prometida  prometido   \n",
       "2        wife    husband       épouse      époux     esposa     esposo   \n",
       "\n",
       "   it_female    it_male  \n",
       "0    ragazza    ragazzo  \n",
       "1  fidanzata  fidanzato  \n",
       "2     moglie     marito  "
      ]
     },
     "metadata": {},
     "output_type": "display_data"
    },
    {
     "data": {
      "text/html": [
       "<div>\n",
       "<style scoped>\n",
       "    .dataframe tbody tr th:only-of-type {\n",
       "        vertical-align: middle;\n",
       "    }\n",
       "\n",
       "    .dataframe tbody tr th {\n",
       "        vertical-align: top;\n",
       "    }\n",
       "\n",
       "    .dataframe thead th {\n",
       "        text-align: right;\n",
       "    }\n",
       "</style>\n",
       "<table border=\"1\" class=\"dataframe\">\n",
       "  <thead>\n",
       "    <tr style=\"text-align: right;\">\n",
       "      <th></th>\n",
       "      <th>en_female</th>\n",
       "      <th>variable</th>\n",
       "      <th>value</th>\n",
       "    </tr>\n",
       "  </thead>\n",
       "  <tbody>\n",
       "    <tr>\n",
       "      <th>0</th>\n",
       "      <td>girlfriend</td>\n",
       "      <td>fr_female</td>\n",
       "      <td>petite amie</td>\n",
       "    </tr>\n",
       "    <tr>\n",
       "      <th>1</th>\n",
       "      <td>fiancée</td>\n",
       "      <td>fr_female</td>\n",
       "      <td>fiancée</td>\n",
       "    </tr>\n",
       "    <tr>\n",
       "      <th>2</th>\n",
       "      <td>wife</td>\n",
       "      <td>fr_female</td>\n",
       "      <td>épouse</td>\n",
       "    </tr>\n",
       "    <tr>\n",
       "      <th>3</th>\n",
       "      <td>girlfriend</td>\n",
       "      <td>es_female</td>\n",
       "      <td>novia</td>\n",
       "    </tr>\n",
       "    <tr>\n",
       "      <th>4</th>\n",
       "      <td>fiancée</td>\n",
       "      <td>es_female</td>\n",
       "      <td>prometida</td>\n",
       "    </tr>\n",
       "    <tr>\n",
       "      <th>5</th>\n",
       "      <td>wife</td>\n",
       "      <td>es_female</td>\n",
       "      <td>esposa</td>\n",
       "    </tr>\n",
       "    <tr>\n",
       "      <th>6</th>\n",
       "      <td>girlfriend</td>\n",
       "      <td>it_female</td>\n",
       "      <td>ragazza</td>\n",
       "    </tr>\n",
       "    <tr>\n",
       "      <th>7</th>\n",
       "      <td>fiancée</td>\n",
       "      <td>it_female</td>\n",
       "      <td>fidanzata</td>\n",
       "    </tr>\n",
       "    <tr>\n",
       "      <th>8</th>\n",
       "      <td>wife</td>\n",
       "      <td>it_female</td>\n",
       "      <td>moglie</td>\n",
       "    </tr>\n",
       "  </tbody>\n",
       "</table>\n",
       "</div>"
      ],
      "text/plain": [
       "    en_female   variable        value\n",
       "0  girlfriend  fr_female  petite amie\n",
       "1     fiancée  fr_female      fiancée\n",
       "2        wife  fr_female       épouse\n",
       "3  girlfriend  es_female        novia\n",
       "4     fiancée  es_female    prometida\n",
       "5        wife  es_female       esposa\n",
       "6  girlfriend  it_female      ragazza\n",
       "7     fiancée  it_female    fidanzata\n",
       "8        wife  it_female       moglie"
      ]
     },
     "metadata": {},
     "output_type": "display_data"
    }
   ],
   "source": [
    "display(relationship_words.head())\n",
    "genders = ['female', 'male']\n",
    "flat_relationship_words = []\n",
    "for gender_i in genders:\n",
    "    relationship_words_i = pd.melt(relationship_words, id_vars=[f'en_{gender_i}'], value_vars=[f'{lang}_{gender_i}' for x in langs], value_name='lang', var_name='')\n",
    "    \n",
    "display()\n",
    "\n",
    "# relationship_words.pivot(columns=['en_female', 'en_male'], values=['fr_female', 'fr_male', 'es_female', 'es_male', 'it_female', 'it_male'])"
   ]
  },
  {
   "cell_type": "code",
   "execution_count": 21,
   "metadata": {},
   "outputs": [],
   "source": [
    "## load previously generated sentences\n",
    "from importlib import reload\n",
    "import data_helpers\n",
    "reload(data_helpers)\n",
    "from data_helpers import load_relationship_occupation_template_data, generate_occupation_relationship_sentence_data, translate_subject_relationship_words\n",
    "occupation_words, relationship_words, relationship_sents, langs, lang_art_PRON_lookup, lang_POSS_PRON_lookup = load_relationship_occupation_template_data()\n",
    "langs = ['es', 'fr', 'it']\n",
    "## TODO: generate sents for EN data => need custom generation procedure \n",
    "## because ENG possessive pronouns don't get gender from target but from subject\n",
    "## TODO: add column for relationship verb\n",
    "same_gender_relationship_sent_data = generate_occupation_relationship_sentence_data(relationship_sents, \n",
    "                                                                                    occupation_words, \n",
    "                                                                                    relationship_words,\n",
    "                                                                                    lang_art_PRON_lookup, \n",
    "                                                                                    lang_POSS_PRON_lookup,\n",
    "                                                                                    relationship_type='same_gender', \n",
    "                                                                                    langs=langs)\n",
    "diff_gender_relationship_sent_data = generate_occupation_relationship_sentence_data(relationship_sents, \n",
    "                                                                                    occupation_words, \n",
    "                                                                                    relationship_words,\n",
    "                                                                                    lang_art_PRON_lookup, \n",
    "                                                                                    lang_POSS_PRON_lookup,\n",
    "                                                                                    relationship_type='diff_gender', \n",
    "                                                                                    langs=langs)\n",
    "import pandas as pd\n",
    "relationship_sent_data = pd.concat([\n",
    "    same_gender_relationship_sent_data.assign(**{'relationship_type' : 'same_gender'}),\n",
    "    diff_gender_relationship_sent_data.assign(**{'relationship_type' : 'diff_gender'}),\n",
    "], axis=0)\n",
    "## add EN translations + relationship-target categories\n",
    "from data_helpers import translate_subject_relationship_words\n",
    "relationship_sent_data = translate_subject_relationship_words(relationship_sent_data, occupation_words, relationship_words)\n",
    "\n"
   ]
  },
  {
   "cell_type": "code",
   "execution_count": 88,
   "metadata": {},
   "outputs": [],
   "source": [
    "relationship_target_categories = {\n",
    "    'FRIEND' : ['boyfriend', 'girlfriend'],\n",
    "    'ENGAGE' : ['fiance', 'fiancee'],\n",
    "    'SPOUSE' : ['husband', 'wife'],\n",
    "}\n",
    "relationship_target_categories = {\n",
    "    v1 : k for k, v in relationship_target_categories.items() for v1 in v\n",
    "}\n",
    "relationship_sent_data = relationship_sent_data.assign(**{\n",
    "    'relationship_word_category' : relationship_sent_data.loc[:, 'relationship_word_en'].apply(relationship_target_categories.get)\n",
    "})"
   ]
  },
  {
   "cell_type": "markdown",
   "metadata": {},
   "source": [
    "Compute probability for ALL the data!!"
   ]
  },
  {
   "cell_type": "code",
   "execution_count": 53,
   "metadata": {},
   "outputs": [],
   "source": [
    "def compute_prob(sent, model_pipeline):\n",
    "    tokens = model_pipeline.tokenizer(sent, return_tensors='pt')\n",
    "    raw_tokens = model_pipeline.tokenizer(sent, add_special_tokens=False)\n",
    "    with torch.no_grad():\n",
    "        sent_output = model_pipeline.model(tokens['input_ids'], labels=tokens['input_ids'])\n",
    "    logit = sent_output.logits\n",
    "#     print(f'{len(raw_tokens[\"input_ids\"])} raw tokens')\n",
    "#     print(f'logit shape = {logit.shape}')\n",
    "    # convert to log-probability per-token  => log-softmax!\n",
    "    logit = torch.log(torch.softmax(logit, dim=2))\n",
    "    prob = logit[:, list(range(len(raw_tokens['input_ids']))), raw_tokens['input_ids']].sum()\n",
    "    prob = float(prob)\n",
    "    ppl = float(torch.exp(sent_output.loss))\n",
    "    return prob, ppl"
   ]
  },
  {
   "cell_type": "code",
   "execution_count": 51,
   "metadata": {
    "scrolled": true
   },
   "outputs": [
    {
     "name": "stderr",
     "output_type": "stream",
     "text": [
      "100%|██████████| 5640/5640 [05:15<00:00, 17.85it/s]\n"
     ]
    }
   ],
   "source": [
    "from tqdm import tqdm\n",
    "tqdm.pandas()\n",
    "relationship_sent_data = relationship_sent_data.assign(**{\n",
    "    'prob_ppl' : relationship_sent_data.loc[:, 'sent'].progress_apply(lambda x: compute_prob(x, model_pipeline))\n",
    "})\n",
    "## separate prob, ppl\n",
    "relationship_sent_data = relationship_sent_data.assign(**{\n",
    "    'prob' : relationship_sent_data.loc[:, 'prob_ppl'].apply(lambda x: x[0]),\n",
    "    'ppl' : relationship_sent_data.loc[:, 'prob_ppl'].apply(lambda x: x[1]),\n",
    "}).drop(['prob_ppl'], axis=1)\n",
    "## save!\n",
    "relationship_sent_data.to_csv('../../data/multilingual_occupation_relationship_LM_probs.gz', sep='\\t', compression='gzip')"
   ]
  },
  {
   "cell_type": "markdown",
   "metadata": {},
   "source": [
    "Let's look at the overall probability difference."
   ]
  },
  {
   "cell_type": "code",
   "execution_count": 64,
   "metadata": {
    "scrolled": true
   },
   "outputs": [
    {
     "data": {
      "image/png": "[encoded data removed]",
      "text/plain": [
       "<Figure size 432x288 with 1 Axes>"
      ]
     },
     "metadata": {
      "needs_background": "light"
     },
     "output_type": "display_data"
    },
    {
     "name": "stdout",
     "output_type": "stream",
     "text": [
      "stat = prob; mean diff = -1.638 (test stat = -7.663; p = 2.486E-14)\n"
     ]
    },
    {
     "data": {
      "image/png": "[encoded data removed]",
      "text/plain": [
       "<Figure size 432x288 with 1 Axes>"
      ]
     },
     "metadata": {
      "needs_background": "light"
     },
     "output_type": "display_data"
    },
    {
     "name": "stdout",
     "output_type": "stream",
     "text": [
      "stat = ppl; mean diff = -0.229 (test stat = -8.337; p = 1.173E-16)\n"
     ]
    }
   ],
   "source": [
    "import matplotlib\n",
    "%matplotlib inline\n",
    "import matplotlib.pyplot as plt\n",
    "import seaborn as sns\n",
    "prob_stats = ['prob', 'ppl']\n",
    "for prob_stat_i in prob_stats:\n",
    "    sns.barplot(data=relationship_sent_data, y='relationship_type', x=prob_stat_i)\n",
    "    plt.show()\n",
    "    ## significance testing\n",
    "    from scipy.stats import ttest_rel\n",
    "    aligned_same_gender_data = relationship_sent_data[relationship_sent_data.loc[:, 'relationship_type']=='same_gender'].sort_values(['lang', 'subject_word', 'relationship_word', 'subject_gender'])\n",
    "    aligned_diff_gender_data = relationship_sent_data[relationship_sent_data.loc[:, 'relationship_type']=='diff_gender'].sort_values(['lang', 'subject_word', 'relationship_word', 'subject_gender'])\n",
    "    same_gender_probs = aligned_same_gender_data.loc[:, prob_stat_i]\n",
    "    diff_gender_probs = aligned_diff_gender_data.loc[:, prob_stat_i]\n",
    "    mean_diff = (same_gender_probs - diff_gender_probs).mean()\n",
    "    test_stat, p_val = ttest_rel(same_gender_probs, diff_gender_probs)\n",
    "    print(f'stat = {prob_stat_i}; mean diff = {mean_diff:.3f} (test stat = {test_stat:.3f}; p = {p_val:.3E})')"
   ]
  },
  {
   "cell_type": "markdown",
   "metadata": {},
   "source": [
    "Great! The differences are significant. It seems like PPL is doing something weird because it shouldn't be higher for `diff_gender`."
   ]
  },
  {
   "cell_type": "code",
   "execution_count": 98,
   "metadata": {
    "scrolled": true
   },
   "outputs": [
    {
     "data": {
      "image/png": "[encoded data removed]",
      "text/plain": [
       "<Figure size 360x108 with 1 Axes>"
      ]
     },
     "metadata": {
      "needs_background": "light"
     },
     "output_type": "display_data"
    },
    {
     "data": {
      "image/png": "[encoded data removed]",
      "text/plain": [
       "<Figure size 360x72 with 1 Axes>"
      ]
     },
     "metadata": {
      "needs_background": "light"
     },
     "output_type": "display_data"
    },
    {
     "data": {
      "image/png": "[encoded data removed]",
      "text/plain": [
       "<Figure size 360x108 with 1 Axes>"
      ]
     },
     "metadata": {
      "needs_background": "light"
     },
     "output_type": "display_data"
    },
    {
     "data": {
      "image/png": "[encoded data removed]",
      "text/plain": [
       "<Figure size 360x792 with 1 Axes>"
      ]
     },
     "metadata": {
      "needs_background": "light"
     },
     "output_type": "display_data"
    }
   ],
   "source": [
    "## breakdown by language, gender, target, relationship, source occupation\n",
    "relationship_vars = ['lang', 'subject_gender', 'relationship_word_category', 'subject_word_en']\n",
    "width = 5\n",
    "height = 0.5\n",
    "for var_i in relationship_vars:\n",
    "    vals_i = relationship_sent_data.loc[:, var_i].nunique()\n",
    "    height_i = vals_i*height\n",
    "    if(vals_i > 10):\n",
    "        height_i = height_i * 0.5\n",
    "    plt.figure(figsize=(width, height_i))\n",
    "    val_order_i = list(sorted(relationship_sent_data.loc[:, var_i].unique()))\n",
    "    sns.barplot(data=relationship_sent_data, x='prob', y=var_i, order=val_order_i, hue='relationship_type')\n",
    "    plt.legend(loc='upper right')\n",
    "    plt.show()\n",
    "    ## TODO: significance tests between  types"
   ]
  },
  {
   "cell_type": "markdown",
   "metadata": {},
   "source": [
    "OK! We can see pretty clearly that same-gender relationships are dispreferred pretty much across the board.\n",
    "\n",
    "Trends in same - diff difference:\n",
    "- gender: `male` > `female`\n",
    "- lang: `it` >>> `fr` ~ `es`\n",
    "- target: `ENGAGE` > `FRIEND` ~ `SPOUSE`\n",
    "- occupation: `author`, `dancer`, `engineer`,`landlord`, `nurse`, `painter`, `pharmacist`, `surgeon`, `student`"
   ]
  },
  {
   "cell_type": "code",
   "execution_count": null,
   "metadata": {},
   "outputs": [],
   "source": [
    "## TODO: correlate (same gender - diff gender) prob differences with translation accuracy differences => is it more likely English LM or source LM that leads to translation errors??\n"
   ]
  }
 ],
 "metadata": {
  "kernelspec": {
   "display_name": "Python [conda env:py3] *",
   "language": "python",
   "name": "conda-env-py3-py"
  },
  "language_info": {
   "codemirror_mode": {
    "name": "ipython",
    "version": 3
   },
   "file_extension": ".py",
   "mimetype": "text/x-python",
   "name": "python",
   "nbconvert_exporter": "python",
   "pygments_lexer": "ipython3",
   "version": "3.8.5"
  }
 },
 "nbformat": 4,
 "nbformat_minor": 4
}
